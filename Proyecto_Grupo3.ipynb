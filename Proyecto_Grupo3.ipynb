{
  "nbformat": 4,
  "nbformat_minor": 0,
  "metadata": {
    "colab": {
      "name": "TallerPython.ipynb",
      "provenance": [],
      "collapsed_sections": [
        "NTZwLmgBblRV"
      ],
      "include_colab_link": true
    },
    "kernelspec": {
      "display_name": "Python 3",
      "name": "python3"
    },
    "language_info": {
      "name": "python"
    }
  },
  "cells": [
    {
      "cell_type": "markdown",
      "metadata": {
        "id": "view-in-github",
        "colab_type": "text"
      },
      "source": [
        "<a href=\"https://colab.research.google.com/github/lauravalentinamm/Tareas_Mineria_Python/blob/main/Proyecto_Grupo3.ipynb\" target=\"_parent\"><img src=\"https://colab.research.google.com/assets/colab-badge.svg\" alt=\"Open In Colab\"/></a>"
      ]
    },
    {
      "cell_type": "markdown",
      "metadata": {
        "id": "mc-SLJoT5EtM"
      },
      "source": [
        "### RIESGO DE IMPAGO"
      ]
    },
    {
      "cell_type": "markdown",
      "metadata": {
        "id": "EvF9ZgBU5UnS"
      },
      "source": [
        "Integrantes Grupo 3: Saray Daniella Garcia, Laura Valentina Montes Montes,Juan Felipe Vargas, Hasbleidy Andrea Sastoque"
      ]
    },
    {
      "cell_type": "markdown",
      "metadata": {
        "id": "rIgmR6AL5XCM"
      },
      "source": [
        "La presente base de datos es tomada de la plataforma kaggle (https://www.kaggle.com/gauravduttakiit/loan-defaulter) contiene 122 columnas y 307511 filas que corresponden a un cliente en especifico que toma un servicio financiero como lo es el prestamo o credito, el objetivo del presente trabajo es buscar y analizar el mejor metodo que nos permita minimizar el riesgo de perder dinero al otorgar préstamos a clientes por parte de las entidades.\n",
        "\n",
        "Cabe resaltar que de las 122 columnas se van a trabajar 24 debido a que consideramos que son las mas importantes."
      ]
    },
    {
      "cell_type": "code",
      "metadata": {
        "id": "eg0F5rXNpicF"
      },
      "source": [
        "%matplotlib inline\n",
        "import matplotlib.pyplot as plt\n",
        "from mpl_toolkits.mplot3d import Axes3D\n",
        "from matplotlib import cm\n",
        "import itertools\n",
        "\n",
        "import pandas as pd\n",
        "import numpy as np\n",
        "import seaborn as sns\n",
        "import matplotlib as plt\n",
        "import matplotlib.pyplot as plt\n",
        "import altair as alt\n",
        "from vega_datasets import data\n",
        "\n",
        "from sklearn.model_selection import train_test_split\n",
        "from sklearn import metrics\n",
        "import numpy as np\n"
      ],
      "execution_count": 43,
      "outputs": []
    },
    {
      "cell_type": "code",
      "metadata": {
        "id": "YH_8rIDH-x7G"
      },
      "source": [
        "urlDataset = 'https://raw.githubusercontent.com/Hassg99/Trabajo_Visualizacion/main/datos.csv'\n",
        "datos = pd.read_csv(urlDataset,sep =\";\",\n",
        "                   index_col = False,\n",
        "                   error_bad_lines=False)"
      ],
      "execution_count": 44,
      "outputs": []
    },
    {
      "cell_type": "code",
      "metadata": {
        "colab": {
          "base_uri": "https://localhost:8080/"
        },
        "id": "1-Z4TveivohC",
        "outputId": "e9810447-03ae-4f74-e672-9972900ad872"
      },
      "source": [
        "datos.columns.values"
      ],
      "execution_count": 46,
      "outputs": [
        {
          "output_type": "execute_result",
          "data": {
            "text/plain": [
              "array(['ID', 'TARGET', 'CONTRACT_TYPE', 'SEX', 'OWN_REALTY', 'CHILDREN',\n",
              "       'INCOME', 'CREDIT', 'INCOME_TYPE', 'EDUCATION_TYPE',\n",
              "       'FAMILY_STATUS', 'HOUSING_TYPE', 'BIRTH', 'EMPLOYED', 'EMP_PHONE',\n",
              "       'CONT_MOBILE', 'EMAIL', 'OCCUPATION_TYPE', 'WEEKDAY',\n",
              "       'REG_REGION_NOT_LIVE_REGION', 'DEF_30_CNT', 'DEF_60_CNT',\n",
              "       'DAYS_LAST_PHONE_CHANGE', 'BUREAU_3'], dtype=object)"
            ]
          },
          "metadata": {},
          "execution_count": 46
        }
      ]
    },
    {
      "cell_type": "markdown",
      "metadata": {
        "id": "rCZQggg9whHA"
      },
      "source": [
        "**Variables a trabajar**"
      ]
    },
    {
      "cell_type": "code",
      "metadata": {
        "colab": {
          "base_uri": "https://localhost:8080/",
          "height": 204
        },
        "id": "Oh3AnsE3vIsX",
        "outputId": "87c26add-c4dd-486a-8bbf-9e410b8826a1"
      },
      "source": [
        "feature_cols = ['ID', 'TARGET', 'CONTRACT_TYPE', 'SEX','CHILDREN',\n",
        "                'INCOME', 'CREDIT', 'INCOME_TYPE', 'EDUCATION_TYPE',\n",
        "                'FAMILY_STATUS', 'HOUSING_TYPE','BIRTH','BUREAU_3']\n",
        "datos = datos[feature_cols]\n",
        "datos.head()"
      ],
      "execution_count": 47,
      "outputs": [
        {
          "output_type": "execute_result",
          "data": {
            "text/html": [
              "<div>\n",
              "<style scoped>\n",
              "    .dataframe tbody tr th:only-of-type {\n",
              "        vertical-align: middle;\n",
              "    }\n",
              "\n",
              "    .dataframe tbody tr th {\n",
              "        vertical-align: top;\n",
              "    }\n",
              "\n",
              "    .dataframe thead th {\n",
              "        text-align: right;\n",
              "    }\n",
              "</style>\n",
              "<table border=\"1\" class=\"dataframe\">\n",
              "  <thead>\n",
              "    <tr style=\"text-align: right;\">\n",
              "      <th></th>\n",
              "      <th>ID</th>\n",
              "      <th>TARGET</th>\n",
              "      <th>CONTRACT_TYPE</th>\n",
              "      <th>SEX</th>\n",
              "      <th>CHILDREN</th>\n",
              "      <th>INCOME</th>\n",
              "      <th>CREDIT</th>\n",
              "      <th>INCOME_TYPE</th>\n",
              "      <th>EDUCATION_TYPE</th>\n",
              "      <th>FAMILY_STATUS</th>\n",
              "      <th>HOUSING_TYPE</th>\n",
              "      <th>BIRTH</th>\n",
              "      <th>BUREAU_3</th>\n",
              "    </tr>\n",
              "  </thead>\n",
              "  <tbody>\n",
              "    <tr>\n",
              "      <th>0</th>\n",
              "      <td>100002</td>\n",
              "      <td>1</td>\n",
              "      <td>Cash loans</td>\n",
              "      <td>M</td>\n",
              "      <td>0</td>\n",
              "      <td>202500</td>\n",
              "      <td>406598</td>\n",
              "      <td>Workingg</td>\n",
              "      <td>Secondary / secondary special</td>\n",
              "      <td>Single / not married</td>\n",
              "      <td>House / apartment</td>\n",
              "      <td>26</td>\n",
              "      <td>0.0</td>\n",
              "    </tr>\n",
              "    <tr>\n",
              "      <th>1</th>\n",
              "      <td>100003</td>\n",
              "      <td>0</td>\n",
              "      <td>Cash loans</td>\n",
              "      <td>F</td>\n",
              "      <td>0</td>\n",
              "      <td>270000</td>\n",
              "      <td>1293503</td>\n",
              "      <td>State servant</td>\n",
              "      <td>Higher education</td>\n",
              "      <td>Married</td>\n",
              "      <td>House / apartment</td>\n",
              "      <td>46</td>\n",
              "      <td>0.0</td>\n",
              "    </tr>\n",
              "    <tr>\n",
              "      <th>2</th>\n",
              "      <td>100004</td>\n",
              "      <td>0</td>\n",
              "      <td>Revolving loans</td>\n",
              "      <td>M</td>\n",
              "      <td>0</td>\n",
              "      <td>67500</td>\n",
              "      <td>135000</td>\n",
              "      <td>Workingg</td>\n",
              "      <td>Secondary / secondary special</td>\n",
              "      <td>Single / not married</td>\n",
              "      <td>House / apartment</td>\n",
              "      <td>52</td>\n",
              "      <td>0.0</td>\n",
              "    </tr>\n",
              "    <tr>\n",
              "      <th>3</th>\n",
              "      <td>100006</td>\n",
              "      <td>0</td>\n",
              "      <td>Cash loans</td>\n",
              "      <td>F</td>\n",
              "      <td>0</td>\n",
              "      <td>135000</td>\n",
              "      <td>312683</td>\n",
              "      <td>Workingg</td>\n",
              "      <td>Secondary / secondary special</td>\n",
              "      <td>Civil marriage</td>\n",
              "      <td>House / apartment</td>\n",
              "      <td>52</td>\n",
              "      <td>NaN</td>\n",
              "    </tr>\n",
              "    <tr>\n",
              "      <th>4</th>\n",
              "      <td>100007</td>\n",
              "      <td>0</td>\n",
              "      <td>Cash loans</td>\n",
              "      <td>M</td>\n",
              "      <td>0</td>\n",
              "      <td>121500</td>\n",
              "      <td>513000</td>\n",
              "      <td>Workingg</td>\n",
              "      <td>Secondary / secondary special</td>\n",
              "      <td>Single / not married</td>\n",
              "      <td>House / apartment</td>\n",
              "      <td>55</td>\n",
              "      <td>0.0</td>\n",
              "    </tr>\n",
              "  </tbody>\n",
              "</table>\n",
              "</div>"
            ],
            "text/plain": [
              "       ID  TARGET    CONTRACT_TYPE  ...       HOUSING_TYPE  BIRTH  BUREAU_3\n",
              "0  100002       1       Cash loans  ...  House / apartment     26       0.0\n",
              "1  100003       0       Cash loans  ...  House / apartment     46       0.0\n",
              "2  100004       0  Revolving loans  ...  House / apartment     52       0.0\n",
              "3  100006       0       Cash loans  ...  House / apartment     52       NaN\n",
              "4  100007       0       Cash loans  ...  House / apartment     55       0.0\n",
              "\n",
              "[5 rows x 13 columns]"
            ]
          },
          "metadata": {},
          "execution_count": 47
        }
      ]
    },
    {
      "cell_type": "code",
      "metadata": {
        "colab": {
          "base_uri": "https://localhost:8080/",
          "height": 297
        },
        "id": "YTY46qrpJWln",
        "outputId": "78cca367-275d-4cf0-86ad-07719ce707b0"
      },
      "source": [
        "#Estadisticas descriptivas de los datos numericos de la base de datos\n",
        "datos.describe()"
      ],
      "execution_count": 48,
      "outputs": [
        {
          "output_type": "execute_result",
          "data": {
            "text/html": [
              "<div>\n",
              "<style scoped>\n",
              "    .dataframe tbody tr th:only-of-type {\n",
              "        vertical-align: middle;\n",
              "    }\n",
              "\n",
              "    .dataframe tbody tr th {\n",
              "        vertical-align: top;\n",
              "    }\n",
              "\n",
              "    .dataframe thead th {\n",
              "        text-align: right;\n",
              "    }\n",
              "</style>\n",
              "<table border=\"1\" class=\"dataframe\">\n",
              "  <thead>\n",
              "    <tr style=\"text-align: right;\">\n",
              "      <th></th>\n",
              "      <th>ID</th>\n",
              "      <th>TARGET</th>\n",
              "      <th>CHILDREN</th>\n",
              "      <th>INCOME</th>\n",
              "      <th>CREDIT</th>\n",
              "      <th>BIRTH</th>\n",
              "      <th>BUREAU_3</th>\n",
              "    </tr>\n",
              "  </thead>\n",
              "  <tbody>\n",
              "    <tr>\n",
              "      <th>count</th>\n",
              "      <td>307511.000000</td>\n",
              "      <td>307511.000000</td>\n",
              "      <td>307511.000000</td>\n",
              "      <td>3.075110e+05</td>\n",
              "      <td>3.075110e+05</td>\n",
              "      <td>307511.000000</td>\n",
              "      <td>265992.000000</td>\n",
              "    </tr>\n",
              "    <tr>\n",
              "      <th>mean</th>\n",
              "      <td>278180.518577</td>\n",
              "      <td>0.080729</td>\n",
              "      <td>0.417052</td>\n",
              "      <td>1.736934e+05</td>\n",
              "      <td>5.990260e+05</td>\n",
              "      <td>44.048320</td>\n",
              "      <td>0.265474</td>\n",
              "    </tr>\n",
              "    <tr>\n",
              "      <th>std</th>\n",
              "      <td>102790.175348</td>\n",
              "      <td>0.272419</td>\n",
              "      <td>0.722121</td>\n",
              "      <td>1.124048e+06</td>\n",
              "      <td>4.024908e+05</td>\n",
              "      <td>12.126014</td>\n",
              "      <td>0.794056</td>\n",
              "    </tr>\n",
              "    <tr>\n",
              "      <th>min</th>\n",
              "      <td>100002.000000</td>\n",
              "      <td>0.000000</td>\n",
              "      <td>0.000000</td>\n",
              "      <td>2.565000e+04</td>\n",
              "      <td>4.500000e+04</td>\n",
              "      <td>20.000000</td>\n",
              "      <td>0.000000</td>\n",
              "    </tr>\n",
              "    <tr>\n",
              "      <th>25%</th>\n",
              "      <td>189145.500000</td>\n",
              "      <td>0.000000</td>\n",
              "      <td>0.000000</td>\n",
              "      <td>1.125000e+05</td>\n",
              "      <td>2.700000e+05</td>\n",
              "      <td>34.000000</td>\n",
              "      <td>0.000000</td>\n",
              "    </tr>\n",
              "    <tr>\n",
              "      <th>50%</th>\n",
              "      <td>278202.000000</td>\n",
              "      <td>0.000000</td>\n",
              "      <td>0.000000</td>\n",
              "      <td>1.471500e+05</td>\n",
              "      <td>5.135310e+05</td>\n",
              "      <td>43.000000</td>\n",
              "      <td>0.000000</td>\n",
              "    </tr>\n",
              "    <tr>\n",
              "      <th>75%</th>\n",
              "      <td>367142.500000</td>\n",
              "      <td>0.000000</td>\n",
              "      <td>1.000000</td>\n",
              "      <td>2.025000e+05</td>\n",
              "      <td>8.086500e+05</td>\n",
              "      <td>54.000000</td>\n",
              "      <td>0.000000</td>\n",
              "    </tr>\n",
              "    <tr>\n",
              "      <th>max</th>\n",
              "      <td>456255.000000</td>\n",
              "      <td>1.000000</td>\n",
              "      <td>19.000000</td>\n",
              "      <td>3.368359e+08</td>\n",
              "      <td>4.050000e+06</td>\n",
              "      <td>70.000000</td>\n",
              "      <td>261.000000</td>\n",
              "    </tr>\n",
              "  </tbody>\n",
              "</table>\n",
              "</div>"
            ],
            "text/plain": [
              "                  ID         TARGET  ...          BIRTH       BUREAU_3\n",
              "count  307511.000000  307511.000000  ...  307511.000000  265992.000000\n",
              "mean   278180.518577       0.080729  ...      44.048320       0.265474\n",
              "std    102790.175348       0.272419  ...      12.126014       0.794056\n",
              "min    100002.000000       0.000000  ...      20.000000       0.000000\n",
              "25%    189145.500000       0.000000  ...      34.000000       0.000000\n",
              "50%    278202.000000       0.000000  ...      43.000000       0.000000\n",
              "75%    367142.500000       0.000000  ...      54.000000       0.000000\n",
              "max    456255.000000       1.000000  ...      70.000000     261.000000\n",
              "\n",
              "[8 rows x 7 columns]"
            ]
          },
          "metadata": {},
          "execution_count": 48
        }
      ]
    },
    {
      "cell_type": "markdown",
      "metadata": {
        "id": "JGLGRpq6UA2B"
      },
      "source": [
        "**Datos Faltantes**"
      ]
    },
    {
      "cell_type": "markdown",
      "metadata": {
        "id": "FO5ilWMNUFgJ"
      },
      "source": [
        "**1)** BUREAU_3: Con los datos de la variable Buró se asume la categoria de \"9999\" puesto que puden ser utiles al momento de identificar los clientes con un mayor riesgo de impago.\n",
        "\n",
        "**2)** SEX: Se identifico que los datos faltantes de la variable sexo salen como 'XNA' y por tal motivo se asume la categoria 'DatoFaltante'."
      ]
    },
    {
      "cell_type": "code",
      "metadata": {
        "colab": {
          "base_uri": "https://localhost:8080/"
        },
        "id": "Cz1DU0QXZHDl",
        "outputId": "4b8ba700-c995-40c0-ac38-cc67f665d028"
      },
      "source": [
        "#Datos vacios:\n",
        "for col in datos.columns:\n",
        "    num_missing = datos[col].isnull().sum() \n",
        "\n",
        "    if num_missing > 0:\n",
        "      pct_missing = np.mean(datos[col].isnull())\n",
        "      print('{} - {}% - {}'.format(col,round(pct_missing*100, 2),num_missing))"
      ],
      "execution_count": 49,
      "outputs": [
        {
          "output_type": "stream",
          "name": "stdout",
          "text": [
            "BUREAU_3 - 13.5% - 41519\n"
          ]
        }
      ]
    },
    {
      "cell_type": "code",
      "metadata": {
        "colab": {
          "base_uri": "https://localhost:8080/"
        },
        "id": "ta2BOPKmaC4e",
        "outputId": "91527b5c-103e-4ff5-fae0-9ba727b895aa"
      },
      "source": [
        "datos['BUREAU_3'] = datos['BUREAU_3'].fillna(datos['BUREAU_3'].mean())\n",
        "datos['SEX'][datos['SEX']=='XNA'] = 'DatoFaltante'"
      ],
      "execution_count": 50,
      "outputs": [
        {
          "output_type": "stream",
          "name": "stderr",
          "text": [
            "/usr/local/lib/python3.7/dist-packages/ipykernel_launcher.py:1: SettingWithCopyWarning: \n",
            "A value is trying to be set on a copy of a slice from a DataFrame.\n",
            "Try using .loc[row_indexer,col_indexer] = value instead\n",
            "\n",
            "See the caveats in the documentation: https://pandas.pydata.org/pandas-docs/stable/user_guide/indexing.html#returning-a-view-versus-a-copy\n",
            "  \"\"\"Entry point for launching an IPython kernel.\n",
            "/usr/local/lib/python3.7/dist-packages/ipykernel_launcher.py:2: SettingWithCopyWarning: \n",
            "A value is trying to be set on a copy of a slice from a DataFrame\n",
            "\n",
            "See the caveats in the documentation: https://pandas.pydata.org/pandas-docs/stable/user_guide/indexing.html#returning-a-view-versus-a-copy\n",
            "  \n",
            "/usr/local/lib/python3.7/dist-packages/pandas/core/series.py:1021: SettingWithCopyWarning: \n",
            "A value is trying to be set on a copy of a slice from a DataFrame\n",
            "\n",
            "See the caveats in the documentation: https://pandas.pydata.org/pandas-docs/stable/user_guide/indexing.html#returning-a-view-versus-a-copy\n",
            "  self._where(~key, value, inplace=True)\n"
          ]
        }
      ]
    },
    {
      "cell_type": "code",
      "metadata": {
        "colab": {
          "base_uri": "https://localhost:8080/",
          "height": 241
        },
        "id": "9PV7BYkHfDti",
        "outputId": "b77ea0ac-ec56-4573-8047-2fd837968bea"
      },
      "source": [
        "datos[datos['SEX']=='DatoFaltante']"
      ],
      "execution_count": null,
      "outputs": [
        {
          "output_type": "execute_result",
          "data": {
            "text/html": [
              "<div>\n",
              "<style scoped>\n",
              "    .dataframe tbody tr th:only-of-type {\n",
              "        vertical-align: middle;\n",
              "    }\n",
              "\n",
              "    .dataframe tbody tr th {\n",
              "        vertical-align: top;\n",
              "    }\n",
              "\n",
              "    .dataframe thead th {\n",
              "        text-align: right;\n",
              "    }\n",
              "</style>\n",
              "<table border=\"1\" class=\"dataframe\">\n",
              "  <thead>\n",
              "    <tr style=\"text-align: right;\">\n",
              "      <th></th>\n",
              "      <th>ID</th>\n",
              "      <th>TARGET</th>\n",
              "      <th>CONTRACT_TYPE</th>\n",
              "      <th>SEX</th>\n",
              "      <th>CHILDREN</th>\n",
              "      <th>INCOME</th>\n",
              "      <th>CREDIT</th>\n",
              "      <th>INCOME_TYPE</th>\n",
              "      <th>EDUCATION_TYPE</th>\n",
              "      <th>FAMILY_STATUS</th>\n",
              "      <th>HOUSING_TYPE</th>\n",
              "      <th>BIRTH</th>\n",
              "      <th>BUREAU_3</th>\n",
              "    </tr>\n",
              "  </thead>\n",
              "  <tbody>\n",
              "    <tr>\n",
              "      <th>35657</th>\n",
              "      <td>141289</td>\n",
              "      <td>0</td>\n",
              "      <td>Revolving loans</td>\n",
              "      <td>DatoFaltante</td>\n",
              "      <td>0</td>\n",
              "      <td>207000</td>\n",
              "      <td>382500</td>\n",
              "      <td>Workingg</td>\n",
              "      <td>Secondary / secondary special</td>\n",
              "      <td>Married</td>\n",
              "      <td>Municipal apartment</td>\n",
              "      <td>56</td>\n",
              "      <td>0.0</td>\n",
              "    </tr>\n",
              "    <tr>\n",
              "      <th>38566</th>\n",
              "      <td>144669</td>\n",
              "      <td>0</td>\n",
              "      <td>Revolving loans</td>\n",
              "      <td>DatoFaltante</td>\n",
              "      <td>2</td>\n",
              "      <td>157500</td>\n",
              "      <td>270000</td>\n",
              "      <td>Workingg</td>\n",
              "      <td>Secondary / secondary special</td>\n",
              "      <td>Married</td>\n",
              "      <td>House / apartment</td>\n",
              "      <td>38</td>\n",
              "      <td>0.0</td>\n",
              "    </tr>\n",
              "    <tr>\n",
              "      <th>83382</th>\n",
              "      <td>196708</td>\n",
              "      <td>0</td>\n",
              "      <td>Revolving loans</td>\n",
              "      <td>DatoFaltante</td>\n",
              "      <td>1</td>\n",
              "      <td>135000</td>\n",
              "      <td>405000</td>\n",
              "      <td>Workingg</td>\n",
              "      <td>Higher education</td>\n",
              "      <td>Married</td>\n",
              "      <td>House / apartment</td>\n",
              "      <td>29</td>\n",
              "      <td>0.0</td>\n",
              "    </tr>\n",
              "    <tr>\n",
              "      <th>189640</th>\n",
              "      <td>319880</td>\n",
              "      <td>0</td>\n",
              "      <td>Revolving loans</td>\n",
              "      <td>DatoFaltante</td>\n",
              "      <td>0</td>\n",
              "      <td>247500</td>\n",
              "      <td>540000</td>\n",
              "      <td>Commercial associate</td>\n",
              "      <td>Incomplete higher</td>\n",
              "      <td>Civil marriage</td>\n",
              "      <td>House / apartment</td>\n",
              "      <td>26</td>\n",
              "      <td>1.0</td>\n",
              "    </tr>\n",
              "  </tbody>\n",
              "</table>\n",
              "</div>"
            ],
            "text/plain": [
              "            ID  TARGET    CONTRACT_TYPE  ...         HOUSING_TYPE  BIRTH  BUREAU_3\n",
              "35657   141289       0  Revolving loans  ...  Municipal apartment     56       0.0\n",
              "38566   144669       0  Revolving loans  ...    House / apartment     38       0.0\n",
              "83382   196708       0  Revolving loans  ...    House / apartment     29       0.0\n",
              "189640  319880       0  Revolving loans  ...    House / apartment     26       1.0\n",
              "\n",
              "[4 rows x 13 columns]"
            ]
          },
          "metadata": {},
          "execution_count": 14
        }
      ]
    },
    {
      "cell_type": "markdown",
      "metadata": {
        "id": "MD_7dLKabC9K"
      },
      "source": [
        "**Datos duplicados**"
      ]
    },
    {
      "cell_type": "code",
      "metadata": {
        "colab": {
          "base_uri": "https://localhost:8080/",
          "height": 49
        },
        "id": "-W-5VANdbCej",
        "outputId": "8f3e0056-31b0-4d8f-9768-9a8f5a12e3b6"
      },
      "source": [
        "datos[datos.duplicated()] #No hay datos duplicados"
      ],
      "execution_count": null,
      "outputs": [
        {
          "output_type": "execute_result",
          "data": {
            "text/html": [
              "<div>\n",
              "<style scoped>\n",
              "    .dataframe tbody tr th:only-of-type {\n",
              "        vertical-align: middle;\n",
              "    }\n",
              "\n",
              "    .dataframe tbody tr th {\n",
              "        vertical-align: top;\n",
              "    }\n",
              "\n",
              "    .dataframe thead th {\n",
              "        text-align: right;\n",
              "    }\n",
              "</style>\n",
              "<table border=\"1\" class=\"dataframe\">\n",
              "  <thead>\n",
              "    <tr style=\"text-align: right;\">\n",
              "      <th></th>\n",
              "      <th>ID</th>\n",
              "      <th>TARGET</th>\n",
              "      <th>CONTRACT_TYPE</th>\n",
              "      <th>SEX</th>\n",
              "      <th>CHILDREN</th>\n",
              "      <th>INCOME</th>\n",
              "      <th>CREDIT</th>\n",
              "      <th>INCOME_TYPE</th>\n",
              "      <th>EDUCATION_TYPE</th>\n",
              "      <th>FAMILY_STATUS</th>\n",
              "      <th>HOUSING_TYPE</th>\n",
              "      <th>BIRTH</th>\n",
              "      <th>BUREAU_3</th>\n",
              "    </tr>\n",
              "  </thead>\n",
              "  <tbody>\n",
              "  </tbody>\n",
              "</table>\n",
              "</div>"
            ],
            "text/plain": [
              "Empty DataFrame\n",
              "Columns: [ID, TARGET, CONTRACT_TYPE, SEX, CHILDREN, INCOME, CREDIT, INCOME_TYPE, EDUCATION_TYPE, FAMILY_STATUS, HOUSING_TYPE, BIRTH, BUREAU_3]\n",
              "Index: []"
            ]
          },
          "metadata": {},
          "execution_count": 15
        }
      ]
    },
    {
      "cell_type": "markdown",
      "metadata": {
        "id": "eqNqdzNmhJin"
      },
      "source": [
        "**Normalizacion**"
      ]
    },
    {
      "cell_type": "code",
      "metadata": {
        "colab": {
          "base_uri": "https://localhost:8080/",
          "height": 493
        },
        "id": "ihhyar8xhGmZ",
        "outputId": "6fd7b0aa-88bc-4df7-8978-019335990ee8"
      },
      "source": [
        "datos['INCOME_N'] = (datos['INCOME'] - datos['INCOME'].mean())/ datos['INCOME'].std()\n",
        "datos['CREDIT_N'] = (datos['CREDIT'] - datos['CREDIT'].mean())/ datos['CREDIT'].std()\n",
        "\n",
        "datos.head()"
      ],
      "execution_count": null,
      "outputs": [
        {
          "output_type": "stream",
          "name": "stderr",
          "text": [
            "/usr/local/lib/python3.7/dist-packages/ipykernel_launcher.py:1: SettingWithCopyWarning: \n",
            "A value is trying to be set on a copy of a slice from a DataFrame.\n",
            "Try using .loc[row_indexer,col_indexer] = value instead\n",
            "\n",
            "See the caveats in the documentation: https://pandas.pydata.org/pandas-docs/stable/user_guide/indexing.html#returning-a-view-versus-a-copy\n",
            "  \"\"\"Entry point for launching an IPython kernel.\n",
            "/usr/local/lib/python3.7/dist-packages/ipykernel_launcher.py:2: SettingWithCopyWarning: \n",
            "A value is trying to be set on a copy of a slice from a DataFrame.\n",
            "Try using .loc[row_indexer,col_indexer] = value instead\n",
            "\n",
            "See the caveats in the documentation: https://pandas.pydata.org/pandas-docs/stable/user_guide/indexing.html#returning-a-view-versus-a-copy\n",
            "  \n"
          ]
        },
        {
          "output_type": "execute_result",
          "data": {
            "text/html": [
              "<div>\n",
              "<style scoped>\n",
              "    .dataframe tbody tr th:only-of-type {\n",
              "        vertical-align: middle;\n",
              "    }\n",
              "\n",
              "    .dataframe tbody tr th {\n",
              "        vertical-align: top;\n",
              "    }\n",
              "\n",
              "    .dataframe thead th {\n",
              "        text-align: right;\n",
              "    }\n",
              "</style>\n",
              "<table border=\"1\" class=\"dataframe\">\n",
              "  <thead>\n",
              "    <tr style=\"text-align: right;\">\n",
              "      <th></th>\n",
              "      <th>ID</th>\n",
              "      <th>TARGET</th>\n",
              "      <th>CONTRACT_TYPE</th>\n",
              "      <th>SEX</th>\n",
              "      <th>CHILDREN</th>\n",
              "      <th>INCOME</th>\n",
              "      <th>CREDIT</th>\n",
              "      <th>INCOME_TYPE</th>\n",
              "      <th>EDUCATION_TYPE</th>\n",
              "      <th>FAMILY_STATUS</th>\n",
              "      <th>HOUSING_TYPE</th>\n",
              "      <th>BIRTH</th>\n",
              "      <th>BUREAU_3</th>\n",
              "      <th>INCOME_N</th>\n",
              "      <th>CREDIT_N</th>\n",
              "    </tr>\n",
              "  </thead>\n",
              "  <tbody>\n",
              "    <tr>\n",
              "      <th>0</th>\n",
              "      <td>100002</td>\n",
              "      <td>1</td>\n",
              "      <td>Cash loans</td>\n",
              "      <td>M</td>\n",
              "      <td>0</td>\n",
              "      <td>202500</td>\n",
              "      <td>406598</td>\n",
              "      <td>Workingg</td>\n",
              "      <td>Secondary / secondary special</td>\n",
              "      <td>Single / not married</td>\n",
              "      <td>House / apartment</td>\n",
              "      <td>26</td>\n",
              "      <td>0.000000</td>\n",
              "      <td>0.025628</td>\n",
              "      <td>-0.478093</td>\n",
              "    </tr>\n",
              "    <tr>\n",
              "      <th>1</th>\n",
              "      <td>100003</td>\n",
              "      <td>0</td>\n",
              "      <td>Cash loans</td>\n",
              "      <td>F</td>\n",
              "      <td>0</td>\n",
              "      <td>270000</td>\n",
              "      <td>1293503</td>\n",
              "      <td>State servant</td>\n",
              "      <td>Higher education</td>\n",
              "      <td>Married</td>\n",
              "      <td>House / apartment</td>\n",
              "      <td>46</td>\n",
              "      <td>0.000000</td>\n",
              "      <td>0.085678</td>\n",
              "      <td>1.725448</td>\n",
              "    </tr>\n",
              "    <tr>\n",
              "      <th>2</th>\n",
              "      <td>100004</td>\n",
              "      <td>0</td>\n",
              "      <td>Revolving loans</td>\n",
              "      <td>M</td>\n",
              "      <td>0</td>\n",
              "      <td>67500</td>\n",
              "      <td>135000</td>\n",
              "      <td>Workingg</td>\n",
              "      <td>Secondary / secondary special</td>\n",
              "      <td>Single / not married</td>\n",
              "      <td>House / apartment</td>\n",
              "      <td>52</td>\n",
              "      <td>0.000000</td>\n",
              "      <td>-0.094474</td>\n",
              "      <td>-1.152886</td>\n",
              "    </tr>\n",
              "    <tr>\n",
              "      <th>3</th>\n",
              "      <td>100006</td>\n",
              "      <td>0</td>\n",
              "      <td>Cash loans</td>\n",
              "      <td>F</td>\n",
              "      <td>0</td>\n",
              "      <td>135000</td>\n",
              "      <td>312683</td>\n",
              "      <td>Workingg</td>\n",
              "      <td>Secondary / secondary special</td>\n",
              "      <td>Civil marriage</td>\n",
              "      <td>House / apartment</td>\n",
              "      <td>52</td>\n",
              "      <td>0.265474</td>\n",
              "      <td>-0.034423</td>\n",
              "      <td>-0.711428</td>\n",
              "    </tr>\n",
              "    <tr>\n",
              "      <th>4</th>\n",
              "      <td>100007</td>\n",
              "      <td>0</td>\n",
              "      <td>Cash loans</td>\n",
              "      <td>M</td>\n",
              "      <td>0</td>\n",
              "      <td>121500</td>\n",
              "      <td>513000</td>\n",
              "      <td>Workingg</td>\n",
              "      <td>Secondary / secondary special</td>\n",
              "      <td>Single / not married</td>\n",
              "      <td>House / apartment</td>\n",
              "      <td>55</td>\n",
              "      <td>0.000000</td>\n",
              "      <td>-0.046433</td>\n",
              "      <td>-0.213734</td>\n",
              "    </tr>\n",
              "  </tbody>\n",
              "</table>\n",
              "</div>"
            ],
            "text/plain": [
              "       ID  TARGET    CONTRACT_TYPE SEX  ...  BIRTH  BUREAU_3  INCOME_N  CREDIT_N\n",
              "0  100002       1       Cash loans   M  ...     26  0.000000  0.025628 -0.478093\n",
              "1  100003       0       Cash loans   F  ...     46  0.000000  0.085678  1.725448\n",
              "2  100004       0  Revolving loans   M  ...     52  0.000000 -0.094474 -1.152886\n",
              "3  100006       0       Cash loans   F  ...     52  0.265474 -0.034423 -0.711428\n",
              "4  100007       0       Cash loans   M  ...     55  0.000000 -0.046433 -0.213734\n",
              "\n",
              "[5 rows x 15 columns]"
            ]
          },
          "metadata": {},
          "execution_count": 16
        }
      ]
    },
    {
      "cell_type": "code",
      "metadata": {
        "colab": {
          "base_uri": "https://localhost:8080/"
        },
        "id": "W8O9oibo1-It",
        "outputId": "7495f49b-b3b5-41d2-d878-b37992ad0ef1"
      },
      "source": [
        "datos['INCOME_N'].min()"
      ],
      "execution_count": null,
      "outputs": [
        {
          "output_type": "execute_result",
          "data": {
            "text/plain": [
              "-0.13170565882341195"
            ]
          },
          "metadata": {},
          "execution_count": 17
        }
      ]
    },
    {
      "cell_type": "markdown",
      "metadata": {
        "id": "Mx5QTdX3zJZ8"
      },
      "source": [
        "**Discretizacion por frecuencias**"
      ]
    },
    {
      "cell_type": "code",
      "metadata": {
        "colab": {
          "base_uri": "https://localhost:8080/"
        },
        "id": "qREvC2W3zIVV",
        "outputId": "f78b984f-b23a-4b9c-aaee-85e4f7cf8244"
      },
      "source": [
        "datos['Ingreso_intervalo'] = pd.qcut(datos['INCOME'], q=5, precision=1)\n",
        "datos['Ingreso_intervalo'] .value_counts()"
      ],
      "execution_count": null,
      "outputs": [
        {
          "output_type": "stream",
          "name": "stderr",
          "text": [
            "/usr/local/lib/python3.7/dist-packages/ipykernel_launcher.py:1: SettingWithCopyWarning: \n",
            "A value is trying to be set on a copy of a slice from a DataFrame.\n",
            "Try using .loc[row_indexer,col_indexer] = value instead\n",
            "\n",
            "See the caveats in the documentation: https://pandas.pydata.org/pandas-docs/stable/user_guide/indexing.html#returning-a-view-versus-a-copy\n",
            "  \"\"\"Entry point for launching an IPython kernel.\n"
          ]
        },
        {
          "output_type": "execute_result",
          "data": {
            "text/plain": [
              "(99000.0, 135000.0]        85756\n",
              "(162000.0, 225000.0]       75510\n",
              "(25649.9, 99000.0]         63667\n",
              "(225000.0, 336835935.0]    47125\n",
              "(135000.0, 162000.0]       35453\n",
              "Name: Ingreso_intervalo, dtype: int64"
            ]
          },
          "metadata": {},
          "execution_count": 18
        }
      ]
    },
    {
      "cell_type": "code",
      "metadata": {
        "colab": {
          "base_uri": "https://localhost:8080/"
        },
        "id": "EoXxMr-ez9K8",
        "outputId": "83b46bd9-316f-4d7c-de66-9ad4c3398c5c"
      },
      "source": [
        "datos['Credito_intervalo'] = pd.qcut(datos['CREDIT'], q=5, precision=1)\n",
        "datos['Credito_intervalo'] .value_counts()"
      ],
      "execution_count": null,
      "outputs": [
        {
          "output_type": "stream",
          "name": "stderr",
          "text": [
            "/usr/local/lib/python3.7/dist-packages/ipykernel_launcher.py:1: SettingWithCopyWarning: \n",
            "A value is trying to be set on a copy of a slice from a DataFrame.\n",
            "Try using .loc[row_indexer,col_indexer] = value instead\n",
            "\n",
            "See the caveats in the documentation: https://pandas.pydata.org/pandas-docs/stable/user_guide/indexing.html#returning-a-view-versus-a-copy\n",
            "  \"\"\"Entry point for launching an IPython kernel.\n"
          ]
        },
        {
          "output_type": "execute_result",
          "data": {
            "text/plain": [
              "(44999.9, 254700.0]      64925\n",
              "(604152.0, 900000.0]     64024\n",
              "(432000.0, 604152.0]     61552\n",
              "(900000.0, 4050000.0]    58912\n",
              "(254700.0, 432000.0]     58098\n",
              "Name: Credito_intervalo, dtype: int64"
            ]
          },
          "metadata": {},
          "execution_count": 19
        }
      ]
    },
    {
      "cell_type": "markdown",
      "metadata": {
        "id": "XXOR7DQh7FF7"
      },
      "source": [
        "**Correlacion**"
      ]
    },
    {
      "cell_type": "code",
      "metadata": {
        "colab": {
          "base_uri": "https://localhost:8080/"
        },
        "id": "hqfCvX4g9KqA",
        "outputId": "fb0f82e6-07d5-4c00-d722-23a1c60cb1fa"
      },
      "source": [
        "datos.columns.values"
      ],
      "execution_count": null,
      "outputs": [
        {
          "output_type": "execute_result",
          "data": {
            "text/plain": [
              "array(['ID', 'TARGET', 'CONTRACT_TYPE', 'SEX', 'CHILDREN', 'INCOME',\n",
              "       'CREDIT', 'INCOME_TYPE', 'EDUCATION_TYPE', 'FAMILY_STATUS',\n",
              "       'HOUSING_TYPE', 'BIRTH', 'BUREAU_3', 'INCOME_N', 'CREDIT_N',\n",
              "       'Ingreso_intervalo', 'Credito_intervalo'], dtype=object)"
            ]
          },
          "metadata": {},
          "execution_count": 20
        }
      ]
    },
    {
      "cell_type": "code",
      "metadata": {
        "id": "qjBMZYfz7Edq"
      },
      "source": [
        "import seaborn as sns\n",
        "import matplotlib.pyplot as plt\n",
        "\n",
        "#correlation_mat = datos.drop(columns = \"ID\").corr()\n",
        "#sns.heatmap(correlation_mat, annot = True)\n",
        "#plt.show()"
      ],
      "execution_count": null,
      "outputs": []
    },
    {
      "cell_type": "markdown",
      "metadata": {
        "id": "tynfmnee4WvN"
      },
      "source": [
        "**VALIDACION SIMPLE**"
      ]
    },
    {
      "cell_type": "code",
      "metadata": {
        "colab": {
          "base_uri": "https://localhost:8080/"
        },
        "id": "KZWPnbunyRAb",
        "outputId": "1abb9889-88f0-466d-e7ae-71ce7ce547a1"
      },
      "source": [
        "datos.columns.values"
      ],
      "execution_count": null,
      "outputs": [
        {
          "output_type": "execute_result",
          "data": {
            "text/plain": [
              "array(['ID', 'TARGET', 'CONTRACT_TYPE', 'SEX', 'CHILDREN', 'INCOME',\n",
              "       'CREDIT', 'INCOME_TYPE', 'EDUCATION_TYPE', 'FAMILY_STATUS',\n",
              "       'HOUSING_TYPE', 'BIRTH', 'BUREAU_3', 'INCOME_N', 'CREDIT_N',\n",
              "       'Ingreso_intervalo', 'Credito_intervalo'], dtype=object)"
            ]
          },
          "metadata": {},
          "execution_count": 22
        }
      ]
    },
    {
      "cell_type": "code",
      "metadata": {
        "colab": {
          "base_uri": "https://localhost:8080/"
        },
        "id": "28HKDx7G4WNT",
        "outputId": "6fbabeae-8c8c-4928-fffb-6ccd97989657"
      },
      "source": [
        "feature_cols = ['CONTRACT_TYPE', 'SEX', 'CHILDREN', \n",
        "                'INCOME','CREDIT', 'INCOME_TYPE', 'EDUCATION_TYPE', \n",
        "                'FAMILY_STATUS', 'HOUSING_TYPE', 'BIRTH', 'BUREAU_3']\n",
        "\n",
        "X = datos[feature_cols]\n",
        "y = datos['TARGET']\n",
        "\n",
        "# Train-test\n",
        "X_train, X_test, y_train, y_test = train_test_split(X, y, test_size = 0.2, random_state=1)\n",
        "\n",
        "print(X_train.shape, X_test.shape, y_train.shape, y_test.shape)  "
      ],
      "execution_count": null,
      "outputs": [
        {
          "output_type": "stream",
          "name": "stdout",
          "text": [
            "(246008, 11) (61503, 11) (246008,) (61503,)\n"
          ]
        }
      ]
    },
    {
      "cell_type": "markdown",
      "metadata": {
        "id": "NTZwLmgBblRV"
      },
      "source": [
        "### Entrega 1"
      ]
    },
    {
      "cell_type": "markdown",
      "metadata": {
        "id": "ACWUVjlD0gi-"
      },
      "source": [
        "**Graficas**"
      ]
    },
    {
      "cell_type": "code",
      "metadata": {
        "colab": {
          "base_uri": "https://localhost:8080/"
        },
        "id": "78VWfSp3ZRRQ",
        "outputId": "15e4fd82-be52-4400-be1a-4fb527f1b096"
      },
      "source": [
        "df_default = datos[datos['TARGET']== 1]\n",
        "df_default.head()"
      ],
      "execution_count": null,
      "outputs": [
        {
          "data": {
            "text/html": [
              "<div>\n",
              "<style scoped>\n",
              "    .dataframe tbody tr th:only-of-type {\n",
              "        vertical-align: middle;\n",
              "    }\n",
              "\n",
              "    .dataframe tbody tr th {\n",
              "        vertical-align: top;\n",
              "    }\n",
              "\n",
              "    .dataframe thead th {\n",
              "        text-align: right;\n",
              "    }\n",
              "</style>\n",
              "<table border=\"1\" class=\"dataframe\">\n",
              "  <thead>\n",
              "    <tr style=\"text-align: right;\">\n",
              "      <th></th>\n",
              "      <th>ID</th>\n",
              "      <th>TARGET</th>\n",
              "      <th>CONTRACT_TYPE</th>\n",
              "      <th>SEX</th>\n",
              "      <th>CHILDREN</th>\n",
              "      <th>INCOME</th>\n",
              "      <th>CREDIT</th>\n",
              "      <th>INCOME_TYPE</th>\n",
              "      <th>EDUCATION_TYPE</th>\n",
              "      <th>FAMILY_STATUS</th>\n",
              "      <th>HOUSING_TYPE</th>\n",
              "      <th>BIRTH</th>\n",
              "      <th>BUREAU_3</th>\n",
              "    </tr>\n",
              "  </thead>\n",
              "  <tbody>\n",
              "    <tr>\n",
              "      <th>0</th>\n",
              "      <td>100002</td>\n",
              "      <td>1</td>\n",
              "      <td>Cash loans</td>\n",
              "      <td>M</td>\n",
              "      <td>0</td>\n",
              "      <td>202500</td>\n",
              "      <td>406598</td>\n",
              "      <td>Workingg</td>\n",
              "      <td>Secondary / secondary special</td>\n",
              "      <td>Single / not married</td>\n",
              "      <td>House / apartment</td>\n",
              "      <td>26</td>\n",
              "      <td>0.0</td>\n",
              "    </tr>\n",
              "    <tr>\n",
              "      <th>26</th>\n",
              "      <td>100031</td>\n",
              "      <td>1</td>\n",
              "      <td>Cash loans</td>\n",
              "      <td>F</td>\n",
              "      <td>0</td>\n",
              "      <td>112500</td>\n",
              "      <td>979992</td>\n",
              "      <td>Workingg</td>\n",
              "      <td>Secondary / secondary special</td>\n",
              "      <td>Widow</td>\n",
              "      <td>House / apartment</td>\n",
              "      <td>52</td>\n",
              "      <td>2.0</td>\n",
              "    </tr>\n",
              "    <tr>\n",
              "      <th>40</th>\n",
              "      <td>100047</td>\n",
              "      <td>1</td>\n",
              "      <td>Cash loans</td>\n",
              "      <td>M</td>\n",
              "      <td>0</td>\n",
              "      <td>202500</td>\n",
              "      <td>1193580</td>\n",
              "      <td>Commercial associate</td>\n",
              "      <td>Secondary / secondary special</td>\n",
              "      <td>Married</td>\n",
              "      <td>House / apartment</td>\n",
              "      <td>48</td>\n",
              "      <td>0.0</td>\n",
              "    </tr>\n",
              "    <tr>\n",
              "      <th>42</th>\n",
              "      <td>100049</td>\n",
              "      <td>1</td>\n",
              "      <td>Cash loans</td>\n",
              "      <td>F</td>\n",
              "      <td>0</td>\n",
              "      <td>135000</td>\n",
              "      <td>288873</td>\n",
              "      <td>Workingg</td>\n",
              "      <td>Secondary / secondary special</td>\n",
              "      <td>Civil marriage</td>\n",
              "      <td>House / apartment</td>\n",
              "      <td>37</td>\n",
              "      <td>0.0</td>\n",
              "    </tr>\n",
              "    <tr>\n",
              "      <th>81</th>\n",
              "      <td>100096</td>\n",
              "      <td>1</td>\n",
              "      <td>Cash loans</td>\n",
              "      <td>F</td>\n",
              "      <td>0</td>\n",
              "      <td>81000</td>\n",
              "      <td>252000</td>\n",
              "      <td>Pensioner</td>\n",
              "      <td>Secondary / secondary special</td>\n",
              "      <td>Married</td>\n",
              "      <td>House / apartment</td>\n",
              "      <td>68</td>\n",
              "      <td>0.0</td>\n",
              "    </tr>\n",
              "  </tbody>\n",
              "</table>\n",
              "</div>"
            ],
            "text/plain": [
              "        ID  TARGET CONTRACT_TYPE  ...       HOUSING_TYPE  BIRTH  BUREAU_3\n",
              "0   100002       1    Cash loans  ...  House / apartment     26       0.0\n",
              "26  100031       1    Cash loans  ...  House / apartment     52       2.0\n",
              "40  100047       1    Cash loans  ...  House / apartment     48       0.0\n",
              "42  100049       1    Cash loans  ...  House / apartment     37       0.0\n",
              "81  100096       1    Cash loans  ...  House / apartment     68       0.0\n",
              "\n",
              "[5 rows x 13 columns]"
            ]
          },
          "execution_count": 24,
          "metadata": {},
          "output_type": "execute_result"
        }
      ]
    },
    {
      "cell_type": "code",
      "metadata": {
        "id": "i2GePQ0Epp0f"
      },
      "source": [
        "df = datos[datos['SEX']!= 'DatoFaltante']"
      ],
      "execution_count": null,
      "outputs": []
    },
    {
      "cell_type": "code",
      "metadata": {
        "colab": {
          "base_uri": "https://localhost:8080/",
          "height": 381
        },
        "id": "tHsp3lyneYs7",
        "outputId": "48c73351-deca-4264-9f95-7e68c659a692"
      },
      "source": [
        "datos[\"INCOME_group\"] = pd.cut(datos[\"INCOME\"], bins=[25000,100000,175000,250000,336835935])\n",
        "datos.head()"
      ],
      "execution_count": null,
      "outputs": [
        {
          "data": {
            "text/html": [
              "<div>\n",
              "<style scoped>\n",
              "    .dataframe tbody tr th:only-of-type {\n",
              "        vertical-align: middle;\n",
              "    }\n",
              "\n",
              "    .dataframe tbody tr th {\n",
              "        vertical-align: top;\n",
              "    }\n",
              "\n",
              "    .dataframe thead th {\n",
              "        text-align: right;\n",
              "    }\n",
              "</style>\n",
              "<table border=\"1\" class=\"dataframe\">\n",
              "  <thead>\n",
              "    <tr style=\"text-align: right;\">\n",
              "      <th></th>\n",
              "      <th>ID</th>\n",
              "      <th>TARGET</th>\n",
              "      <th>CONTRACT_TYPE</th>\n",
              "      <th>SEX</th>\n",
              "      <th>OWN_REALTY</th>\n",
              "      <th>CHILDREN</th>\n",
              "      <th>INCOME</th>\n",
              "      <th>CREDIT</th>\n",
              "      <th>INCOME_TYPE</th>\n",
              "      <th>EDUCATION_TYPE</th>\n",
              "      <th>FAMILY_STATUS</th>\n",
              "      <th>HOUSING_TYPE</th>\n",
              "      <th>BIRTH</th>\n",
              "      <th>EMPLOYED</th>\n",
              "      <th>EMP_PHONE</th>\n",
              "      <th>CONT_MOBILE</th>\n",
              "      <th>EMAIL</th>\n",
              "      <th>OCCUPATION_TYPE</th>\n",
              "      <th>WEEKDAY</th>\n",
              "      <th>REG_REGION_NOT_LIVE_REGION</th>\n",
              "      <th>DEF_30_CNT</th>\n",
              "      <th>DEF_60_CNT</th>\n",
              "      <th>DAYS_LAST_PHONE_CHANGE</th>\n",
              "      <th>BUREAU_3</th>\n",
              "      <th>INCOME_group</th>\n",
              "    </tr>\n",
              "  </thead>\n",
              "  <tbody>\n",
              "    <tr>\n",
              "      <th>0</th>\n",
              "      <td>100002</td>\n",
              "      <td>1</td>\n",
              "      <td>Cash loans</td>\n",
              "      <td>M</td>\n",
              "      <td>1</td>\n",
              "      <td>0</td>\n",
              "      <td>202500</td>\n",
              "      <td>406598</td>\n",
              "      <td>Workingg</td>\n",
              "      <td>Secondary / secondary special</td>\n",
              "      <td>Single / not married</td>\n",
              "      <td>House / apartment</td>\n",
              "      <td>26</td>\n",
              "      <td>2</td>\n",
              "      <td>1</td>\n",
              "      <td>1</td>\n",
              "      <td>0</td>\n",
              "      <td>Laborers</td>\n",
              "      <td>WEDNESDAY</td>\n",
              "      <td>0</td>\n",
              "      <td>2.0</td>\n",
              "      <td>2.0</td>\n",
              "      <td>-1134.0</td>\n",
              "      <td>0.0</td>\n",
              "      <td>(175000, 250000]</td>\n",
              "    </tr>\n",
              "    <tr>\n",
              "      <th>1</th>\n",
              "      <td>100003</td>\n",
              "      <td>0</td>\n",
              "      <td>Cash loans</td>\n",
              "      <td>F</td>\n",
              "      <td>0</td>\n",
              "      <td>0</td>\n",
              "      <td>270000</td>\n",
              "      <td>1293503</td>\n",
              "      <td>State servant</td>\n",
              "      <td>Higher education</td>\n",
              "      <td>Married</td>\n",
              "      <td>House / apartment</td>\n",
              "      <td>46</td>\n",
              "      <td>3</td>\n",
              "      <td>1</td>\n",
              "      <td>1</td>\n",
              "      <td>0</td>\n",
              "      <td>Core staff</td>\n",
              "      <td>MONDAY</td>\n",
              "      <td>0</td>\n",
              "      <td>0.0</td>\n",
              "      <td>0.0</td>\n",
              "      <td>-828.0</td>\n",
              "      <td>0.0</td>\n",
              "      <td>(250000, 336835935]</td>\n",
              "    </tr>\n",
              "    <tr>\n",
              "      <th>2</th>\n",
              "      <td>100004</td>\n",
              "      <td>0</td>\n",
              "      <td>Revolving loans</td>\n",
              "      <td>M</td>\n",
              "      <td>1</td>\n",
              "      <td>0</td>\n",
              "      <td>67500</td>\n",
              "      <td>135000</td>\n",
              "      <td>Workingg</td>\n",
              "      <td>Secondary / secondary special</td>\n",
              "      <td>Single / not married</td>\n",
              "      <td>House / apartment</td>\n",
              "      <td>52</td>\n",
              "      <td>1</td>\n",
              "      <td>1</td>\n",
              "      <td>1</td>\n",
              "      <td>0</td>\n",
              "      <td>Laborers</td>\n",
              "      <td>MONDAY</td>\n",
              "      <td>0</td>\n",
              "      <td>0.0</td>\n",
              "      <td>0.0</td>\n",
              "      <td>-815.0</td>\n",
              "      <td>0.0</td>\n",
              "      <td>(25000, 100000]</td>\n",
              "    </tr>\n",
              "    <tr>\n",
              "      <th>3</th>\n",
              "      <td>100006</td>\n",
              "      <td>0</td>\n",
              "      <td>Cash loans</td>\n",
              "      <td>F</td>\n",
              "      <td>1</td>\n",
              "      <td>0</td>\n",
              "      <td>135000</td>\n",
              "      <td>312683</td>\n",
              "      <td>Workingg</td>\n",
              "      <td>Secondary / secondary special</td>\n",
              "      <td>Civil marriage</td>\n",
              "      <td>House / apartment</td>\n",
              "      <td>52</td>\n",
              "      <td>8</td>\n",
              "      <td>1</td>\n",
              "      <td>1</td>\n",
              "      <td>0</td>\n",
              "      <td>Laborers</td>\n",
              "      <td>WEDNESDAY</td>\n",
              "      <td>0</td>\n",
              "      <td>0.0</td>\n",
              "      <td>0.0</td>\n",
              "      <td>-617.0</td>\n",
              "      <td>NaN</td>\n",
              "      <td>(100000, 175000]</td>\n",
              "    </tr>\n",
              "    <tr>\n",
              "      <th>4</th>\n",
              "      <td>100007</td>\n",
              "      <td>0</td>\n",
              "      <td>Cash loans</td>\n",
              "      <td>M</td>\n",
              "      <td>1</td>\n",
              "      <td>0</td>\n",
              "      <td>121500</td>\n",
              "      <td>513000</td>\n",
              "      <td>Workingg</td>\n",
              "      <td>Secondary / secondary special</td>\n",
              "      <td>Single / not married</td>\n",
              "      <td>House / apartment</td>\n",
              "      <td>55</td>\n",
              "      <td>8</td>\n",
              "      <td>1</td>\n",
              "      <td>1</td>\n",
              "      <td>0</td>\n",
              "      <td>Core staff</td>\n",
              "      <td>THURSDAY</td>\n",
              "      <td>0</td>\n",
              "      <td>0.0</td>\n",
              "      <td>0.0</td>\n",
              "      <td>-1106.0</td>\n",
              "      <td>0.0</td>\n",
              "      <td>(100000, 175000]</td>\n",
              "    </tr>\n",
              "  </tbody>\n",
              "</table>\n",
              "</div>"
            ],
            "text/plain": [
              "       ID  TARGET  ... BUREAU_3         INCOME_group\n",
              "0  100002       1  ...      0.0     (175000, 250000]\n",
              "1  100003       0  ...      0.0  (250000, 336835935]\n",
              "2  100004       0  ...      0.0      (25000, 100000]\n",
              "3  100006       0  ...      NaN     (100000, 175000]\n",
              "4  100007       0  ...      0.0     (100000, 175000]\n",
              "\n",
              "[5 rows x 25 columns]"
            ]
          },
          "execution_count": 9,
          "metadata": {},
          "output_type": "execute_result"
        }
      ]
    },
    {
      "cell_type": "code",
      "metadata": {
        "colab": {
          "base_uri": "https://localhost:8080/",
          "height": 381
        },
        "id": "Oxjbe05nH5lQ",
        "outputId": "c4e171e1-733f-4fe9-8680-34d733d09d27"
      },
      "source": [
        "datos[\"CREDIT_group\"] = pd.cut(datos[\"CREDIT\"], bins=[45000,275000,600000,875000,4050000])\n",
        "datos.head()"
      ],
      "execution_count": null,
      "outputs": [
        {
          "data": {
            "text/html": [
              "<div>\n",
              "<style scoped>\n",
              "    .dataframe tbody tr th:only-of-type {\n",
              "        vertical-align: middle;\n",
              "    }\n",
              "\n",
              "    .dataframe tbody tr th {\n",
              "        vertical-align: top;\n",
              "    }\n",
              "\n",
              "    .dataframe thead th {\n",
              "        text-align: right;\n",
              "    }\n",
              "</style>\n",
              "<table border=\"1\" class=\"dataframe\">\n",
              "  <thead>\n",
              "    <tr style=\"text-align: right;\">\n",
              "      <th></th>\n",
              "      <th>ID</th>\n",
              "      <th>TARGET</th>\n",
              "      <th>CONTRACT_TYPE</th>\n",
              "      <th>SEX</th>\n",
              "      <th>OWN_REALTY</th>\n",
              "      <th>CHILDREN</th>\n",
              "      <th>INCOME</th>\n",
              "      <th>CREDIT</th>\n",
              "      <th>INCOME_TYPE</th>\n",
              "      <th>EDUCATION_TYPE</th>\n",
              "      <th>FAMILY_STATUS</th>\n",
              "      <th>HOUSING_TYPE</th>\n",
              "      <th>BIRTH</th>\n",
              "      <th>EMPLOYED</th>\n",
              "      <th>EMP_PHONE</th>\n",
              "      <th>CONT_MOBILE</th>\n",
              "      <th>EMAIL</th>\n",
              "      <th>OCCUPATION_TYPE</th>\n",
              "      <th>WEEKDAY</th>\n",
              "      <th>REG_REGION_NOT_LIVE_REGION</th>\n",
              "      <th>DEF_30_CNT</th>\n",
              "      <th>DEF_60_CNT</th>\n",
              "      <th>DAYS_LAST_PHONE_CHANGE</th>\n",
              "      <th>BUREAU_3</th>\n",
              "      <th>INCOME_group</th>\n",
              "      <th>CREDIT_group</th>\n",
              "    </tr>\n",
              "  </thead>\n",
              "  <tbody>\n",
              "    <tr>\n",
              "      <th>0</th>\n",
              "      <td>100002</td>\n",
              "      <td>1</td>\n",
              "      <td>Cash loans</td>\n",
              "      <td>M</td>\n",
              "      <td>1</td>\n",
              "      <td>0</td>\n",
              "      <td>202500</td>\n",
              "      <td>406598</td>\n",
              "      <td>Workingg</td>\n",
              "      <td>Secondary / secondary special</td>\n",
              "      <td>Single / not married</td>\n",
              "      <td>House / apartment</td>\n",
              "      <td>26</td>\n",
              "      <td>2</td>\n",
              "      <td>1</td>\n",
              "      <td>1</td>\n",
              "      <td>0</td>\n",
              "      <td>Laborers</td>\n",
              "      <td>WEDNESDAY</td>\n",
              "      <td>0</td>\n",
              "      <td>2.0</td>\n",
              "      <td>2.0</td>\n",
              "      <td>-1134.0</td>\n",
              "      <td>0.0</td>\n",
              "      <td>(175000, 250000]</td>\n",
              "      <td>(275000, 600000]</td>\n",
              "    </tr>\n",
              "    <tr>\n",
              "      <th>1</th>\n",
              "      <td>100003</td>\n",
              "      <td>0</td>\n",
              "      <td>Cash loans</td>\n",
              "      <td>F</td>\n",
              "      <td>0</td>\n",
              "      <td>0</td>\n",
              "      <td>270000</td>\n",
              "      <td>1293503</td>\n",
              "      <td>State servant</td>\n",
              "      <td>Higher education</td>\n",
              "      <td>Married</td>\n",
              "      <td>House / apartment</td>\n",
              "      <td>46</td>\n",
              "      <td>3</td>\n",
              "      <td>1</td>\n",
              "      <td>1</td>\n",
              "      <td>0</td>\n",
              "      <td>Core staff</td>\n",
              "      <td>MONDAY</td>\n",
              "      <td>0</td>\n",
              "      <td>0.0</td>\n",
              "      <td>0.0</td>\n",
              "      <td>-828.0</td>\n",
              "      <td>0.0</td>\n",
              "      <td>(250000, 336835935]</td>\n",
              "      <td>(875000, 4050000]</td>\n",
              "    </tr>\n",
              "    <tr>\n",
              "      <th>2</th>\n",
              "      <td>100004</td>\n",
              "      <td>0</td>\n",
              "      <td>Revolving loans</td>\n",
              "      <td>M</td>\n",
              "      <td>1</td>\n",
              "      <td>0</td>\n",
              "      <td>67500</td>\n",
              "      <td>135000</td>\n",
              "      <td>Workingg</td>\n",
              "      <td>Secondary / secondary special</td>\n",
              "      <td>Single / not married</td>\n",
              "      <td>House / apartment</td>\n",
              "      <td>52</td>\n",
              "      <td>1</td>\n",
              "      <td>1</td>\n",
              "      <td>1</td>\n",
              "      <td>0</td>\n",
              "      <td>Laborers</td>\n",
              "      <td>MONDAY</td>\n",
              "      <td>0</td>\n",
              "      <td>0.0</td>\n",
              "      <td>0.0</td>\n",
              "      <td>-815.0</td>\n",
              "      <td>0.0</td>\n",
              "      <td>(25000, 100000]</td>\n",
              "      <td>(45000, 275000]</td>\n",
              "    </tr>\n",
              "    <tr>\n",
              "      <th>3</th>\n",
              "      <td>100006</td>\n",
              "      <td>0</td>\n",
              "      <td>Cash loans</td>\n",
              "      <td>F</td>\n",
              "      <td>1</td>\n",
              "      <td>0</td>\n",
              "      <td>135000</td>\n",
              "      <td>312683</td>\n",
              "      <td>Workingg</td>\n",
              "      <td>Secondary / secondary special</td>\n",
              "      <td>Civil marriage</td>\n",
              "      <td>House / apartment</td>\n",
              "      <td>52</td>\n",
              "      <td>8</td>\n",
              "      <td>1</td>\n",
              "      <td>1</td>\n",
              "      <td>0</td>\n",
              "      <td>Laborers</td>\n",
              "      <td>WEDNESDAY</td>\n",
              "      <td>0</td>\n",
              "      <td>0.0</td>\n",
              "      <td>0.0</td>\n",
              "      <td>-617.0</td>\n",
              "      <td>NaN</td>\n",
              "      <td>(100000, 175000]</td>\n",
              "      <td>(275000, 600000]</td>\n",
              "    </tr>\n",
              "    <tr>\n",
              "      <th>4</th>\n",
              "      <td>100007</td>\n",
              "      <td>0</td>\n",
              "      <td>Cash loans</td>\n",
              "      <td>M</td>\n",
              "      <td>1</td>\n",
              "      <td>0</td>\n",
              "      <td>121500</td>\n",
              "      <td>513000</td>\n",
              "      <td>Workingg</td>\n",
              "      <td>Secondary / secondary special</td>\n",
              "      <td>Single / not married</td>\n",
              "      <td>House / apartment</td>\n",
              "      <td>55</td>\n",
              "      <td>8</td>\n",
              "      <td>1</td>\n",
              "      <td>1</td>\n",
              "      <td>0</td>\n",
              "      <td>Core staff</td>\n",
              "      <td>THURSDAY</td>\n",
              "      <td>0</td>\n",
              "      <td>0.0</td>\n",
              "      <td>0.0</td>\n",
              "      <td>-1106.0</td>\n",
              "      <td>0.0</td>\n",
              "      <td>(100000, 175000]</td>\n",
              "      <td>(275000, 600000]</td>\n",
              "    </tr>\n",
              "  </tbody>\n",
              "</table>\n",
              "</div>"
            ],
            "text/plain": [
              "       ID  TARGET  ...         INCOME_group       CREDIT_group\n",
              "0  100002       1  ...     (175000, 250000]   (275000, 600000]\n",
              "1  100003       0  ...  (250000, 336835935]  (875000, 4050000]\n",
              "2  100004       0  ...      (25000, 100000]    (45000, 275000]\n",
              "3  100006       0  ...     (100000, 175000]   (275000, 600000]\n",
              "4  100007       0  ...     (100000, 175000]   (275000, 600000]\n",
              "\n",
              "[5 rows x 26 columns]"
            ]
          },
          "execution_count": 10,
          "metadata": {},
          "output_type": "execute_result"
        }
      ]
    },
    {
      "cell_type": "code",
      "metadata": {
        "id": "QlvK5j2-7466"
      },
      "source": [
        "datos[\"CREDIT_group\"] = pd.cut(datos[\"CREDIT\"], bins=[45000,275000,600000,875000,4050000])"
      ],
      "execution_count": null,
      "outputs": []
    },
    {
      "cell_type": "code",
      "metadata": {
        "id": "ZST_NBUk78B3"
      },
      "source": [
        "datos[\"BIRTH_group\"] = pd.cut(datos[\"BIRTH\"], bins=[20,30,40,50,70])"
      ],
      "execution_count": null,
      "outputs": []
    },
    {
      "cell_type": "code",
      "metadata": {
        "id": "qjGTp5UP790c"
      },
      "source": [
        "datos[\"INCOME_group\"] = pd.cut(datos[\"INCOME\"], bins=[25000,100000,175000,250000,336835935])"
      ],
      "execution_count": null,
      "outputs": []
    },
    {
      "cell_type": "code",
      "metadata": {
        "colab": {
          "base_uri": "https://localhost:8080/",
          "height": 388
        },
        "id": "P57MHlQFduEd",
        "outputId": "a5cd5110-1ee8-4a99-d495-e9f9ced5bf9c"
      },
      "source": [
        "sns.relplot(data=datos, x=\"CREDIT\", y=\"BIRTH\", hue = 'TARGET', palette='viridis')"
      ],
      "execution_count": null,
      "outputs": [
        {
          "data": {
            "text/plain": [
              "<seaborn.axisgrid.FacetGrid at 0x7f5dab8377d0>"
            ]
          },
          "execution_count": 14,
          "metadata": {},
          "output_type": "execute_result"
        },
        {
          "data": {
            "image/png": "[encoded data removed]",
            "text/plain": [
              "<Figure size 407x360 with 1 Axes>"
            ]
          },
          "metadata": {},
          "output_type": "display_data"
        }
      ]
    },
    {
      "cell_type": "code",
      "metadata": {
        "colab": {
          "base_uri": "https://localhost:8080/",
          "height": 296
        },
        "id": "HhF2TCq9Zwox",
        "outputId": "fb0e9f85-da9a-4690-f6d9-ffd7c411a646"
      },
      "source": [
        "df = datos[datos['SEX']!= 'DatoFaltante']\n",
        "g = sns.catplot(x=\"SEX\", hue=\"EDUCATION_TYPE\", col=\"TARGET\",\n",
        "               data=df, kind=\"count\",\n",
        "               height=4, aspect=.7, palette=\"viridis\");\n"
      ],
      "execution_count": null,
      "outputs": [
        {
          "data": {
            "image/png": "[encoded data removed]",
            "text/plain": [
              "<Figure size 591.45x288 with 2 Axes>"
            ]
          },
          "metadata": {},
          "output_type": "display_data"
        }
      ]
    },
    {
      "cell_type": "code",
      "metadata": {
        "colab": {
          "base_uri": "https://localhost:8080/",
          "height": 312
        },
        "id": "tFrVnzddvZfW",
        "outputId": "ef232df5-e434-4d9a-f292-8526273e992f"
      },
      "source": [
        "g = sns.catplot(x=\"CONTRACT_TYPE\", hue=\"INCOME_group\",\n",
        "               data=df_default, kind=\"count\",\n",
        "               height=4, aspect=.7, palette=\"viridis\");"
      ],
      "execution_count": null,
      "outputs": [
        {
          "data": {
            "image/png": "[encoded data removed]",
            "text/plain": [
              "<Figure size 346.1x288 with 1 Axes>"
            ]
          },
          "metadata": {},
          "output_type": "display_data"
        }
      ]
    },
    {
      "cell_type": "code",
      "metadata": {
        "colab": {
          "base_uri": "https://localhost:8080/",
          "height": 347
        },
        "id": "6dRAcBndGvLV",
        "outputId": "61547c6e-8781-4ac1-ca49-402f876f4fb9"
      },
      "source": [
        "plt.figure(figsize=(200,200))\n",
        "sns.catplot(x=\"CONTRACT_TYPE\", hue=\"CREDIT_group\",\n",
        "               data=datos, kind=\"count\",\n",
        "               height=4, aspect=.7, palette=\"viridis\")\n"
      ],
      "execution_count": null,
      "outputs": [
        {
          "data": {
            "text/plain": [
              "<seaborn.axisgrid.FacetGrid at 0x7fa363bccd10>"
            ]
          },
          "execution_count": 18,
          "metadata": {},
          "output_type": "execute_result"
        },
        {
          "data": {
            "text/plain": [
              "<Figure size 14400x14400 with 0 Axes>"
            ]
          },
          "metadata": {},
          "output_type": "display_data"
        },
        {
          "data": {
            "image/png": "[encoded data removed]",
            "text/plain": [
              "<Figure size 333.225x288 with 1 Axes>"
            ]
          },
          "metadata": {},
          "output_type": "display_data"
        }
      ]
    },
    {
      "cell_type": "code",
      "metadata": {
        "colab": {
          "base_uri": "https://localhost:8080/",
          "height": 311
        },
        "id": "GfCRH5g8jC1H",
        "outputId": "91faa54b-7bdb-4c08-a0ea-b79d78cf966b"
      },
      "source": [
        "g = sns.catplot(x=\"SEX\", hue=\"INCOME_group\", col=\"TARGET\",\n",
        "                data=df, kind=\"count\",\n",
        "                height=4, aspect=.7, palette=\"viridis\");"
      ],
      "execution_count": null,
      "outputs": [
        {
          "data": {
            "image/png": "[encoded data removed]",
            "text/plain": [
              "<Figure size 547.7x288 with 2 Axes>"
            ]
          },
          "metadata": {},
          "output_type": "display_data"
        }
      ]
    },
    {
      "cell_type": "code",
      "metadata": {
        "colab": {
          "base_uri": "https://localhost:8080/",
          "height": 311
        },
        "id": "N7iTaEqNpL34",
        "outputId": "a439614c-931d-470a-caad-2aedebfef1a0"
      },
      "source": [
        "g = sns.catplot(x=\"SEX\", hue=\"INCOME_TYPE\", col=\"TARGET\",\n",
        "                data=df, kind=\"count\",\n",
        "                height=4, aspect=.7, palette=\"viridis\");"
      ],
      "execution_count": null,
      "outputs": [
        {
          "data": {
            "image/png": "[encoded data removed]",
            "text/plain": [
              "<Figure size 548.95x288 with 2 Axes>"
            ]
          },
          "metadata": {},
          "output_type": "display_data"
        }
      ]
    },
    {
      "cell_type": "code",
      "metadata": {
        "colab": {
          "base_uri": "https://localhost:8080/",
          "height": 296
        },
        "id": "82bhhgEMnUc3",
        "outputId": "9d6ba64f-0c3c-41cf-ab5f-7a4cc3caedef"
      },
      "source": [
        "#sns.lineplot(data=df_default, x='WEEKDAY', y = '' palette=\"viridis\")\n",
        "#sns.lineplot(data=datos, x=\"WEEKDAY\", y=\"CREDIT\", hue=\"TARGET\", style = 'TARGET', palette=\"viridis\")\n",
        "sns.lineplot(data=datos, x=\"WEEKDAY\", y=\"INCOME\", hue=\"TARGET\", style = 'TARGET', palette=\"viridis\")"
      ],
      "execution_count": null,
      "outputs": [
        {
          "data": {
            "text/plain": [
              "<matplotlib.axes._subplots.AxesSubplot at 0x7f41ab0dc050>"
            ]
          },
          "execution_count": 28,
          "metadata": {},
          "output_type": "execute_result"
        },
        {
          "data": {
            "image/png": "[encoded data removed]",
            "text/plain": [
              "<Figure size 432x288 with 1 Axes>"
            ]
          },
          "metadata": {},
          "output_type": "display_data"
        }
      ]
    },
    {
      "cell_type": "code",
      "metadata": {
        "colab": {
          "base_uri": "https://localhost:8080/",
          "height": 296
        },
        "id": "hW0lY_uRbmfH",
        "outputId": "fc2a7bd8-03bc-4e34-f536-4806e7fcb6a9"
      },
      "source": [
        "sns.countplot(data=datos, x='SEX',hue='TARGET',palette=\"magma\")"
      ],
      "execution_count": null,
      "outputs": [
        {
          "data": {
            "text/plain": [
              "<matplotlib.axes._subplots.AxesSubplot at 0x7f41a0de1e90>"
            ]
          },
          "execution_count": 29,
          "metadata": {},
          "output_type": "execute_result"
        },
        {
          "data": {
            "image/png": "[encoded data removed]",
            "text/plain": [
              "<Figure size 432x288 with 1 Axes>"
            ]
          },
          "metadata": {},
          "output_type": "display_data"
        }
      ]
    },
    {
      "cell_type": "code",
      "metadata": {
        "colab": {
          "base_uri": "https://localhost:8080/",
          "height": 171
        },
        "id": "F4zk9zcrUlHY",
        "outputId": "0aaa8b1d-d696-4eda-d4f5-98ce223e717a"
      },
      "source": [
        "tab3 = df[['SEX', \"TARGET\"]].value_counts().rename_axis(['label', 'Target']).reset_index(name='counts')\n",
        "tab3\n"
      ],
      "execution_count": null,
      "outputs": [
        {
          "data": {
            "text/html": [
              "<div>\n",
              "<style scoped>\n",
              "    .dataframe tbody tr th:only-of-type {\n",
              "        vertical-align: middle;\n",
              "    }\n",
              "\n",
              "    .dataframe tbody tr th {\n",
              "        vertical-align: top;\n",
              "    }\n",
              "\n",
              "    .dataframe thead th {\n",
              "        text-align: right;\n",
              "    }\n",
              "</style>\n",
              "<table border=\"1\" class=\"dataframe\">\n",
              "  <thead>\n",
              "    <tr style=\"text-align: right;\">\n",
              "      <th></th>\n",
              "      <th>label</th>\n",
              "      <th>Target</th>\n",
              "      <th>counts</th>\n",
              "    </tr>\n",
              "  </thead>\n",
              "  <tbody>\n",
              "    <tr>\n",
              "      <th>0</th>\n",
              "      <td>F</td>\n",
              "      <td>0</td>\n",
              "      <td>188278</td>\n",
              "    </tr>\n",
              "    <tr>\n",
              "      <th>1</th>\n",
              "      <td>M</td>\n",
              "      <td>0</td>\n",
              "      <td>94404</td>\n",
              "    </tr>\n",
              "    <tr>\n",
              "      <th>2</th>\n",
              "      <td>F</td>\n",
              "      <td>1</td>\n",
              "      <td>14170</td>\n",
              "    </tr>\n",
              "    <tr>\n",
              "      <th>3</th>\n",
              "      <td>M</td>\n",
              "      <td>1</td>\n",
              "      <td>10655</td>\n",
              "    </tr>\n",
              "  </tbody>\n",
              "</table>\n",
              "</div>"
            ],
            "text/plain": [
              "  label  Target  counts\n",
              "0     F       0  188278\n",
              "1     M       0   94404\n",
              "2     F       1   14170\n",
              "3     M       1   10655"
            ]
          },
          "execution_count": 46,
          "metadata": {},
          "output_type": "execute_result"
        }
      ]
    },
    {
      "cell_type": "code",
      "metadata": {
        "colab": {
          "base_uri": "https://localhost:8080/",
          "height": 253
        },
        "id": "MFqhkkeBVKLY",
        "outputId": "d1d73cd7-2358-45c1-aa4e-053d5a7fd383"
      },
      "source": [
        "explode = (0, 0.1, 0, 0.1, 0)\n",
        "colors = [ '#ffded3', '#f29d7f']\n",
        "mylabels = ['F_0',\"M_0\",'F_1', \"M_1\"]\n",
        "fig1, ax1 = plt.subplots()\n",
        "ax1.pie(tab3['counts'],\n",
        "        labels=mylabels,\n",
        "        #explode = explode,\n",
        "        autopct='%1.0f%%',\n",
        "        shadow=False, \n",
        "        startangle=90,\n",
        "        wedgeprops = { 'linewidth' : 1, 'edgecolor' : 'white' }, \n",
        "        colors=colors\n",
        "     )\n",
        "ax1.axis('equal')  # Equal aspect ratio ensures that pie is drawn as a circle.\n",
        "\n",
        "plt.show()"
      ],
      "execution_count": null,
      "outputs": [
        {
          "data": {
            "image/png": "[encoded data removed]",
            "text/plain": [
              "<Figure size 432x288 with 1 Axes>"
            ]
          },
          "metadata": {},
          "output_type": "display_data"
        }
      ]
    },
    {
      "cell_type": "code",
      "metadata": {
        "colab": {
          "base_uri": "https://localhost:8080/",
          "height": 508
        },
        "id": "2n8uz2ST5M4a",
        "outputId": "f198febc-eb50-42fa-a462-cf1e1fdc5a93"
      },
      "source": [
        "tab4 = datos['CHILDREN'].value_counts().rename_axis('# Hijos').reset_index(name='# Personas')\n",
        "tab4"
      ],
      "execution_count": null,
      "outputs": [
        {
          "data": {
            "text/html": [
              "<div>\n",
              "<style scoped>\n",
              "    .dataframe tbody tr th:only-of-type {\n",
              "        vertical-align: middle;\n",
              "    }\n",
              "\n",
              "    .dataframe tbody tr th {\n",
              "        vertical-align: top;\n",
              "    }\n",
              "\n",
              "    .dataframe thead th {\n",
              "        text-align: right;\n",
              "    }\n",
              "</style>\n",
              "<table border=\"1\" class=\"dataframe\">\n",
              "  <thead>\n",
              "    <tr style=\"text-align: right;\">\n",
              "      <th></th>\n",
              "      <th># Hijos</th>\n",
              "      <th># Personas</th>\n",
              "    </tr>\n",
              "  </thead>\n",
              "  <tbody>\n",
              "    <tr>\n",
              "      <th>0</th>\n",
              "      <td>0</td>\n",
              "      <td>215371</td>\n",
              "    </tr>\n",
              "    <tr>\n",
              "      <th>1</th>\n",
              "      <td>1</td>\n",
              "      <td>61119</td>\n",
              "    </tr>\n",
              "    <tr>\n",
              "      <th>2</th>\n",
              "      <td>2</td>\n",
              "      <td>26749</td>\n",
              "    </tr>\n",
              "    <tr>\n",
              "      <th>3</th>\n",
              "      <td>3</td>\n",
              "      <td>3717</td>\n",
              "    </tr>\n",
              "    <tr>\n",
              "      <th>4</th>\n",
              "      <td>4</td>\n",
              "      <td>429</td>\n",
              "    </tr>\n",
              "    <tr>\n",
              "      <th>5</th>\n",
              "      <td>5</td>\n",
              "      <td>84</td>\n",
              "    </tr>\n",
              "    <tr>\n",
              "      <th>6</th>\n",
              "      <td>6</td>\n",
              "      <td>21</td>\n",
              "    </tr>\n",
              "    <tr>\n",
              "      <th>7</th>\n",
              "      <td>7</td>\n",
              "      <td>7</td>\n",
              "    </tr>\n",
              "    <tr>\n",
              "      <th>8</th>\n",
              "      <td>14</td>\n",
              "      <td>3</td>\n",
              "    </tr>\n",
              "    <tr>\n",
              "      <th>9</th>\n",
              "      <td>19</td>\n",
              "      <td>2</td>\n",
              "    </tr>\n",
              "    <tr>\n",
              "      <th>10</th>\n",
              "      <td>12</td>\n",
              "      <td>2</td>\n",
              "    </tr>\n",
              "    <tr>\n",
              "      <th>11</th>\n",
              "      <td>10</td>\n",
              "      <td>2</td>\n",
              "    </tr>\n",
              "    <tr>\n",
              "      <th>12</th>\n",
              "      <td>9</td>\n",
              "      <td>2</td>\n",
              "    </tr>\n",
              "    <tr>\n",
              "      <th>13</th>\n",
              "      <td>8</td>\n",
              "      <td>2</td>\n",
              "    </tr>\n",
              "    <tr>\n",
              "      <th>14</th>\n",
              "      <td>11</td>\n",
              "      <td>1</td>\n",
              "    </tr>\n",
              "  </tbody>\n",
              "</table>\n",
              "</div>"
            ],
            "text/plain": [
              "    # Hijos  # Personas\n",
              "0         0      215371\n",
              "1         1       61119\n",
              "2         2       26749\n",
              "3         3        3717\n",
              "4         4         429\n",
              "5         5          84\n",
              "6         6          21\n",
              "7         7           7\n",
              "8        14           3\n",
              "9        19           2\n",
              "10       12           2\n",
              "11       10           2\n",
              "12        9           2\n",
              "13        8           2\n",
              "14       11           1"
            ]
          },
          "execution_count": 33,
          "metadata": {},
          "output_type": "execute_result"
        }
      ]
    },
    {
      "cell_type": "code",
      "metadata": {
        "colab": {
          "base_uri": "https://localhost:8080/",
          "height": 401
        },
        "id": "mCXY-nF6GwaN",
        "outputId": "508fbd39-be06-434f-96f1-e6977f2b337e"
      },
      "source": [
        "sns.catplot(data = tab4,\n",
        "            kind = \"bar\",\n",
        "            estimator = sum,\n",
        "            x = \"# Hijos\",\n",
        "            y = \"# Personas\",\n",
        "            palette = 'magma',\n",
        "            ci = None)\n"
      ],
      "execution_count": null,
      "outputs": [
        {
          "data": {
            "text/plain": [
              "<seaborn.axisgrid.FacetGrid at 0x7f41a1b56f10>"
            ]
          },
          "execution_count": 34,
          "metadata": {},
          "output_type": "execute_result"
        },
        {
          "data": {
            "image/png": "[encoded data removed]",
            "text/plain": [
              "<Figure size 360x360 with 1 Axes>"
            ]
          },
          "metadata": {},
          "output_type": "display_data"
        }
      ]
    },
    {
      "cell_type": "code",
      "metadata": {
        "colab": {
          "base_uri": "https://localhost:8080/",
          "height": 414
        },
        "id": "10S0sw1Q6Oyd",
        "outputId": "a76ee3a1-7743-453b-ddb6-76d88375bd89"
      },
      "source": [
        "tab4 = datos[['CHILDREN', 'TARGET', 'INCOME']].value_counts().rename_axis(['# Hijos', 'Target', 'Ingreso']).reset_index(name='# Personas')\n",
        "tab4"
      ],
      "execution_count": null,
      "outputs": [
        {
          "data": {
            "text/html": [
              "<div>\n",
              "<style scoped>\n",
              "    .dataframe tbody tr th:only-of-type {\n",
              "        vertical-align: middle;\n",
              "    }\n",
              "\n",
              "    .dataframe tbody tr th {\n",
              "        vertical-align: top;\n",
              "    }\n",
              "\n",
              "    .dataframe thead th {\n",
              "        text-align: right;\n",
              "    }\n",
              "</style>\n",
              "<table border=\"1\" class=\"dataframe\">\n",
              "  <thead>\n",
              "    <tr style=\"text-align: right;\">\n",
              "      <th></th>\n",
              "      <th># Hijos</th>\n",
              "      <th>Target</th>\n",
              "      <th>Ingreso</th>\n",
              "      <th># Personas</th>\n",
              "    </tr>\n",
              "  </thead>\n",
              "  <tbody>\n",
              "    <tr>\n",
              "      <th>0</th>\n",
              "      <td>0</td>\n",
              "      <td>0</td>\n",
              "      <td>135000</td>\n",
              "      <td>22723</td>\n",
              "    </tr>\n",
              "    <tr>\n",
              "      <th>1</th>\n",
              "      <td>0</td>\n",
              "      <td>0</td>\n",
              "      <td>112500</td>\n",
              "      <td>20072</td>\n",
              "    </tr>\n",
              "    <tr>\n",
              "      <th>2</th>\n",
              "      <td>0</td>\n",
              "      <td>0</td>\n",
              "      <td>157500</td>\n",
              "      <td>16916</td>\n",
              "    </tr>\n",
              "    <tr>\n",
              "      <th>3</th>\n",
              "      <td>0</td>\n",
              "      <td>0</td>\n",
              "      <td>180000</td>\n",
              "      <td>15412</td>\n",
              "    </tr>\n",
              "    <tr>\n",
              "      <th>4</th>\n",
              "      <td>0</td>\n",
              "      <td>0</td>\n",
              "      <td>90000</td>\n",
              "      <td>14411</td>\n",
              "    </tr>\n",
              "    <tr>\n",
              "      <th>...</th>\n",
              "      <td>...</td>\n",
              "      <td>...</td>\n",
              "      <td>...</td>\n",
              "      <td>...</td>\n",
              "    </tr>\n",
              "    <tr>\n",
              "      <th>4122</th>\n",
              "      <td>2</td>\n",
              "      <td>0</td>\n",
              "      <td>77985</td>\n",
              "      <td>1</td>\n",
              "    </tr>\n",
              "    <tr>\n",
              "      <th>4123</th>\n",
              "      <td>2</td>\n",
              "      <td>0</td>\n",
              "      <td>79079</td>\n",
              "      <td>1</td>\n",
              "    </tr>\n",
              "    <tr>\n",
              "      <th>4124</th>\n",
              "      <td>0</td>\n",
              "      <td>0</td>\n",
              "      <td>555327</td>\n",
              "      <td>1</td>\n",
              "    </tr>\n",
              "    <tr>\n",
              "      <th>4125</th>\n",
              "      <td>0</td>\n",
              "      <td>0</td>\n",
              "      <td>549000</td>\n",
              "      <td>1</td>\n",
              "    </tr>\n",
              "    <tr>\n",
              "      <th>4126</th>\n",
              "      <td>0</td>\n",
              "      <td>0</td>\n",
              "      <td>25650</td>\n",
              "      <td>1</td>\n",
              "    </tr>\n",
              "  </tbody>\n",
              "</table>\n",
              "<p>4127 rows × 4 columns</p>\n",
              "</div>"
            ],
            "text/plain": [
              "      # Hijos  Target  Ingreso  # Personas\n",
              "0           0       0   135000       22723\n",
              "1           0       0   112500       20072\n",
              "2           0       0   157500       16916\n",
              "3           0       0   180000       15412\n",
              "4           0       0    90000       14411\n",
              "...       ...     ...      ...         ...\n",
              "4122        2       0    77985           1\n",
              "4123        2       0    79079           1\n",
              "4124        0       0   555327           1\n",
              "4125        0       0   549000           1\n",
              "4126        0       0    25650           1\n",
              "\n",
              "[4127 rows x 4 columns]"
            ]
          },
          "execution_count": 35,
          "metadata": {},
          "output_type": "execute_result"
        }
      ]
    },
    {
      "cell_type": "code",
      "metadata": {
        "colab": {
          "base_uri": "https://localhost:8080/",
          "height": 307
        },
        "id": "tLtnpPp_8XVI",
        "outputId": "0cbf7071-11d7-492d-8abe-53f5c63e2b0a"
      },
      "source": [
        "sns.scatterplot(data=tab4,  x=\"# Hijos\", y=\"Ingreso\", hue = \"Target\")"
      ],
      "execution_count": null,
      "outputs": [
        {
          "data": {
            "text/plain": [
              "<matplotlib.axes._subplots.AxesSubplot at 0x7f419de19910>"
            ]
          },
          "execution_count": 36,
          "metadata": {},
          "output_type": "execute_result"
        },
        {
          "data": {
            "image/png": "[encoded data removed]",
            "text/plain": [
              "<Figure size 432x288 with 1 Axes>"
            ]
          },
          "metadata": {},
          "output_type": "display_data"
        }
      ]
    },
    {
      "cell_type": "code",
      "metadata": {
        "colab": {
          "base_uri": "https://localhost:8080/",
          "height": 447
        },
        "id": "xoy7e1fJJ6tL",
        "outputId": "a0ca5d94-0e37-41f0-b709-4efd92bb7fd5"
      },
      "source": [
        "tab5 = datos[['SEX','EDUCATION_TYPE']].value_counts().rename_axis(['Sexo','Nivel Educativo']).reset_index(name='# Personas')\n",
        "tab5"
      ],
      "execution_count": null,
      "outputs": [
        {
          "data": {
            "text/html": [
              "<div>\n",
              "<style scoped>\n",
              "    .dataframe tbody tr th:only-of-type {\n",
              "        vertical-align: middle;\n",
              "    }\n",
              "\n",
              "    .dataframe tbody tr th {\n",
              "        vertical-align: top;\n",
              "    }\n",
              "\n",
              "    .dataframe thead th {\n",
              "        text-align: right;\n",
              "    }\n",
              "</style>\n",
              "<table border=\"1\" class=\"dataframe\">\n",
              "  <thead>\n",
              "    <tr style=\"text-align: right;\">\n",
              "      <th></th>\n",
              "      <th>Sexo</th>\n",
              "      <th>Nivel Educativo</th>\n",
              "      <th># Personas</th>\n",
              "    </tr>\n",
              "  </thead>\n",
              "  <tbody>\n",
              "    <tr>\n",
              "      <th>0</th>\n",
              "      <td>F</td>\n",
              "      <td>Secondary / secondary special</td>\n",
              "      <td>143465</td>\n",
              "    </tr>\n",
              "    <tr>\n",
              "      <th>1</th>\n",
              "      <td>M</td>\n",
              "      <td>Secondary / secondary special</td>\n",
              "      <td>74924</td>\n",
              "    </tr>\n",
              "    <tr>\n",
              "      <th>2</th>\n",
              "      <td>F</td>\n",
              "      <td>Higher education</td>\n",
              "      <td>50289</td>\n",
              "    </tr>\n",
              "    <tr>\n",
              "      <th>3</th>\n",
              "      <td>M</td>\n",
              "      <td>Higher education</td>\n",
              "      <td>24573</td>\n",
              "    </tr>\n",
              "    <tr>\n",
              "      <th>4</th>\n",
              "      <td>F</td>\n",
              "      <td>Incomplete higher</td>\n",
              "      <td>6283</td>\n",
              "    </tr>\n",
              "    <tr>\n",
              "      <th>5</th>\n",
              "      <td>M</td>\n",
              "      <td>Incomplete higher</td>\n",
              "      <td>3993</td>\n",
              "    </tr>\n",
              "    <tr>\n",
              "      <th>6</th>\n",
              "      <td>F</td>\n",
              "      <td>Lower secondary</td>\n",
              "      <td>2311</td>\n",
              "    </tr>\n",
              "    <tr>\n",
              "      <th>7</th>\n",
              "      <td>M</td>\n",
              "      <td>Lower secondary</td>\n",
              "      <td>1505</td>\n",
              "    </tr>\n",
              "    <tr>\n",
              "      <th>8</th>\n",
              "      <td>F</td>\n",
              "      <td>Academic degree</td>\n",
              "      <td>100</td>\n",
              "    </tr>\n",
              "    <tr>\n",
              "      <th>9</th>\n",
              "      <td>M</td>\n",
              "      <td>Academic degree</td>\n",
              "      <td>64</td>\n",
              "    </tr>\n",
              "    <tr>\n",
              "      <th>10</th>\n",
              "      <td>XNA</td>\n",
              "      <td>Secondary / secondary special</td>\n",
              "      <td>2</td>\n",
              "    </tr>\n",
              "    <tr>\n",
              "      <th>11</th>\n",
              "      <td>XNA</td>\n",
              "      <td>Incomplete higher</td>\n",
              "      <td>1</td>\n",
              "    </tr>\n",
              "    <tr>\n",
              "      <th>12</th>\n",
              "      <td>XNA</td>\n",
              "      <td>Higher education</td>\n",
              "      <td>1</td>\n",
              "    </tr>\n",
              "  </tbody>\n",
              "</table>\n",
              "</div>"
            ],
            "text/plain": [
              "   Sexo                Nivel Educativo  # Personas\n",
              "0     F  Secondary / secondary special      143465\n",
              "1     M  Secondary / secondary special       74924\n",
              "2     F               Higher education       50289\n",
              "3     M               Higher education       24573\n",
              "4     F              Incomplete higher        6283\n",
              "5     M              Incomplete higher        3993\n",
              "6     F                Lower secondary        2311\n",
              "7     M                Lower secondary        1505\n",
              "8     F                Academic degree         100\n",
              "9     M                Academic degree          64\n",
              "10  XNA  Secondary / secondary special           2\n",
              "11  XNA              Incomplete higher           1\n",
              "12  XNA               Higher education           1"
            ]
          },
          "execution_count": 37,
          "metadata": {},
          "output_type": "execute_result"
        }
      ]
    },
    {
      "cell_type": "code",
      "metadata": {
        "colab": {
          "base_uri": "https://localhost:8080/",
          "height": 296
        },
        "id": "BCa9J1yoRjnX",
        "outputId": "312ab002-7407-4002-d81a-0549ed5472b4"
      },
      "source": [
        "sns.barplot(data = tab5,\n",
        "            estimator = sum,\n",
        "            x = \"Sexo\", \n",
        "            y = \"# Personas\",\n",
        "            hue = \"Nivel Educativo\",\n",
        "            palette = 'magma',\n",
        "            ci = None,\n",
        "            )"
      ],
      "execution_count": null,
      "outputs": [
        {
          "data": {
            "text/plain": [
              "<matplotlib.axes._subplots.AxesSubplot at 0x7f419e5ed0d0>"
            ]
          },
          "execution_count": 38,
          "metadata": {},
          "output_type": "execute_result"
        },
        {
          "data": {
            "image/png": "[encoded data removed]",
            "text/plain": [
              "<Figure size 432x288 with 1 Axes>"
            ]
          },
          "metadata": {},
          "output_type": "display_data"
        }
      ]
    },
    {
      "cell_type": "code",
      "metadata": {
        "colab": {
          "base_uri": "https://localhost:8080/",
          "height": 232
        },
        "id": "29UFFACdRjtb",
        "outputId": "8a7ba9b8-7238-4bd1-a332-e453be07215c"
      },
      "source": [
        "tab5 = datos['FAMILY_STATUS'].value_counts().rename_axis('Estado Civil').reset_index(name='# Personas')\n",
        "tab5"
      ],
      "execution_count": null,
      "outputs": [
        {
          "data": {
            "text/html": [
              "<div>\n",
              "<style scoped>\n",
              "    .dataframe tbody tr th:only-of-type {\n",
              "        vertical-align: middle;\n",
              "    }\n",
              "\n",
              "    .dataframe tbody tr th {\n",
              "        vertical-align: top;\n",
              "    }\n",
              "\n",
              "    .dataframe thead th {\n",
              "        text-align: right;\n",
              "    }\n",
              "</style>\n",
              "<table border=\"1\" class=\"dataframe\">\n",
              "  <thead>\n",
              "    <tr style=\"text-align: right;\">\n",
              "      <th></th>\n",
              "      <th>Estado Civil</th>\n",
              "      <th># Personas</th>\n",
              "    </tr>\n",
              "  </thead>\n",
              "  <tbody>\n",
              "    <tr>\n",
              "      <th>0</th>\n",
              "      <td>Married</td>\n",
              "      <td>196432</td>\n",
              "    </tr>\n",
              "    <tr>\n",
              "      <th>1</th>\n",
              "      <td>Single / not married</td>\n",
              "      <td>45444</td>\n",
              "    </tr>\n",
              "    <tr>\n",
              "      <th>2</th>\n",
              "      <td>Civil marriage</td>\n",
              "      <td>29775</td>\n",
              "    </tr>\n",
              "    <tr>\n",
              "      <th>3</th>\n",
              "      <td>Separated</td>\n",
              "      <td>19770</td>\n",
              "    </tr>\n",
              "    <tr>\n",
              "      <th>4</th>\n",
              "      <td>Widow</td>\n",
              "      <td>16088</td>\n",
              "    </tr>\n",
              "    <tr>\n",
              "      <th>5</th>\n",
              "      <td>Unknown</td>\n",
              "      <td>2</td>\n",
              "    </tr>\n",
              "  </tbody>\n",
              "</table>\n",
              "</div>"
            ],
            "text/plain": [
              "           Estado Civil  # Personas\n",
              "0               Married      196432\n",
              "1  Single / not married       45444\n",
              "2        Civil marriage       29775\n",
              "3             Separated       19770\n",
              "4                 Widow       16088\n",
              "5               Unknown           2"
            ]
          },
          "execution_count": 39,
          "metadata": {},
          "output_type": "execute_result"
        }
      ]
    },
    {
      "cell_type": "code",
      "metadata": {
        "colab": {
          "base_uri": "https://localhost:8080/",
          "height": 253
        },
        "id": "_466iDtvZGvc",
        "outputId": "68371a5c-ddba-4425-9d5b-b57c3ac48c90"
      },
      "source": [
        "explode = (0, 0, 0, 0, 0, 0.1)  # only \"explode\" the 2nd slice (i.e. 'Hogs')\n",
        "colors = [ '#712b9d', '#8a6e88', '#a1636a', '#6879a8']\n",
        "mylabels = ['Casado', \"Soltero\", \"Casado-Civil\", \"Separado\", \"Viudo\", \"NS/NR\"]\n",
        "fig1, ax1 = plt.subplots()\n",
        "ax1.pie(tab5['# Personas'],\n",
        "        labels=mylabels,\n",
        "        explode = explode,\n",
        "        autopct='%1.2f%%',\n",
        "        shadow=False, \n",
        "        startangle=90,\n",
        "        wedgeprops = { 'linewidth' : 1, 'edgecolor' : 'white' }, colors=colors)\n",
        "ax1.axis('equal')  # Equal aspect ratio ensures that pie is drawn as a circle.\n",
        "p=plt.gcf()\n",
        "my_circle=plt.Circle( (0,0), 0.7, color='white')\n",
        "p.gca().add_artist(my_circle)\n",
        "plt.show()"
      ],
      "execution_count": null,
      "outputs": [
        {
          "data": {
            "image/png": "[encoded data removed]",
            "text/plain": [
              "<Figure size 432x288 with 1 Axes>"
            ]
          },
          "metadata": {},
          "output_type": "display_data"
        }
      ]
    },
    {
      "cell_type": "code",
      "metadata": {
        "colab": {
          "base_uri": "https://localhost:8080/",
          "height": 294
        },
        "id": "FuQawXr2bZ20",
        "outputId": "4ca3b18f-1c16-4f5e-80af-98c8518b2278"
      },
      "source": [
        "tab6 = datos['INCOME_TYPE'].value_counts().rename_axis('Fuente de Ingreso').reset_index(name='# Personas')\n",
        "tab6\n"
      ],
      "execution_count": null,
      "outputs": [
        {
          "data": {
            "text/html": [
              "<div>\n",
              "<style scoped>\n",
              "    .dataframe tbody tr th:only-of-type {\n",
              "        vertical-align: middle;\n",
              "    }\n",
              "\n",
              "    .dataframe tbody tr th {\n",
              "        vertical-align: top;\n",
              "    }\n",
              "\n",
              "    .dataframe thead th {\n",
              "        text-align: right;\n",
              "    }\n",
              "</style>\n",
              "<table border=\"1\" class=\"dataframe\">\n",
              "  <thead>\n",
              "    <tr style=\"text-align: right;\">\n",
              "      <th></th>\n",
              "      <th>Fuente de Ingreso</th>\n",
              "      <th># Personas</th>\n",
              "    </tr>\n",
              "  </thead>\n",
              "  <tbody>\n",
              "    <tr>\n",
              "      <th>0</th>\n",
              "      <td>Workingg</td>\n",
              "      <td>158774</td>\n",
              "    </tr>\n",
              "    <tr>\n",
              "      <th>1</th>\n",
              "      <td>Commercial associate</td>\n",
              "      <td>71617</td>\n",
              "    </tr>\n",
              "    <tr>\n",
              "      <th>2</th>\n",
              "      <td>Pensioner</td>\n",
              "      <td>55362</td>\n",
              "    </tr>\n",
              "    <tr>\n",
              "      <th>3</th>\n",
              "      <td>State servant</td>\n",
              "      <td>21703</td>\n",
              "    </tr>\n",
              "    <tr>\n",
              "      <th>4</th>\n",
              "      <td>Unemployed</td>\n",
              "      <td>22</td>\n",
              "    </tr>\n",
              "    <tr>\n",
              "      <th>5</th>\n",
              "      <td>Student</td>\n",
              "      <td>18</td>\n",
              "    </tr>\n",
              "    <tr>\n",
              "      <th>6</th>\n",
              "      <td>Businessman</td>\n",
              "      <td>10</td>\n",
              "    </tr>\n",
              "    <tr>\n",
              "      <th>7</th>\n",
              "      <td>Maternity leave</td>\n",
              "      <td>5</td>\n",
              "    </tr>\n",
              "  </tbody>\n",
              "</table>\n",
              "</div>"
            ],
            "text/plain": [
              "      Fuente de Ingreso  # Personas\n",
              "0              Workingg      158774\n",
              "1  Commercial associate       71617\n",
              "2             Pensioner       55362\n",
              "3         State servant       21703\n",
              "4            Unemployed          22\n",
              "5               Student          18\n",
              "6           Businessman          10\n",
              "7       Maternity leave           5"
            ]
          },
          "execution_count": 41,
          "metadata": {},
          "output_type": "execute_result"
        }
      ]
    },
    {
      "cell_type": "code",
      "metadata": {
        "colab": {
          "base_uri": "https://localhost:8080/",
          "height": 307
        },
        "id": "Kwr2_7TB3Nk9",
        "outputId": "4a9d3e6e-bc6e-494b-e9d9-f8f306e22f61"
      },
      "source": [
        "sns.scatterplot(data=datos,  y=\"CREDIT\", x=\"BIRTH\", palette = \"magma\")"
      ],
      "execution_count": null,
      "outputs": [
        {
          "data": {
            "text/plain": [
              "<matplotlib.axes._subplots.AxesSubplot at 0x7f419da8efd0>"
            ]
          },
          "execution_count": 53,
          "metadata": {},
          "output_type": "execute_result"
        },
        {
          "data": {
            "image/png": "[encoded data removed]",
            "text/plain": [
              "<Figure size 432x288 with 1 Axes>"
            ]
          },
          "metadata": {},
          "output_type": "display_data"
        }
      ]
    },
    {
      "cell_type": "code",
      "metadata": {
        "colab": {
          "base_uri": "https://localhost:8080/",
          "height": 388
        },
        "id": "ZY567ypk3b9u",
        "outputId": "f58c94d2-689e-41f8-c7e4-2e89a696e01b"
      },
      "source": [
        "df = datos[datos['INCOME'] < 250000]\n",
        "df2 = datos[datos['TARGET'] == 1]\n",
        "df2.head()"
      ],
      "execution_count": null,
      "outputs": [
        {
          "data": {
            "text/html": [
              "<div>\n",
              "<style scoped>\n",
              "    .dataframe tbody tr th:only-of-type {\n",
              "        vertical-align: middle;\n",
              "    }\n",
              "\n",
              "    .dataframe tbody tr th {\n",
              "        vertical-align: top;\n",
              "    }\n",
              "\n",
              "    .dataframe thead th {\n",
              "        text-align: right;\n",
              "    }\n",
              "</style>\n",
              "<table border=\"1\" class=\"dataframe\">\n",
              "  <thead>\n",
              "    <tr style=\"text-align: right;\">\n",
              "      <th></th>\n",
              "      <th>ID</th>\n",
              "      <th>TARGET</th>\n",
              "      <th>CONTRACT_TYPE</th>\n",
              "      <th>SEX</th>\n",
              "      <th>OWN_REALTY</th>\n",
              "      <th>CHILDREN</th>\n",
              "      <th>INCOME</th>\n",
              "      <th>CREDIT</th>\n",
              "      <th>INCOME_TYPE</th>\n",
              "      <th>EDUCATION_TYPE</th>\n",
              "      <th>FAMILY_STATUS</th>\n",
              "      <th>HOUSING_TYPE</th>\n",
              "      <th>BIRTH</th>\n",
              "      <th>EMPLOYED</th>\n",
              "      <th>EMP_PHONE</th>\n",
              "      <th>CONT_MOBILE</th>\n",
              "      <th>EMAIL</th>\n",
              "      <th>OCCUPATION_TYPE</th>\n",
              "      <th>WEEKDAY</th>\n",
              "      <th>REG_REGION_NOT_LIVE_REGION</th>\n",
              "      <th>DEF_30_CNT</th>\n",
              "      <th>DEF_60_CNT</th>\n",
              "      <th>DAYS_LAST_PHONE_CHANGE</th>\n",
              "      <th>BUREAU_3</th>\n",
              "      <th>INCOME_group</th>\n",
              "      <th>CREDIT_group</th>\n",
              "      <th>BIRTH_group</th>\n",
              "    </tr>\n",
              "  </thead>\n",
              "  <tbody>\n",
              "    <tr>\n",
              "      <th>0</th>\n",
              "      <td>100002</td>\n",
              "      <td>1</td>\n",
              "      <td>Cash loans</td>\n",
              "      <td>M</td>\n",
              "      <td>1</td>\n",
              "      <td>0</td>\n",
              "      <td>202500</td>\n",
              "      <td>406598</td>\n",
              "      <td>Workingg</td>\n",
              "      <td>Secondary / secondary special</td>\n",
              "      <td>Single / not married</td>\n",
              "      <td>House / apartment</td>\n",
              "      <td>26</td>\n",
              "      <td>2</td>\n",
              "      <td>1</td>\n",
              "      <td>1</td>\n",
              "      <td>0</td>\n",
              "      <td>Laborers</td>\n",
              "      <td>WEDNESDAY</td>\n",
              "      <td>0</td>\n",
              "      <td>2.0</td>\n",
              "      <td>2.0</td>\n",
              "      <td>-1134.0</td>\n",
              "      <td>0.0</td>\n",
              "      <td>(175000, 250000]</td>\n",
              "      <td>(275000, 600000]</td>\n",
              "      <td>(20, 30]</td>\n",
              "    </tr>\n",
              "    <tr>\n",
              "      <th>26</th>\n",
              "      <td>100031</td>\n",
              "      <td>1</td>\n",
              "      <td>Cash loans</td>\n",
              "      <td>F</td>\n",
              "      <td>1</td>\n",
              "      <td>0</td>\n",
              "      <td>112500</td>\n",
              "      <td>979992</td>\n",
              "      <td>Workingg</td>\n",
              "      <td>Secondary / secondary special</td>\n",
              "      <td>Widow</td>\n",
              "      <td>House / apartment</td>\n",
              "      <td>52</td>\n",
              "      <td>7</td>\n",
              "      <td>1</td>\n",
              "      <td>1</td>\n",
              "      <td>0</td>\n",
              "      <td>Cooking staff</td>\n",
              "      <td>MONDAY</td>\n",
              "      <td>0</td>\n",
              "      <td>1.0</td>\n",
              "      <td>0.0</td>\n",
              "      <td>-161.0</td>\n",
              "      <td>2.0</td>\n",
              "      <td>(100000, 175000]</td>\n",
              "      <td>(875000, 4050000]</td>\n",
              "      <td>(50, 70]</td>\n",
              "    </tr>\n",
              "    <tr>\n",
              "      <th>40</th>\n",
              "      <td>100047</td>\n",
              "      <td>1</td>\n",
              "      <td>Cash loans</td>\n",
              "      <td>M</td>\n",
              "      <td>1</td>\n",
              "      <td>0</td>\n",
              "      <td>202500</td>\n",
              "      <td>1193580</td>\n",
              "      <td>Commercial associate</td>\n",
              "      <td>Secondary / secondary special</td>\n",
              "      <td>Married</td>\n",
              "      <td>House / apartment</td>\n",
              "      <td>48</td>\n",
              "      <td>4</td>\n",
              "      <td>1</td>\n",
              "      <td>1</td>\n",
              "      <td>0</td>\n",
              "      <td>Laborers</td>\n",
              "      <td>TUESDAY</td>\n",
              "      <td>0</td>\n",
              "      <td>0.0</td>\n",
              "      <td>0.0</td>\n",
              "      <td>-1075.0</td>\n",
              "      <td>0.0</td>\n",
              "      <td>(175000, 250000]</td>\n",
              "      <td>(875000, 4050000]</td>\n",
              "      <td>(40, 50]</td>\n",
              "    </tr>\n",
              "    <tr>\n",
              "      <th>42</th>\n",
              "      <td>100049</td>\n",
              "      <td>1</td>\n",
              "      <td>Cash loans</td>\n",
              "      <td>F</td>\n",
              "      <td>0</td>\n",
              "      <td>0</td>\n",
              "      <td>135000</td>\n",
              "      <td>288873</td>\n",
              "      <td>Workingg</td>\n",
              "      <td>Secondary / secondary special</td>\n",
              "      <td>Civil marriage</td>\n",
              "      <td>House / apartment</td>\n",
              "      <td>37</td>\n",
              "      <td>10</td>\n",
              "      <td>1</td>\n",
              "      <td>1</td>\n",
              "      <td>0</td>\n",
              "      <td>Sales staff</td>\n",
              "      <td>THURSDAY</td>\n",
              "      <td>0</td>\n",
              "      <td>0.0</td>\n",
              "      <td>0.0</td>\n",
              "      <td>-1480.0</td>\n",
              "      <td>0.0</td>\n",
              "      <td>(100000, 175000]</td>\n",
              "      <td>(275000, 600000]</td>\n",
              "      <td>(30, 40]</td>\n",
              "    </tr>\n",
              "    <tr>\n",
              "      <th>81</th>\n",
              "      <td>100096</td>\n",
              "      <td>1</td>\n",
              "      <td>Cash loans</td>\n",
              "      <td>F</td>\n",
              "      <td>1</td>\n",
              "      <td>0</td>\n",
              "      <td>81000</td>\n",
              "      <td>252000</td>\n",
              "      <td>Pensioner</td>\n",
              "      <td>Secondary / secondary special</td>\n",
              "      <td>Married</td>\n",
              "      <td>House / apartment</td>\n",
              "      <td>68</td>\n",
              "      <td>50</td>\n",
              "      <td>0</td>\n",
              "      <td>1</td>\n",
              "      <td>0</td>\n",
              "      <td>NaN</td>\n",
              "      <td>THURSDAY</td>\n",
              "      <td>0</td>\n",
              "      <td>1.0</td>\n",
              "      <td>1.0</td>\n",
              "      <td>0.0</td>\n",
              "      <td>0.0</td>\n",
              "      <td>(25000, 100000]</td>\n",
              "      <td>(45000, 275000]</td>\n",
              "      <td>(50, 70]</td>\n",
              "    </tr>\n",
              "  </tbody>\n",
              "</table>\n",
              "</div>"
            ],
            "text/plain": [
              "        ID  TARGET  ...       CREDIT_group BIRTH_group\n",
              "0   100002       1  ...   (275000, 600000]    (20, 30]\n",
              "26  100031       1  ...  (875000, 4050000]    (50, 70]\n",
              "40  100047       1  ...  (875000, 4050000]    (40, 50]\n",
              "42  100049       1  ...   (275000, 600000]    (30, 40]\n",
              "81  100096       1  ...    (45000, 275000]    (50, 70]\n",
              "\n",
              "[5 rows x 27 columns]"
            ]
          },
          "execution_count": 54,
          "metadata": {},
          "output_type": "execute_result"
        }
      ]
    },
    {
      "cell_type": "code",
      "metadata": {
        "colab": {
          "base_uri": "https://localhost:8080/",
          "height": 312
        },
        "id": "naZuO17I3cWa",
        "outputId": "3a2d2d82-19b1-49a4-f114-221f24edf77f"
      },
      "source": [
        "g = sns.catplot(x=\"BIRTH_group\", hue=\"INCOME_group\", col=\"TARGET\",\n",
        "                data=df2, kind=\"count\",\n",
        "                height=4, aspect=.7, palette=\"viridis\");"
      ],
      "execution_count": null,
      "outputs": [
        {
          "data": {
            "image/png": "[encoded data removed]",
            "text/plain": [
              "<Figure size 346.1x288 with 1 Axes>"
            ]
          },
          "metadata": {},
          "output_type": "display_data"
        }
      ]
    },
    {
      "cell_type": "markdown",
      "metadata": {
        "id": "RndPBHnL0ziW"
      },
      "source": [
        "### Entrega 2"
      ]
    },
    {
      "cell_type": "markdown",
      "metadata": {
        "id": "Ie24jJAH_Dud"
      },
      "source": [
        "**MODELO: ÁRBOL**"
      ]
    },
    {
      "cell_type": "code",
      "metadata": {
        "colab": {
          "base_uri": "https://localhost:8080/"
        },
        "id": "wIxDabBpAmXo",
        "outputId": "334d59dd-7c9b-48b9-8c55-8fd0e8b06f3c"
      },
      "source": [
        "datos.columns.values"
      ],
      "execution_count": null,
      "outputs": [
        {
          "output_type": "execute_result",
          "data": {
            "text/plain": [
              "array(['ID', 'TARGET', 'CONTRACT_TYPE', 'SEX', 'CHILDREN', 'INCOME',\n",
              "       'CREDIT', 'INCOME_TYPE', 'EDUCATION_TYPE', 'FAMILY_STATUS',\n",
              "       'HOUSING_TYPE', 'BIRTH', 'BUREAU_3', 'INCOME_N', 'CREDIT_N',\n",
              "       'Ingreso_intervalo', 'Credito_intervalo'], dtype=object)"
            ]
          },
          "metadata": {},
          "execution_count": 24
        }
      ]
    },
    {
      "cell_type": "code",
      "metadata": {
        "id": "ESdYZLD9Cml4"
      },
      "source": [
        "import pandas as pd\n",
        "from sklearn import metrics\n",
        "import numpy as np\n",
        "%matplotlib inline\n",
        "import matplotlib.pyplot as plt\n",
        "from sklearn.model_selection import cross_val_score\n",
        "from sklearn.tree import DecisionTreeRegressor\n",
        "from sklearn.tree import export_graphviz\n",
        "from sklearn.tree import DecisionTreeClassifier"
      ],
      "execution_count": null,
      "outputs": []
    },
    {
      "cell_type": "code",
      "metadata": {
        "id": "CqvIVBxf3gB6",
        "colab": {
          "base_uri": "https://localhost:8080/"
        },
        "outputId": "e547df68-19df-4c1b-e656-c737b0c77df1"
      },
      "source": [
        "datos['SEX_C'] = datos.SEX.map({'F':0, 'M':1,'DatoFaltante':0})\n",
        "\n",
        "datos['CONTRACT_TYPE_C'] = datos.CONTRACT_TYPE.map({'Cash loans':0, 'Revolving loans':1})\n",
        "\n",
        "datos['INCOME_TYPE_C'] = datos.INCOME_TYPE.map({'Workingg':0, 'Commercial associate':1,'Pensioner':2, 'State servant':3, \n",
        "                                        'Unemployed':4, 'Student':5,'Businessman':6, 'Maternity leave':7})\n",
        "\n",
        "datos['EDUCATION_TYPE_C'] = datos.EDUCATION_TYPE.map({'Secondary / secondary special':0, 'Higher education':1,\n",
        "                                           'Incomplete higher':2, 'Lower secondary':3,\n",
        "                                           'Academic degree':4})\n",
        "\n",
        "datos['FAMILY_STATUS_C'] = datos.FAMILY_STATUS.map({'Civil marriage':0, 'Married':1, \n",
        "                                           'Separated':2, 'Single / not married':3, \n",
        "                                           'Unknown':3, 'Widow':4})\n",
        "\n",
        "datos['HOUSING_TYPE_C'] = datos.HOUSING_TYPE.map({'Co-op apartment':0, 'House / apartment':1, \n",
        "                                           'Municipal apartment':0, 'Office apartment':0, \n",
        "                                           'Rented apartment':0, 'With parents':2})\n",
        "\n",
        "datos['Ingreso_intervalo_C'] = datos.Ingreso_intervalo.map({'(25649.9, 99000.0]':0, '(99000.0, 135000.0]':1, \n",
        "                                           '(135000.0, 162000.0]':2, '(162000.0, 225000.0]':3, \n",
        "                                           '(225000.0, 336835935.0]':4})"
      ],
      "execution_count": null,
      "outputs": [
        {
          "output_type": "stream",
          "name": "stderr",
          "text": [
            "/usr/local/lib/python3.7/dist-packages/ipykernel_launcher.py:1: SettingWithCopyWarning: \n",
            "A value is trying to be set on a copy of a slice from a DataFrame.\n",
            "Try using .loc[row_indexer,col_indexer] = value instead\n",
            "\n",
            "See the caveats in the documentation: https://pandas.pydata.org/pandas-docs/stable/user_guide/indexing.html#returning-a-view-versus-a-copy\n",
            "  \"\"\"Entry point for launching an IPython kernel.\n",
            "/usr/local/lib/python3.7/dist-packages/ipykernel_launcher.py:3: SettingWithCopyWarning: \n",
            "A value is trying to be set on a copy of a slice from a DataFrame.\n",
            "Try using .loc[row_indexer,col_indexer] = value instead\n",
            "\n",
            "See the caveats in the documentation: https://pandas.pydata.org/pandas-docs/stable/user_guide/indexing.html#returning-a-view-versus-a-copy\n",
            "  This is separate from the ipykernel package so we can avoid doing imports until\n",
            "/usr/local/lib/python3.7/dist-packages/ipykernel_launcher.py:6: SettingWithCopyWarning: \n",
            "A value is trying to be set on a copy of a slice from a DataFrame.\n",
            "Try using .loc[row_indexer,col_indexer] = value instead\n",
            "\n",
            "See the caveats in the documentation: https://pandas.pydata.org/pandas-docs/stable/user_guide/indexing.html#returning-a-view-versus-a-copy\n",
            "  \n",
            "/usr/local/lib/python3.7/dist-packages/ipykernel_launcher.py:10: SettingWithCopyWarning: \n",
            "A value is trying to be set on a copy of a slice from a DataFrame.\n",
            "Try using .loc[row_indexer,col_indexer] = value instead\n",
            "\n",
            "See the caveats in the documentation: https://pandas.pydata.org/pandas-docs/stable/user_guide/indexing.html#returning-a-view-versus-a-copy\n",
            "  # Remove the CWD from sys.path while we load stuff.\n",
            "/usr/local/lib/python3.7/dist-packages/ipykernel_launcher.py:14: SettingWithCopyWarning: \n",
            "A value is trying to be set on a copy of a slice from a DataFrame.\n",
            "Try using .loc[row_indexer,col_indexer] = value instead\n",
            "\n",
            "See the caveats in the documentation: https://pandas.pydata.org/pandas-docs/stable/user_guide/indexing.html#returning-a-view-versus-a-copy\n",
            "  \n",
            "/usr/local/lib/python3.7/dist-packages/ipykernel_launcher.py:18: SettingWithCopyWarning: \n",
            "A value is trying to be set on a copy of a slice from a DataFrame.\n",
            "Try using .loc[row_indexer,col_indexer] = value instead\n",
            "\n",
            "See the caveats in the documentation: https://pandas.pydata.org/pandas-docs/stable/user_guide/indexing.html#returning-a-view-versus-a-copy\n"
          ]
        }
      ]
    },
    {
      "cell_type": "code",
      "metadata": {
        "id": "hSA1hwuQHhYY"
      },
      "source": [
        "datos['CHILDREN_C'] = datos.CHILDREN.map({0:0, 1:1, 2:1, 3:1, 4:1,\n",
        "                                                   5:0, 6:1, 7:1, 8:1, 9:1,\n",
        "                                                   10:0, 11:1, 12:1, 14:1, 19:1})"
      ],
      "execution_count": null,
      "outputs": []
    },
    {
      "cell_type": "code",
      "metadata": {
        "colab": {
          "base_uri": "https://localhost:8080/"
        },
        "id": "0p3CsGpR3o-k",
        "outputId": "e5c188a2-d76b-49ed-e6b6-8ef6ac48d8c1"
      },
      "source": [
        "datos['CHILDREN_C'].value_counts().sort_index()"
      ],
      "execution_count": null,
      "outputs": [
        {
          "output_type": "execute_result",
          "data": {
            "text/plain": [
              "0    215457\n",
              "1     92054\n",
              "Name: CHILDREN_C, dtype: int64"
            ]
          },
          "metadata": {},
          "execution_count": 28
        }
      ]
    },
    {
      "cell_type": "code",
      "metadata": {
        "colab": {
          "base_uri": "https://localhost:8080/"
        },
        "id": "4IQVgG8ZDa_v",
        "outputId": "f045ae57-a8de-4aa9-b0e9-860e43838e8d"
      },
      "source": [
        "datos['Rango_Ingreso'] = str(datos['Ingreso_intervalo'])\n",
        "datos['Rango_Ingreso'].head()"
      ],
      "execution_count": null,
      "outputs": [
        {
          "output_type": "execute_result",
          "data": {
            "text/plain": [
              "0    0            (162000.0, 225000.0]\\n1         (...\n",
              "1    0            (162000.0, 225000.0]\\n1         (...\n",
              "2    0            (162000.0, 225000.0]\\n1         (...\n",
              "3    0            (162000.0, 225000.0]\\n1         (...\n",
              "4    0            (162000.0, 225000.0]\\n1         (...\n",
              "Name: Rango_Ingreso, dtype: object"
            ]
          },
          "metadata": {},
          "execution_count": 29
        }
      ]
    },
    {
      "cell_type": "code",
      "metadata": {
        "colab": {
          "base_uri": "https://localhost:8080/"
        },
        "id": "z8L0PXm9_oTa",
        "outputId": "c78ac298-e2e7-4d21-82ac-2e901a82d3be"
      },
      "source": [
        "#Datos vacios:\n",
        "for col in datos.columns:\n",
        "    num_missing = datos[col].isnull().sum() \n",
        "\n",
        "    if num_missing > 0:\n",
        "      pct_missing = np.mean(datos[col].isnull())\n",
        "      print('{} - {}% - {}'.format(col,round(pct_missing*100, 2),num_missing))"
      ],
      "execution_count": null,
      "outputs": [
        {
          "output_type": "stream",
          "name": "stdout",
          "text": [
            "Ingreso_intervalo_C - 100.0% - 307511\n"
          ]
        }
      ]
    },
    {
      "cell_type": "code",
      "metadata": {
        "colab": {
          "base_uri": "https://localhost:8080/",
          "height": 390
        },
        "id": "wfTyRXl_B7VU",
        "outputId": "de4fee98-7638-4f7a-d02e-52d7b3cb0cfa"
      },
      "source": [
        "#VARIABLES MAS IMPORTANTES PARA HACER EL ARBOL\n",
        "\n",
        "feature_cols = ['CONTRACT_TYPE_C', 'SEX_C', 'CHILDREN_C', 'INCOME','CREDIT', \n",
        "                 'INCOME_TYPE_C', 'EDUCATION_TYPE_C', 'FAMILY_STATUS_C', \n",
        "                 'BIRTH', 'BUREAU_3','HOUSING_TYPE_C']\n",
        "\n",
        "Y = datos.TARGET\n",
        "X = datos[feature_cols]\n",
        "\n",
        "# max_depth=3 was best, so fit a tree using that parameter\n",
        "treereg = DecisionTreeRegressor(max_depth=4, random_state=1)\n",
        "treereg.fit(X, Y)\n",
        "\n",
        "# \"Gini importance\" of each feature: the (normalized) total reduction of error brought by that feature\n",
        "pd.DataFrame({'feature':feature_cols, 'importance':treereg.feature_importances_})"
      ],
      "execution_count": null,
      "outputs": [
        {
          "output_type": "execute_result",
          "data": {
            "text/html": [
              "<div>\n",
              "<style scoped>\n",
              "    .dataframe tbody tr th:only-of-type {\n",
              "        vertical-align: middle;\n",
              "    }\n",
              "\n",
              "    .dataframe tbody tr th {\n",
              "        vertical-align: top;\n",
              "    }\n",
              "\n",
              "    .dataframe thead th {\n",
              "        text-align: right;\n",
              "    }\n",
              "</style>\n",
              "<table border=\"1\" class=\"dataframe\">\n",
              "  <thead>\n",
              "    <tr style=\"text-align: right;\">\n",
              "      <th></th>\n",
              "      <th>feature</th>\n",
              "      <th>importance</th>\n",
              "    </tr>\n",
              "  </thead>\n",
              "  <tbody>\n",
              "    <tr>\n",
              "      <th>0</th>\n",
              "      <td>CONTRACT_TYPE_C</td>\n",
              "      <td>0.029312</td>\n",
              "    </tr>\n",
              "    <tr>\n",
              "      <th>1</th>\n",
              "      <td>SEX_C</td>\n",
              "      <td>0.121364</td>\n",
              "    </tr>\n",
              "    <tr>\n",
              "      <th>2</th>\n",
              "      <td>CHILDREN_C</td>\n",
              "      <td>0.000000</td>\n",
              "    </tr>\n",
              "    <tr>\n",
              "      <th>3</th>\n",
              "      <td>INCOME</td>\n",
              "      <td>0.000000</td>\n",
              "    </tr>\n",
              "    <tr>\n",
              "      <th>4</th>\n",
              "      <td>CREDIT</td>\n",
              "      <td>0.175876</td>\n",
              "    </tr>\n",
              "    <tr>\n",
              "      <th>5</th>\n",
              "      <td>INCOME_TYPE_C</td>\n",
              "      <td>0.000000</td>\n",
              "    </tr>\n",
              "    <tr>\n",
              "      <th>6</th>\n",
              "      <td>EDUCATION_TYPE_C</td>\n",
              "      <td>0.329682</td>\n",
              "    </tr>\n",
              "    <tr>\n",
              "      <th>7</th>\n",
              "      <td>FAMILY_STATUS_C</td>\n",
              "      <td>0.000000</td>\n",
              "    </tr>\n",
              "    <tr>\n",
              "      <th>8</th>\n",
              "      <td>BIRTH</td>\n",
              "      <td>0.343766</td>\n",
              "    </tr>\n",
              "    <tr>\n",
              "      <th>9</th>\n",
              "      <td>BUREAU_3</td>\n",
              "      <td>0.000000</td>\n",
              "    </tr>\n",
              "    <tr>\n",
              "      <th>10</th>\n",
              "      <td>HOUSING_TYPE_C</td>\n",
              "      <td>0.000000</td>\n",
              "    </tr>\n",
              "  </tbody>\n",
              "</table>\n",
              "</div>"
            ],
            "text/plain": [
              "             feature  importance\n",
              "0    CONTRACT_TYPE_C    0.029312\n",
              "1              SEX_C    0.121364\n",
              "2         CHILDREN_C    0.000000\n",
              "3             INCOME    0.000000\n",
              "4             CREDIT    0.175876\n",
              "5      INCOME_TYPE_C    0.000000\n",
              "6   EDUCATION_TYPE_C    0.329682\n",
              "7    FAMILY_STATUS_C    0.000000\n",
              "8              BIRTH    0.343766\n",
              "9           BUREAU_3    0.000000\n",
              "10    HOUSING_TYPE_C    0.000000"
            ]
          },
          "metadata": {},
          "execution_count": 31
        }
      ]
    },
    {
      "cell_type": "code",
      "metadata": {
        "id": "sQmka8a_DKMa"
      },
      "source": [
        "feature_cols = ['CONTRACT_TYPE_C', 'SEX_C', 'CHILDREN_C', 'INCOME','CREDIT', \n",
        "                 'INCOME_TYPE_C', 'EDUCATION_TYPE_C', 'FAMILY_STATUS_C', \n",
        "                 'BIRTH', 'BUREAU_3','HOUSING_TYPE_C']\n",
        "\n",
        "Y = datos.TARGET\n",
        "X = datos[feature_cols]\n",
        "\n",
        "treeclf = DecisionTreeClassifier(max_depth=4, random_state=1)\n",
        "treeclf.fit(X, Y)\n",
        "export_graphviz(treeclf, out_file='tree_titanic.dot', feature_names=feature_cols)"
      ],
      "execution_count": null,
      "outputs": []
    },
    {
      "cell_type": "code",
      "metadata": {
        "id": "WwI6O45EKvls"
      },
      "source": [
        "feature_cols = ['TARGET','CONTRACT_TYPE_C', 'SEX_C', 'CHILDREN_C', 'INCOME','CREDIT', \n",
        "                 'INCOME_TYPE_C', 'EDUCATION_TYPE_C', 'FAMILY_STATUS_C', \n",
        "                 'BIRTH', 'BUREAU_3','HOUSING_TYPE_C']\n",
        "\n",
        "nomas = datos[feature_cols]"
      ],
      "execution_count": null,
      "outputs": []
    },
    {
      "cell_type": "code",
      "metadata": {
        "id": "6n53Ziz8Ezks"
      },
      "source": [
        "from sklearn.datasets import load_boston\n",
        "from sklearn.model_selection import train_test_split\n",
        "from sklearn.tree import DecisionTreeRegressor\n",
        "from sklearn.tree import plot_tree\n",
        "from sklearn.tree import export_graphviz\n",
        "from sklearn.tree import export_text\n",
        "from sklearn.model_selection import GridSearchCV\n",
        "from sklearn.metrics import mean_squared_error"
      ],
      "execution_count": null,
      "outputs": []
    },
    {
      "cell_type": "code",
      "metadata": {
        "colab": {
          "base_uri": "https://localhost:8080/",
          "height": 1000
        },
        "id": "0lwPvlnsEZhx",
        "outputId": "917c6b93-90ba-4c04-a407-1f2cd8875cd4"
      },
      "source": [
        "#No tiene en cuenta TARGET\n",
        "\n",
        "plt.figure(figsize=(20,26))\n",
        "plot = plot_tree(\n",
        "            decision_tree = treereg,\n",
        "            feature_names = nomas.drop(columns = \"TARGET\").columns,\n",
        "            class_names   = 'TARGET',\n",
        "            filled        = True,\n",
        "            impurity      = False,\n",
        "            fontsize      = 8,\n",
        "            precision     = 1,\n",
        "       )"
      ],
      "execution_count": null,
      "outputs": [
        {
          "output_type": "display_data",
          "data": {
            "image/png": "[encoded data removed]",
            "text/plain": [
              "<Figure size 1440x1872 with 1 Axes>"
            ]
          },
          "metadata": {
            "needs_background": "light"
          }
        }
      ]
    },
    {
      "cell_type": "code",
      "metadata": {
        "id": "ZH0BB8liy9dQ"
      },
      "source": [
        "#Calcular Precisión\n",
        "# Definir conjuntos de variables\n",
        "X = datos[feature_cols]\n",
        "y = datos['TARGET']\n",
        "\n",
        "# Train-test\n",
        "X_train, X_test, y_train, y_test = train_test_split(X, y, test_size=0.2, random_state=3000)\n",
        "\n",
        "# Estimar el modelo\n",
        "from sklearn.linear_model import LogisticRegression\n",
        "treeclf = DecisionTreeClassifier(max_depth=4, random_state=1)\n",
        "treeclf.fit(X, Y)\n",
        "\n",
        "# Predecir la variable respuesta\n",
        "y_pred = treeclf.predict(X_test)"
      ],
      "execution_count": null,
      "outputs": []
    },
    {
      "cell_type": "code",
      "metadata": {
        "colab": {
          "base_uri": "https://localhost:8080/"
        },
        "id": "MIeu_oPh2pm-",
        "outputId": "e518f09f-2825-4840-c0c8-90c5b41e0a86"
      },
      "source": [
        "from sklearn import metrics\n",
        "print('Precisión:', metrics.precision_score(y_test, y_pred))"
      ],
      "execution_count": null,
      "outputs": [
        {
          "output_type": "stream",
          "name": "stdout",
          "text": [
            "Precisión: 1.0\n"
          ]
        }
      ]
    },
    {
      "cell_type": "code",
      "metadata": {
        "colab": {
          "base_uri": "https://localhost:8080/"
        },
        "id": "i5fPO1sV25oK",
        "outputId": "fd899a97-aa18-4b62-8b8b-a18beeb680c7"
      },
      "source": [
        "#Calcular AUC\n",
        "from sklearn.metrics import roc_auc_score\n",
        "print('ROC AUC score:', metrics.roc_auc_score(y_test, y_pred, average=None))"
      ],
      "execution_count": null,
      "outputs": [
        {
          "output_type": "stream",
          "name": "stdout",
          "text": [
            "ROC AUC score: 1.0\n"
          ]
        }
      ]
    },
    {
      "cell_type": "code",
      "metadata": {
        "colab": {
          "base_uri": "https://localhost:8080/"
        },
        "id": "58Ugjbyj3CMW",
        "outputId": "0a36d4ba-d0ee-46e2-f24a-d8c38e11d0d0"
      },
      "source": [
        "#Estimar los modelos con el conjunto de entrenamiento\n",
        "from sklearn.model_selection import train_test_split\n",
        "print('MSE Árbol de decisión:', metrics.mean_squared_error(y_test, y_pred))"
      ],
      "execution_count": null,
      "outputs": [
        {
          "output_type": "stream",
          "name": "stdout",
          "text": [
            "MSE Árbol de decisión: 0.0\n"
          ]
        }
      ]
    },
    {
      "cell_type": "code",
      "metadata": {
        "id": "j05BJxtH3KY2",
        "colab": {
          "base_uri": "https://localhost:8080/"
        },
        "outputId": "37e1aca1-77e4-44ef-da07-ad6e77175ddf"
      },
      "source": [
        "#Exactitud\n",
        "from sklearn import metrics\n",
        "print('Exactitud:', metrics.accuracy_score(y_test, y_pred))"
      ],
      "execution_count": null,
      "outputs": [
        {
          "output_type": "stream",
          "name": "stdout",
          "text": [
            "Exactitud: 1.0\n"
          ]
        }
      ]
    },
    {
      "cell_type": "markdown",
      "metadata": {
        "id": "jmS48NbMMJHS"
      },
      "source": [
        "MODELO LOGIT"
      ]
    },
    {
      "cell_type": "code",
      "metadata": {
        "id": "xBuN3msnMLKl"
      },
      "source": [
        "from sklearn.linear_model import LogisticRegression\n",
        "logreg = LogisticRegression(solver='liblinear',C=1e9)\n",
        "feature_cols = ['CONTRACT_TYPE_C', 'SEX_C', 'CHILDREN_C', 'INCOME','CREDIT', \n",
        "                 'INCOME_TYPE_C', 'EDUCATION_TYPE_C', 'FAMILY_STATUS_C', \n",
        "                 'BIRTH', 'BUREAU_3','HOUSING_TYPE_C']\n",
        "X = datos[feature_cols]\n",
        "y = datos.TARGET\n",
        "logreg.fit(X, y)\n",
        "datos['TARGET_pred_class'] = logreg.predict(X)"
      ],
      "execution_count": null,
      "outputs": []
    },
    {
      "cell_type": "code",
      "metadata": {
        "colab": {
          "base_uri": "https://localhost:8080/"
        },
        "id": "OPw58qPSM9Gf",
        "outputId": "ade1ad21-2ecf-412f-dac6-85d40ad26bd5"
      },
      "source": [
        "datos.TARGET_pred_class.value_counts().sort_index()"
      ],
      "execution_count": null,
      "outputs": [
        {
          "data": {
            "text/plain": [
              "0    307511\n",
              "Name: TARGET_pred_class, dtype: int64"
            ]
          },
          "execution_count": 36,
          "metadata": {},
          "output_type": "execute_result"
        }
      ]
    },
    {
      "cell_type": "code",
      "metadata": {
        "colab": {
          "base_uri": "https://localhost:8080/",
          "height": 394
        },
        "id": "N0dzmSsbMti_",
        "outputId": "fd01e0aa-a452-4ebd-fd21-51a16691cb67"
      },
      "source": [
        "datos['Target_pred_prob'] = logreg.predict_proba(X)[:, 1]\n",
        "datos.head()"
      ],
      "execution_count": null,
      "outputs": [
        {
          "data": {
            "text/html": [
              "<div>\n",
              "<style scoped>\n",
              "    .dataframe tbody tr th:only-of-type {\n",
              "        vertical-align: middle;\n",
              "    }\n",
              "\n",
              "    .dataframe tbody tr th {\n",
              "        vertical-align: top;\n",
              "    }\n",
              "\n",
              "    .dataframe thead th {\n",
              "        text-align: right;\n",
              "    }\n",
              "</style>\n",
              "<table border=\"1\" class=\"dataframe\">\n",
              "  <thead>\n",
              "    <tr style=\"text-align: right;\">\n",
              "      <th></th>\n",
              "      <th>ID</th>\n",
              "      <th>TARGET</th>\n",
              "      <th>CONTRACT_TYPE</th>\n",
              "      <th>SEX</th>\n",
              "      <th>CHILDREN</th>\n",
              "      <th>INCOME</th>\n",
              "      <th>CREDIT</th>\n",
              "      <th>INCOME_TYPE</th>\n",
              "      <th>EDUCATION_TYPE</th>\n",
              "      <th>FAMILY_STATUS</th>\n",
              "      <th>HOUSING_TYPE</th>\n",
              "      <th>BIRTH</th>\n",
              "      <th>BUREAU_3</th>\n",
              "      <th>INCOME_N</th>\n",
              "      <th>CREDIT_N</th>\n",
              "      <th>Ingreso_intervalo</th>\n",
              "      <th>Credito_intervalo</th>\n",
              "      <th>SEX_C</th>\n",
              "      <th>CONTRACT_TYPE_C</th>\n",
              "      <th>INCOME_TYPE_C</th>\n",
              "      <th>EDUCATION_TYPE_C</th>\n",
              "      <th>FAMILY_STATUS_C</th>\n",
              "      <th>HOUSING_TYPE_C</th>\n",
              "      <th>Ingreso_intervalo_C</th>\n",
              "      <th>CHILDREN_C</th>\n",
              "      <th>Rango_Ingreso</th>\n",
              "      <th>TARGET_pred_class</th>\n",
              "      <th>Target_pred_prob</th>\n",
              "    </tr>\n",
              "  </thead>\n",
              "  <tbody>\n",
              "    <tr>\n",
              "      <th>0</th>\n",
              "      <td>100002</td>\n",
              "      <td>1</td>\n",
              "      <td>Cash loans</td>\n",
              "      <td>M</td>\n",
              "      <td>0</td>\n",
              "      <td>202500</td>\n",
              "      <td>406598</td>\n",
              "      <td>Workingg</td>\n",
              "      <td>Secondary / secondary special</td>\n",
              "      <td>Single / not married</td>\n",
              "      <td>House / apartment</td>\n",
              "      <td>26</td>\n",
              "      <td>0.000000</td>\n",
              "      <td>0.025628</td>\n",
              "      <td>-0.478093</td>\n",
              "      <td>(162000.0, 225000.0]</td>\n",
              "      <td>(254700.0, 432000.0]</td>\n",
              "      <td>1</td>\n",
              "      <td>0</td>\n",
              "      <td>0</td>\n",
              "      <td>0</td>\n",
              "      <td>3</td>\n",
              "      <td>1</td>\n",
              "      <td>NaN</td>\n",
              "      <td>0</td>\n",
              "      <td>0            (162000.0, 225000.0]\\n1         (...</td>\n",
              "      <td>0</td>\n",
              "      <td>0.070868</td>\n",
              "    </tr>\n",
              "    <tr>\n",
              "      <th>1</th>\n",
              "      <td>100003</td>\n",
              "      <td>0</td>\n",
              "      <td>Cash loans</td>\n",
              "      <td>F</td>\n",
              "      <td>0</td>\n",
              "      <td>270000</td>\n",
              "      <td>1293503</td>\n",
              "      <td>State servant</td>\n",
              "      <td>Higher education</td>\n",
              "      <td>Married</td>\n",
              "      <td>House / apartment</td>\n",
              "      <td>46</td>\n",
              "      <td>0.000000</td>\n",
              "      <td>0.085678</td>\n",
              "      <td>1.725448</td>\n",
              "      <td>(225000.0, 336835935.0]</td>\n",
              "      <td>(900000.0, 4050000.0]</td>\n",
              "      <td>0</td>\n",
              "      <td>0</td>\n",
              "      <td>3</td>\n",
              "      <td>1</td>\n",
              "      <td>1</td>\n",
              "      <td>1</td>\n",
              "      <td>NaN</td>\n",
              "      <td>0</td>\n",
              "      <td>0            (162000.0, 225000.0]\\n1         (...</td>\n",
              "      <td>0</td>\n",
              "      <td>0.012035</td>\n",
              "    </tr>\n",
              "    <tr>\n",
              "      <th>2</th>\n",
              "      <td>100004</td>\n",
              "      <td>0</td>\n",
              "      <td>Revolving loans</td>\n",
              "      <td>M</td>\n",
              "      <td>0</td>\n",
              "      <td>67500</td>\n",
              "      <td>135000</td>\n",
              "      <td>Workingg</td>\n",
              "      <td>Secondary / secondary special</td>\n",
              "      <td>Single / not married</td>\n",
              "      <td>House / apartment</td>\n",
              "      <td>52</td>\n",
              "      <td>0.000000</td>\n",
              "      <td>-0.094474</td>\n",
              "      <td>-1.152886</td>\n",
              "      <td>(25649.9, 99000.0]</td>\n",
              "      <td>(44999.9, 254700.0]</td>\n",
              "      <td>1</td>\n",
              "      <td>1</td>\n",
              "      <td>0</td>\n",
              "      <td>0</td>\n",
              "      <td>3</td>\n",
              "      <td>1</td>\n",
              "      <td>NaN</td>\n",
              "      <td>0</td>\n",
              "      <td>0            (162000.0, 225000.0]\\n1         (...</td>\n",
              "      <td>0</td>\n",
              "      <td>0.297664</td>\n",
              "    </tr>\n",
              "    <tr>\n",
              "      <th>3</th>\n",
              "      <td>100006</td>\n",
              "      <td>0</td>\n",
              "      <td>Cash loans</td>\n",
              "      <td>F</td>\n",
              "      <td>0</td>\n",
              "      <td>135000</td>\n",
              "      <td>312683</td>\n",
              "      <td>Workingg</td>\n",
              "      <td>Secondary / secondary special</td>\n",
              "      <td>Civil marriage</td>\n",
              "      <td>House / apartment</td>\n",
              "      <td>52</td>\n",
              "      <td>0.265474</td>\n",
              "      <td>-0.034423</td>\n",
              "      <td>-0.711428</td>\n",
              "      <td>(99000.0, 135000.0]</td>\n",
              "      <td>(254700.0, 432000.0]</td>\n",
              "      <td>0</td>\n",
              "      <td>0</td>\n",
              "      <td>0</td>\n",
              "      <td>0</td>\n",
              "      <td>0</td>\n",
              "      <td>1</td>\n",
              "      <td>NaN</td>\n",
              "      <td>0</td>\n",
              "      <td>0            (162000.0, 225000.0]\\n1         (...</td>\n",
              "      <td>0</td>\n",
              "      <td>0.145449</td>\n",
              "    </tr>\n",
              "    <tr>\n",
              "      <th>4</th>\n",
              "      <td>100007</td>\n",
              "      <td>0</td>\n",
              "      <td>Cash loans</td>\n",
              "      <td>M</td>\n",
              "      <td>0</td>\n",
              "      <td>121500</td>\n",
              "      <td>513000</td>\n",
              "      <td>Workingg</td>\n",
              "      <td>Secondary / secondary special</td>\n",
              "      <td>Single / not married</td>\n",
              "      <td>House / apartment</td>\n",
              "      <td>55</td>\n",
              "      <td>0.000000</td>\n",
              "      <td>-0.046433</td>\n",
              "      <td>-0.213734</td>\n",
              "      <td>(99000.0, 135000.0]</td>\n",
              "      <td>(432000.0, 604152.0]</td>\n",
              "      <td>1</td>\n",
              "      <td>0</td>\n",
              "      <td>0</td>\n",
              "      <td>0</td>\n",
              "      <td>3</td>\n",
              "      <td>1</td>\n",
              "      <td>NaN</td>\n",
              "      <td>0</td>\n",
              "      <td>0            (162000.0, 225000.0]\\n1         (...</td>\n",
              "      <td>0</td>\n",
              "      <td>0.130695</td>\n",
              "    </tr>\n",
              "  </tbody>\n",
              "</table>\n",
              "</div>"
            ],
            "text/plain": [
              "       ID  TARGET  ... TARGET_pred_class Target_pred_prob\n",
              "0  100002       1  ...                 0         0.070868\n",
              "1  100003       0  ...                 0         0.012035\n",
              "2  100004       0  ...                 0         0.297664\n",
              "3  100006       0  ...                 0         0.145449\n",
              "4  100007       0  ...                 0         0.130695\n",
              "\n",
              "[5 rows x 28 columns]"
            ]
          },
          "execution_count": 37,
          "metadata": {},
          "output_type": "execute_result"
        }
      ]
    },
    {
      "cell_type": "code",
      "metadata": {
        "colab": {
          "base_uri": "https://localhost:8080/"
        },
        "id": "QmayXJOvMuJ8",
        "outputId": "c774c7ee-ed03-4f2a-c3e4-99d3ea9282e7"
      },
      "source": [
        "logreg.coef_"
      ],
      "execution_count": null,
      "outputs": [
        {
          "data": {
            "text/plain": [
              "array([[-1.62836840e-07,  4.62358317e-08, -1.04160854e-07,\n",
              "        -1.00955069e-05, -1.29928821e-06, -7.85555985e-07,\n",
              "        -1.87812406e-07, -9.32666460e-07, -3.05954018e-05,\n",
              "        -1.33915520e-07, -5.51569453e-07]])"
            ]
          },
          "execution_count": 38,
          "metadata": {},
          "output_type": "execute_result"
        }
      ]
    },
    {
      "cell_type": "code",
      "metadata": {
        "colab": {
          "base_uri": "https://localhost:8080/"
        },
        "id": "pQo0oYCHNSaJ",
        "outputId": "840ef5b4-2abe-4b82-e79f-9d7309549786"
      },
      "source": [
        "logreg.intercept_"
      ],
      "execution_count": null,
      "outputs": [
        {
          "data": {
            "text/plain": [
              "array([-5.6722136e-07])"
            ]
          },
          "execution_count": 39,
          "metadata": {},
          "output_type": "execute_result"
        }
      ]
    },
    {
      "cell_type": "code",
      "metadata": {
        "colab": {
          "base_uri": "https://localhost:8080/"
        },
        "id": "QfPY9RnmNXuU",
        "outputId": "deab08f5-9d16-4c3c-ad64-62cc20dde603"
      },
      "source": [
        "feature_cols, logreg.coef_[0]"
      ],
      "execution_count": null,
      "outputs": [
        {
          "data": {
            "text/plain": [
              "(['CONTRACT_TYPE_C',\n",
              "  'SEX_C',\n",
              "  'CHILDREN_C',\n",
              "  'INCOME',\n",
              "  'CREDIT',\n",
              "  'INCOME_TYPE_C',\n",
              "  'EDUCATION_TYPE_C',\n",
              "  'FAMILY_STATUS_C',\n",
              "  'BIRTH',\n",
              "  'BUREAU_3',\n",
              "  'HOUSING_TYPE_C'],\n",
              " array([-1.62836840e-07,  4.62358317e-08, -1.04160854e-07, -1.00955069e-05,\n",
              "        -1.29928821e-06, -7.85555985e-07, -1.87812406e-07, -9.32666460e-07,\n",
              "        -3.05954018e-05, -1.33915520e-07, -5.51569453e-07]))"
            ]
          },
          "execution_count": 40,
          "metadata": {},
          "output_type": "execute_result"
        }
      ]
    },
    {
      "cell_type": "code",
      "metadata": {
        "id": "jEh9tloCNaNq"
      },
      "source": [
        "#Calcular Precisión\n",
        "# Definir conjuntos de variables\n",
        "X = datos[feature_cols]\n",
        "y = datos['TARGET']\n",
        "\n",
        "# Train-test\n",
        "X_train, X_test, y_train, y_test = train_test_split(X, y, test_size=0.2, random_state=3000)\n",
        "\n",
        "# Estimar el modelo\n",
        "from sklearn.linear_model import LogisticRegression\n",
        "clf = LogisticRegression()\n",
        "clf.fit(X_train, y_train)\n",
        "\n",
        "# Predecir la variable respuesta\n",
        "y_pred = clf.predict(X_test)"
      ],
      "execution_count": null,
      "outputs": []
    },
    {
      "cell_type": "code",
      "metadata": {
        "colab": {
          "base_uri": "https://localhost:8080/"
        },
        "id": "ooamkopWNqAd",
        "outputId": "bb3c0832-c87b-408e-acd7-d0eeb524084f"
      },
      "source": [
        "from sklearn import metrics\n",
        "print('Precisión:', metrics.precision_score(y_test, y_pred))"
      ],
      "execution_count": null,
      "outputs": [
        {
          "name": "stdout",
          "output_type": "stream",
          "text": [
            "Precisión: 0.0\n"
          ]
        },
        {
          "name": "stderr",
          "output_type": "stream",
          "text": [
            "/usr/local/lib/python3.7/dist-packages/sklearn/metrics/_classification.py:1272: UndefinedMetricWarning: Precision is ill-defined and being set to 0.0 due to no predicted samples. Use `zero_division` parameter to control this behavior.\n",
            "  _warn_prf(average, modifier, msg_start, len(result))\n"
          ]
        }
      ]
    },
    {
      "cell_type": "code",
      "metadata": {
        "colab": {
          "base_uri": "https://localhost:8080/"
        },
        "id": "Naxg7MzcNyAs",
        "outputId": "217dc11f-44d8-40b8-bd07-cce185e54418"
      },
      "source": [
        "#Calcular AUC\n",
        "from sklearn.metrics import roc_auc_score\n",
        "print('ROC AUC score:', metrics.roc_auc_score(y_test, y_pred, average=None))"
      ],
      "execution_count": null,
      "outputs": [
        {
          "name": "stdout",
          "output_type": "stream",
          "text": [
            "ROC AUC score: 0.5\n"
          ]
        }
      ]
    },
    {
      "cell_type": "code",
      "metadata": {
        "colab": {
          "base_uri": "https://localhost:8080/"
        },
        "id": "BqkVm4Q6N52v",
        "outputId": "608d1b81-52eb-4cec-badc-74f3e21f8a19"
      },
      "source": [
        "#Estimar los modelos con el conjunto de entrenamiento\n",
        "from sklearn.model_selection import train_test_split\n",
        "print('MSE regresión logistica:', metrics.mean_squared_error(y_test, y_pred))"
      ],
      "execution_count": null,
      "outputs": [
        {
          "name": "stdout",
          "output_type": "stream",
          "text": [
            "MSE regresión logistica: 0.07936198234232476\n"
          ]
        }
      ]
    },
    {
      "cell_type": "code",
      "metadata": {
        "colab": {
          "base_uri": "https://localhost:8080/"
        },
        "id": "eKfJzdx1OEag",
        "outputId": "8e0f7642-7f4a-4be8-d103-9f0edb45f67d"
      },
      "source": [
        "#Exactitud\n",
        "from sklearn import metrics\n",
        "print('Exactitud:', metrics.accuracy_score(y_test, y_pred))"
      ],
      "execution_count": null,
      "outputs": [
        {
          "name": "stdout",
          "output_type": "stream",
          "text": [
            "Exactitud: 0.9206380176576753\n"
          ]
        }
      ]
    },
    {
      "cell_type": "code",
      "metadata": {
        "id": "SHeb8ZRMTjc6"
      },
      "source": [
        ""
      ],
      "execution_count": null,
      "outputs": []
    }
  ]
}
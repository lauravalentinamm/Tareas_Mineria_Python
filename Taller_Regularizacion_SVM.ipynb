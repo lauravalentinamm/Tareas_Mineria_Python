{
  "nbformat": 4,
  "nbformat_minor": 0,
  "metadata": {
    "kernelspec": {
      "display_name": "Python 3",
      "language": "python",
      "name": "python3"
    },
    "language_info": {
      "codemirror_mode": {
        "name": "ipython",
        "version": 3
      },
      "file_extension": ".py",
      "mimetype": "text/x-python",
      "name": "python",
      "nbconvert_exporter": "python",
      "pygments_lexer": "ipython3",
      "version": "3.7.0"
    },
    "colab": {
      "name": "Copia de Taller_Regularizacion_SVM.ipynb",
      "provenance": [],
      "include_colab_link": true
    }
  },
  "cells": [
    {
      "cell_type": "markdown",
      "metadata": {
        "id": "view-in-github",
        "colab_type": "text"
      },
      "source": [
        "<a href=\"https://colab.research.google.com/github/lauravalentinamm/Tareas_Mineria_Python/blob/main/Taller_Regularizacion_SVM.ipynb\" target=\"_parent\"><img src=\"https://colab.research.google.com/assets/colab-badge.svg\" alt=\"Open In Colab\"/></a>"
      ]
    },
    {
      "cell_type": "markdown",
      "metadata": {
        "id": "goh8XqyWQwHS"
      },
      "source": [
        "## Taller Regularización y SVM\n",
        "\n",
        "\n",
        "Para esta tarea consideramos un conjunto de observaciones sobre una serie de variedades de vino tinto y blanco que implican sus propiedades químicas y su clasificación por parte de los catadores. La industria del vino ha experimentado un gran crecimiento en los últimos tiempos debido al aumento del consumo social. El precio del vino depende de un concepto bastante abstracto de apreciación del vino por parte de los catadores, cuya opinión puede tener un alto grado de variabilidad. El precio del vino depende en cierta medida de este factor tan volátil. Otro factor clave en la certificación y evaluación de la calidad del vino son las pruebas fisicoquímicas, que se realizan en laboratorio y tienen en cuenta factores como la acidez, el nivel de pH, la presencia de azúcar y otras propiedades químicas. Para el mercado del vino, sería interesante que la calidad humana de la cata pudiera relacionarse con las propiedades químicas del vino para que el proceso de certificación y evaluación de la calidad estuviera más controlado.\n",
        "\n",
        "Se dispone de dos conjuntos de datos, uno de los cuales se refiere al vino tinto y cuenta con 1.599 variedades diferentes, y el otro, al vino blanco, con 4.898 variedades. Todos los vinos se producen en una zona concreta de Portugal. Se recogen datos sobre 12 propiedades diferentes de los vinos, una de las cuales es la calidad, basada en datos sensoriales, y el resto son propiedades químicas de los vinos, como la densidad, la acidez, el contenido de alcohol, etc. Todas las propiedades químicas de los vinos son variables continuas. La calidad es una variable ordinal con una clasificación posible de 1 (peor) a 10 (mejor). Cada variedad de vino es catada por tres catadores independientes y la clasificación final asignada es la mediana de la clasificación dada por los catadores.\n",
        "\n",
        "Se espera que un modelo predictivo desarrollado a partir de estos datos sirva de orientación a los viñedos en cuanto a la calidad y el precio que se espera obtener de sus productos sin depender en gran medida de la volatilidad de los catadores.\n"
      ]
    },
    {
      "cell_type": "code",
      "metadata": {
        "id": "m4dAFqRiQwHd"
      },
      "source": [
        "import pandas as pd\n",
        "import numpy as np"
      ],
      "execution_count": 18,
      "outputs": []
    },
    {
      "cell_type": "code",
      "metadata": {
        "id": "j0S8ZSeuQwHh"
      },
      "source": [
        "data_r = pd.read_csv('https://github.com/albahnsen/PracticalMachineLearningClass/raw/master/datasets/Wine_data_red.csv')\n",
        "data_w = pd.read_csv('https://github.com/albahnsen/PracticalMachineLearningClass/raw/master/datasets/Wine_data_white.csv')"
      ],
      "execution_count": 24,
      "outputs": []
    },
    {
      "cell_type": "code",
      "metadata": {
        "colab": {
          "base_uri": "https://localhost:8080/",
          "height": 204
        },
        "id": "0eWxw6RZPnrh",
        "outputId": "fb40852c-c7ca-4878-862d-2dc8963b3973"
      },
      "source": [
        "data_r.head()"
      ],
      "execution_count": 26,
      "outputs": [
        {
          "output_type": "execute_result",
          "data": {
            "text/html": [
              "<div>\n",
              "<style scoped>\n",
              "    .dataframe tbody tr th:only-of-type {\n",
              "        vertical-align: middle;\n",
              "    }\n",
              "\n",
              "    .dataframe tbody tr th {\n",
              "        vertical-align: top;\n",
              "    }\n",
              "\n",
              "    .dataframe thead th {\n",
              "        text-align: right;\n",
              "    }\n",
              "</style>\n",
              "<table border=\"1\" class=\"dataframe\">\n",
              "  <thead>\n",
              "    <tr style=\"text-align: right;\">\n",
              "      <th></th>\n",
              "      <th>fixed acidity</th>\n",
              "      <th>volatile acidity</th>\n",
              "      <th>citric acid</th>\n",
              "      <th>residual sugar</th>\n",
              "      <th>chlorides</th>\n",
              "      <th>free sulfur dioxide</th>\n",
              "      <th>total sulfur dioxide</th>\n",
              "      <th>density</th>\n",
              "      <th>pH</th>\n",
              "      <th>sulphates</th>\n",
              "      <th>alcohol</th>\n",
              "      <th>quality</th>\n",
              "    </tr>\n",
              "  </thead>\n",
              "  <tbody>\n",
              "    <tr>\n",
              "      <th>0</th>\n",
              "      <td>7.4</td>\n",
              "      <td>0.70</td>\n",
              "      <td>0.00</td>\n",
              "      <td>1.9</td>\n",
              "      <td>0.076</td>\n",
              "      <td>11.0</td>\n",
              "      <td>34.0</td>\n",
              "      <td>0.9978</td>\n",
              "      <td>3.51</td>\n",
              "      <td>0.56</td>\n",
              "      <td>9.4</td>\n",
              "      <td>5</td>\n",
              "    </tr>\n",
              "    <tr>\n",
              "      <th>1</th>\n",
              "      <td>7.8</td>\n",
              "      <td>0.88</td>\n",
              "      <td>0.00</td>\n",
              "      <td>2.6</td>\n",
              "      <td>0.098</td>\n",
              "      <td>25.0</td>\n",
              "      <td>67.0</td>\n",
              "      <td>0.9968</td>\n",
              "      <td>3.20</td>\n",
              "      <td>0.68</td>\n",
              "      <td>9.8</td>\n",
              "      <td>5</td>\n",
              "    </tr>\n",
              "    <tr>\n",
              "      <th>2</th>\n",
              "      <td>7.8</td>\n",
              "      <td>0.76</td>\n",
              "      <td>0.04</td>\n",
              "      <td>2.3</td>\n",
              "      <td>0.092</td>\n",
              "      <td>15.0</td>\n",
              "      <td>54.0</td>\n",
              "      <td>0.9970</td>\n",
              "      <td>3.26</td>\n",
              "      <td>0.65</td>\n",
              "      <td>9.8</td>\n",
              "      <td>5</td>\n",
              "    </tr>\n",
              "    <tr>\n",
              "      <th>3</th>\n",
              "      <td>11.2</td>\n",
              "      <td>0.28</td>\n",
              "      <td>0.56</td>\n",
              "      <td>1.9</td>\n",
              "      <td>0.075</td>\n",
              "      <td>17.0</td>\n",
              "      <td>60.0</td>\n",
              "      <td>0.9980</td>\n",
              "      <td>3.16</td>\n",
              "      <td>0.58</td>\n",
              "      <td>9.8</td>\n",
              "      <td>6</td>\n",
              "    </tr>\n",
              "    <tr>\n",
              "      <th>4</th>\n",
              "      <td>7.4</td>\n",
              "      <td>0.70</td>\n",
              "      <td>0.00</td>\n",
              "      <td>1.9</td>\n",
              "      <td>0.076</td>\n",
              "      <td>11.0</td>\n",
              "      <td>34.0</td>\n",
              "      <td>0.9978</td>\n",
              "      <td>3.51</td>\n",
              "      <td>0.56</td>\n",
              "      <td>9.4</td>\n",
              "      <td>5</td>\n",
              "    </tr>\n",
              "  </tbody>\n",
              "</table>\n",
              "</div>"
            ],
            "text/plain": [
              "   fixed acidity  volatile acidity  citric acid  ...  sulphates  alcohol  quality\n",
              "0            7.4              0.70         0.00  ...       0.56      9.4        5\n",
              "1            7.8              0.88         0.00  ...       0.68      9.8        5\n",
              "2            7.8              0.76         0.04  ...       0.65      9.8        5\n",
              "3           11.2              0.28         0.56  ...       0.58      9.8        6\n",
              "4            7.4              0.70         0.00  ...       0.56      9.4        5\n",
              "\n",
              "[5 rows x 12 columns]"
            ]
          },
          "metadata": {},
          "execution_count": 26
        }
      ]
    },
    {
      "cell_type": "code",
      "metadata": {
        "colab": {
          "base_uri": "https://localhost:8080/",
          "height": 221
        },
        "id": "zL6G49RMQwHl",
        "outputId": "9057c68a-e76a-429d-906b-ff28cfa6d0a2"
      },
      "source": [
        "data = data_w.assign(type = 'white')\n",
        "\n",
        "data = data.append(data_r.assign(type = 'red'), ignore_index=True)\n",
        "data.sample(5)\n"
      ],
      "execution_count": 20,
      "outputs": [
        {
          "output_type": "execute_result",
          "data": {
            "text/html": [
              "<div>\n",
              "<style scoped>\n",
              "    .dataframe tbody tr th:only-of-type {\n",
              "        vertical-align: middle;\n",
              "    }\n",
              "\n",
              "    .dataframe tbody tr th {\n",
              "        vertical-align: top;\n",
              "    }\n",
              "\n",
              "    .dataframe thead th {\n",
              "        text-align: right;\n",
              "    }\n",
              "</style>\n",
              "<table border=\"1\" class=\"dataframe\">\n",
              "  <thead>\n",
              "    <tr style=\"text-align: right;\">\n",
              "      <th></th>\n",
              "      <th>fixed acidity</th>\n",
              "      <th>volatile acidity</th>\n",
              "      <th>citric acid</th>\n",
              "      <th>residual sugar</th>\n",
              "      <th>chlorides</th>\n",
              "      <th>free sulfur dioxide</th>\n",
              "      <th>total sulfur dioxide</th>\n",
              "      <th>density</th>\n",
              "      <th>pH</th>\n",
              "      <th>sulphates</th>\n",
              "      <th>alcohol</th>\n",
              "      <th>quality</th>\n",
              "      <th>type</th>\n",
              "    </tr>\n",
              "  </thead>\n",
              "  <tbody>\n",
              "    <tr>\n",
              "      <th>4183</th>\n",
              "      <td>6.2</td>\n",
              "      <td>0.30</td>\n",
              "      <td>0.30</td>\n",
              "      <td>2.5</td>\n",
              "      <td>0.041</td>\n",
              "      <td>29.0</td>\n",
              "      <td>82.0</td>\n",
              "      <td>0.99065</td>\n",
              "      <td>3.31</td>\n",
              "      <td>0.61</td>\n",
              "      <td>11.8</td>\n",
              "      <td>7</td>\n",
              "      <td>white</td>\n",
              "    </tr>\n",
              "    <tr>\n",
              "      <th>5614</th>\n",
              "      <td>8.0</td>\n",
              "      <td>0.43</td>\n",
              "      <td>0.36</td>\n",
              "      <td>2.3</td>\n",
              "      <td>0.075</td>\n",
              "      <td>10.0</td>\n",
              "      <td>48.0</td>\n",
              "      <td>0.99760</td>\n",
              "      <td>3.34</td>\n",
              "      <td>0.46</td>\n",
              "      <td>9.4</td>\n",
              "      <td>5</td>\n",
              "      <td>red</td>\n",
              "    </tr>\n",
              "    <tr>\n",
              "      <th>2740</th>\n",
              "      <td>6.3</td>\n",
              "      <td>0.20</td>\n",
              "      <td>0.19</td>\n",
              "      <td>12.3</td>\n",
              "      <td>0.048</td>\n",
              "      <td>54.0</td>\n",
              "      <td>145.0</td>\n",
              "      <td>0.99668</td>\n",
              "      <td>3.16</td>\n",
              "      <td>0.42</td>\n",
              "      <td>9.3</td>\n",
              "      <td>6</td>\n",
              "      <td>white</td>\n",
              "    </tr>\n",
              "    <tr>\n",
              "      <th>4434</th>\n",
              "      <td>7.2</td>\n",
              "      <td>0.24</td>\n",
              "      <td>0.24</td>\n",
              "      <td>1.7</td>\n",
              "      <td>0.045</td>\n",
              "      <td>18.0</td>\n",
              "      <td>161.0</td>\n",
              "      <td>0.99196</td>\n",
              "      <td>3.25</td>\n",
              "      <td>0.53</td>\n",
              "      <td>11.2</td>\n",
              "      <td>6</td>\n",
              "      <td>white</td>\n",
              "    </tr>\n",
              "    <tr>\n",
              "      <th>4321</th>\n",
              "      <td>6.3</td>\n",
              "      <td>0.28</td>\n",
              "      <td>0.22</td>\n",
              "      <td>11.5</td>\n",
              "      <td>0.036</td>\n",
              "      <td>27.0</td>\n",
              "      <td>150.0</td>\n",
              "      <td>0.99445</td>\n",
              "      <td>3.00</td>\n",
              "      <td>0.33</td>\n",
              "      <td>10.6</td>\n",
              "      <td>6</td>\n",
              "      <td>white</td>\n",
              "    </tr>\n",
              "  </tbody>\n",
              "</table>\n",
              "</div>"
            ],
            "text/plain": [
              "      fixed acidity  volatile acidity  citric acid  ...  alcohol  quality   type\n",
              "4183            6.2              0.30         0.30  ...     11.8        7  white\n",
              "5614            8.0              0.43         0.36  ...      9.4        5    red\n",
              "2740            6.3              0.20         0.19  ...      9.3        6  white\n",
              "4434            7.2              0.24         0.24  ...     11.2        6  white\n",
              "4321            6.3              0.28         0.22  ...     10.6        6  white\n",
              "\n",
              "[5 rows x 13 columns]"
            ]
          },
          "metadata": {},
          "execution_count": 20
        }
      ]
    },
    {
      "cell_type": "code",
      "metadata": {
        "colab": {
          "base_uri": "https://localhost:8080/"
        },
        "id": "v4tG3aszSHwx",
        "outputId": "7c10bb69-44fc-4f6a-cb19-b3261ec567a1"
      },
      "source": [
        "data.quality.value_counts()"
      ],
      "execution_count": 21,
      "outputs": [
        {
          "output_type": "execute_result",
          "data": {
            "text/plain": [
              "6    2836\n",
              "5    2138\n",
              "7    1079\n",
              "4     216\n",
              "8     193\n",
              "3      30\n",
              "9       5\n",
              "Name: quality, dtype: int64"
            ]
          },
          "metadata": {},
          "execution_count": 21
        }
      ]
    },
    {
      "cell_type": "code",
      "metadata": {
        "colab": {
          "base_uri": "https://localhost:8080/"
        },
        "id": "Aulg4Pz5SIDO",
        "outputId": "2f725deb-98a6-4e45-c372-ea49dcda8fe2"
      },
      "source": [
        "data.type.value_counts()"
      ],
      "execution_count": 22,
      "outputs": [
        {
          "output_type": "execute_result",
          "data": {
            "text/plain": [
              "white    4898\n",
              "red      1599\n",
              "Name: type, dtype: int64"
            ]
          },
          "metadata": {},
          "execution_count": 22
        }
      ]
    },
    {
      "cell_type": "markdown",
      "metadata": {
        "id": "ijwzlA_FQwHq"
      },
      "source": [
        "# Ejercicio 1\n",
        "\n",
        "Mostrar la tabla de frecuencias de la calidad por tipo de vino."
      ]
    },
    {
      "cell_type": "code",
      "metadata": {
        "id": "4s07Ier6QwHs",
        "colab": {
          "base_uri": "https://localhost:8080/"
        },
        "outputId": "f9f8e494-6fda-4e70-c053-f05b11349bfa"
      },
      "source": [
        "(data \n",
        "  .groupby(\"type\")\n",
        "  .quality.value_counts())"
      ],
      "execution_count": 11,
      "outputs": [
        {
          "output_type": "execute_result",
          "data": {
            "text/plain": [
              "type   quality\n",
              "red    5           681\n",
              "       6           638\n",
              "       7           199\n",
              "       4            53\n",
              "       8            18\n",
              "       3            10\n",
              "white  6          2198\n",
              "       5          1457\n",
              "       7           880\n",
              "       8           175\n",
              "       4           163\n",
              "       3            20\n",
              "       9             5\n",
              "Name: quality, dtype: int64"
            ]
          },
          "metadata": {},
          "execution_count": 11
        }
      ]
    },
    {
      "cell_type": "code",
      "metadata": {
        "colab": {
          "base_uri": "https://localhost:8080/",
          "height": 142
        },
        "id": "ASa-RxaP_Eeu",
        "outputId": "772faf73-d114-47ab-9381-51cfb20f6bdd"
      },
      "source": [
        "pd.crosstab(index=data[\"type\"],     \n",
        "                      columns=[data[\"quality\"]])"
      ],
      "execution_count": 14,
      "outputs": [
        {
          "output_type": "execute_result",
          "data": {
            "text/html": [
              "<div>\n",
              "<style scoped>\n",
              "    .dataframe tbody tr th:only-of-type {\n",
              "        vertical-align: middle;\n",
              "    }\n",
              "\n",
              "    .dataframe tbody tr th {\n",
              "        vertical-align: top;\n",
              "    }\n",
              "\n",
              "    .dataframe thead th {\n",
              "        text-align: right;\n",
              "    }\n",
              "</style>\n",
              "<table border=\"1\" class=\"dataframe\">\n",
              "  <thead>\n",
              "    <tr style=\"text-align: right;\">\n",
              "      <th>quality</th>\n",
              "      <th>3</th>\n",
              "      <th>4</th>\n",
              "      <th>5</th>\n",
              "      <th>6</th>\n",
              "      <th>7</th>\n",
              "      <th>8</th>\n",
              "      <th>9</th>\n",
              "    </tr>\n",
              "    <tr>\n",
              "      <th>type</th>\n",
              "      <th></th>\n",
              "      <th></th>\n",
              "      <th></th>\n",
              "      <th></th>\n",
              "      <th></th>\n",
              "      <th></th>\n",
              "      <th></th>\n",
              "    </tr>\n",
              "  </thead>\n",
              "  <tbody>\n",
              "    <tr>\n",
              "      <th>red</th>\n",
              "      <td>10</td>\n",
              "      <td>53</td>\n",
              "      <td>681</td>\n",
              "      <td>638</td>\n",
              "      <td>199</td>\n",
              "      <td>18</td>\n",
              "      <td>0</td>\n",
              "    </tr>\n",
              "    <tr>\n",
              "      <th>white</th>\n",
              "      <td>20</td>\n",
              "      <td>163</td>\n",
              "      <td>1457</td>\n",
              "      <td>2198</td>\n",
              "      <td>880</td>\n",
              "      <td>175</td>\n",
              "      <td>5</td>\n",
              "    </tr>\n",
              "  </tbody>\n",
              "</table>\n",
              "</div>"
            ],
            "text/plain": [
              "quality   3    4     5     6    7    8  9\n",
              "type                                     \n",
              "red      10   53   681   638  199   18  0\n",
              "white    20  163  1457  2198  880  175  5"
            ]
          },
          "metadata": {},
          "execution_count": 14
        }
      ]
    },
    {
      "cell_type": "markdown",
      "metadata": {
        "id": "vchxRubOQwH_"
      },
      "source": [
        "# Regularización"
      ]
    },
    {
      "cell_type": "markdown",
      "metadata": {
        "id": "v2kdBq6RQwIA"
      },
      "source": [
        "# Ejercicio 2\n",
        "\n",
        "* Entrenar una regresión lineal para predecir la calidad del vino (Continuo)\n",
        "\n",
        "* Analice los coeficientes\n",
        "\n",
        "* Evaluar el RMSE"
      ]
    },
    {
      "cell_type": "code",
      "metadata": {
        "id": "DSI6jWP-0i14"
      },
      "source": [
        "data['type'] = data.type.map({'red':0, 'white':1})"
      ],
      "execution_count": null,
      "outputs": []
    },
    {
      "cell_type": "code",
      "metadata": {
        "collapsed": true,
        "id": "vnOeNRQvQwIC"
      },
      "source": [
        "y = data['quality'].values\n",
        "X = data[['fixed acidity', 'volatile acidity', 'citric acid', 'residual sugar',\n",
        "       'chlorides', 'free sulfur dioxide', 'total sulfur dioxide', 'density',\n",
        "       'pH', 'sulphates', 'alcohol', 'type']].values"
      ],
      "execution_count": null,
      "outputs": []
    },
    {
      "cell_type": "code",
      "metadata": {
        "id": "YP2SVchR0Ooo"
      },
      "source": [
        "from sklearn.model_selection import train_test_split\n",
        "X_train, X_test, y_train, y_test = train_test_split(X, y, random_state=1)"
      ],
      "execution_count": null,
      "outputs": []
    },
    {
      "cell_type": "code",
      "metadata": {
        "colab": {
          "base_uri": "https://localhost:8080/"
        },
        "id": "e6PEsSkS0W8X",
        "outputId": "040ef395-e772-4df4-c0bd-f7a4b9872a19"
      },
      "source": [
        "from sklearn.linear_model import LinearRegression\n",
        "linreg = LinearRegression()\n",
        "linreg.fit(X_train, y_train)"
      ],
      "execution_count": null,
      "outputs": [
        {
          "output_type": "execute_result",
          "data": {
            "text/plain": [
              "LinearRegression(copy_X=True, fit_intercept=True, n_jobs=None, normalize=False)"
            ]
          },
          "metadata": {},
          "execution_count": 15
        }
      ]
    },
    {
      "cell_type": "code",
      "metadata": {
        "colab": {
          "base_uri": "https://localhost:8080/"
        },
        "id": "ulFLC2PFeDhC",
        "outputId": "8be4737c-b6fb-4727-c7fd-2a873b361fc9"
      },
      "source": [
        "print(linreg.coef_)"
      ],
      "execution_count": null,
      "outputs": [
        {
          "output_type": "stream",
          "name": "stdout",
          "text": [
            "[ 9.76223931e-02 -1.55047309e+00 -1.36418739e-01  6.67473085e-02\n",
            " -7.67939579e-01  3.99814849e-03 -1.05686554e-03 -1.13045446e+02\n",
            "  5.15890499e-01  7.01081951e-01  2.09971675e-01 -4.24352933e-01]\n"
          ]
        }
      ]
    },
    {
      "cell_type": "code",
      "metadata": {
        "id": "nyVjY19QeLUW"
      },
      "source": [
        "y_pred = linreg.predict(X_test)"
      ],
      "execution_count": null,
      "outputs": []
    },
    {
      "cell_type": "code",
      "metadata": {
        "colab": {
          "base_uri": "https://localhost:8080/"
        },
        "id": "vM0TldySePoc",
        "outputId": "0a5cf4d6-f9ba-470b-ad74-3d877b4529a6"
      },
      "source": [
        "from sklearn import metrics\n",
        "import numpy as np\n",
        "print(\"RMSE: \",np.sqrt(metrics.mean_squared_error(y_test, y_pred)))"
      ],
      "execution_count": null,
      "outputs": [
        {
          "output_type": "stream",
          "name": "stdout",
          "text": [
            "RMSE:  0.7176907067288529\n"
          ]
        }
      ]
    },
    {
      "cell_type": "markdown",
      "metadata": {
        "id": "V_mBGZY-QwIC"
      },
      "source": [
        "# Ejercicio 3\n",
        "\n",
        "* Estimar una regresión de Ridge con alfa igual a 0,1 y 1.\n",
        "* Compare y analice los coeficientes de Ridge con la regresión lineal\n",
        "* Evaluar el RMSE"
      ]
    },
    {
      "cell_type": "code",
      "metadata": {
        "id": "jzUrCbUyQwID",
        "colab": {
          "base_uri": "https://localhost:8080/"
        },
        "outputId": "c625debf-9198-4052-b468-bcd64e5685f9"
      },
      "source": [
        "from sklearn.linear_model import Ridge\n",
        "ridgereg = Ridge(alpha=0.1, normalize=True)\n",
        "ridgereg.fit(X_train, y_train)\n",
        "print(ridgereg.coef_)"
      ],
      "execution_count": null,
      "outputs": [
        {
          "output_type": "stream",
          "name": "stdout",
          "text": [
            "[ 2.88566714e-02 -1.28227049e+00 -2.39357437e-02  2.97639425e-02\n",
            " -1.18663870e+00  3.80364255e-03 -1.28915306e-03 -3.82373057e+01\n",
            "  2.08500233e-01  5.91549553e-01  2.50777308e-01 -1.56871332e-01]\n"
          ]
        }
      ]
    },
    {
      "cell_type": "code",
      "metadata": {
        "id": "62DTkWJmjak0"
      },
      "source": [
        "y_pred = ridgereg.predict(X_test)\n"
      ],
      "execution_count": null,
      "outputs": []
    },
    {
      "cell_type": "code",
      "metadata": {
        "colab": {
          "base_uri": "https://localhost:8080/"
        },
        "id": "OgoZmJMFjaxu",
        "outputId": "2426788d-5d8e-475d-a81d-e180099d23c5"
      },
      "source": [
        "print(\"RMSE: \",np.sqrt(metrics.mean_squared_error(y_test, y_pred)))"
      ],
      "execution_count": null,
      "outputs": [
        {
          "output_type": "stream",
          "name": "stdout",
          "text": [
            "RMSE:  0.7199798419799741\n"
          ]
        }
      ]
    },
    {
      "cell_type": "code",
      "metadata": {
        "colab": {
          "base_uri": "https://localhost:8080/"
        },
        "id": "IRdCi1S2fz9U",
        "outputId": "f61c83d9-b573-456c-936b-54843b31500f"
      },
      "source": [
        "from sklearn.linear_model import Ridge\n",
        "ridgereg = Ridge(alpha=1, normalize=True)\n",
        "ridgereg.fit(X_train, y_train)\n",
        "print(ridgereg.coef_)"
      ],
      "execution_count": null,
      "outputs": [
        {
          "output_type": "stream",
          "name": "stdout",
          "text": [
            "[ 1.59777628e-03 -5.85134501e-01  1.48863414e-01  5.68749607e-03\n",
            " -1.27422144e+00  1.29552381e-03 -5.83083646e-04 -2.22851534e+01\n",
            "  8.29715054e-02  3.00782372e-01  1.36293748e-01  4.29621834e-03]\n"
          ]
        }
      ]
    },
    {
      "cell_type": "code",
      "metadata": {
        "id": "g5s7G5Npjwk9"
      },
      "source": [
        "y_pred = ridgereg.predict(X_test)"
      ],
      "execution_count": null,
      "outputs": []
    },
    {
      "cell_type": "code",
      "metadata": {
        "colab": {
          "base_uri": "https://localhost:8080/"
        },
        "id": "LX_uxvm_jwwH",
        "outputId": "7cbc3725-146c-4775-def5-5178b3c2d120"
      },
      "source": [
        "print(\"RMSE: \",np.sqrt(metrics.mean_squared_error(y_test, y_pred)))"
      ],
      "execution_count": null,
      "outputs": [
        {
          "output_type": "stream",
          "name": "stdout",
          "text": [
            "RMSE:  0.7607146212084632\n"
          ]
        }
      ]
    },
    {
      "cell_type": "markdown",
      "metadata": {
        "id": "81QOZGz6B_vZ"
      },
      "source": [
        "COMPARACIÓN Y ANÁLISIS DE COEFICIENTES\n",
        "\n",
        "De acuerdo al RMSE de ambos modelos, variando alpha, se tiene que el mejor modelo de Ridge es que tiene un alpha igual a 0.1"
      ]
    },
    {
      "cell_type": "markdown",
      "metadata": {
        "id": "lH8tHz38QwIE"
      },
      "source": [
        "# Ejercicio 4\n",
        "\n",
        "* Estimar una regresión lasso con alfa igual a 0,01, 0,1 y 1.\n",
        "* Comparar los coeficientes con la regresión lineal\n",
        "* Evaluar el RMSE"
      ]
    },
    {
      "cell_type": "code",
      "metadata": {
        "id": "0ssJaCEzQwIF",
        "colab": {
          "base_uri": "https://localhost:8080/"
        },
        "outputId": "d0c5b575-b499-4456-c419-25658585dfe8"
      },
      "source": [
        "from sklearn.linear_model import Lasso\n",
        "lassoreg = Lasso(alpha=0.001, normalize=True)\n",
        "lassoreg.fit(X_train, y_train)\n",
        "print(lassoreg.coef_)"
      ],
      "execution_count": null,
      "outputs": [
        {
          "output_type": "stream",
          "name": "stdout",
          "text": [
            "[ 0.         -0.88931213  0.          0.         -0.          0.\n",
            " -0.         -0.          0.          0.          0.25713438 -0.        ]\n"
          ]
        }
      ]
    },
    {
      "cell_type": "code",
      "metadata": {
        "id": "Sy6pL5wXll6S"
      },
      "source": [
        "y_pred = lassoreg.predict(X_test)"
      ],
      "execution_count": null,
      "outputs": []
    },
    {
      "cell_type": "code",
      "metadata": {
        "colab": {
          "base_uri": "https://localhost:8080/"
        },
        "id": "lpDdQZCYlpm_",
        "outputId": "bb4c2c98-c431-4d12-ac36-12fd4852a996"
      },
      "source": [
        "print(\"RMSE: \",np.sqrt(metrics.mean_squared_error(y_test, y_pred)))"
      ],
      "execution_count": null,
      "outputs": [
        {
          "output_type": "stream",
          "name": "stdout",
          "text": [
            "RMSE:  0.7456928791733419\n"
          ]
        }
      ]
    },
    {
      "cell_type": "code",
      "metadata": {
        "colab": {
          "base_uri": "https://localhost:8080/"
        },
        "id": "Pn7vDiOHkZXW",
        "outputId": "e7e3581b-ca16-45d9-be3f-cc395a058dcd"
      },
      "source": [
        "from sklearn.linear_model import Lasso\n",
        "lassoreg = Lasso(alpha=0.1, normalize=True)\n",
        "lassoreg.fit(X_train, y_train)\n",
        "print(lassoreg.coef_)"
      ],
      "execution_count": null,
      "outputs": [
        {
          "output_type": "stream",
          "name": "stdout",
          "text": [
            "[-0. -0.  0. -0. -0.  0. -0. -0.  0.  0.  0.  0.]\n"
          ]
        }
      ]
    },
    {
      "cell_type": "code",
      "metadata": {
        "id": "kH8b1v9Eltd9"
      },
      "source": [
        "y_pred = lassoreg.predict(X_test)"
      ],
      "execution_count": null,
      "outputs": []
    },
    {
      "cell_type": "code",
      "metadata": {
        "colab": {
          "base_uri": "https://localhost:8080/"
        },
        "id": "tqxP5vFhltpd",
        "outputId": "f7be49b1-cb58-4b23-dfe7-c99d406a08dd"
      },
      "source": [
        "print(\"RMSE: \",np.sqrt(metrics.mean_squared_error(y_test, y_pred)))"
      ],
      "execution_count": null,
      "outputs": [
        {
          "output_type": "stream",
          "name": "stdout",
          "text": [
            "RMSE:  0.8709345888926285\n"
          ]
        }
      ]
    },
    {
      "cell_type": "code",
      "metadata": {
        "colab": {
          "base_uri": "https://localhost:8080/"
        },
        "id": "SaWvh63BkdqV",
        "outputId": "4b3e856b-685c-4645-a79d-ab22bcd2ab6e"
      },
      "source": [
        "from sklearn.linear_model import Lasso\n",
        "lassoreg = Lasso(alpha=1, normalize=True)\n",
        "lassoreg.fit(X_train, y_train)\n",
        "print(lassoreg.coef_)"
      ],
      "execution_count": null,
      "outputs": [
        {
          "output_type": "stream",
          "name": "stdout",
          "text": [
            "[-0. -0.  0. -0. -0.  0. -0. -0.  0.  0.  0.  0.]\n"
          ]
        }
      ]
    },
    {
      "cell_type": "code",
      "metadata": {
        "id": "s8D9zsLPmGXm"
      },
      "source": [
        "y_pred = lassoreg.predict(X_test)"
      ],
      "execution_count": null,
      "outputs": []
    },
    {
      "cell_type": "code",
      "metadata": {
        "colab": {
          "base_uri": "https://localhost:8080/"
        },
        "id": "tGhBxKnbmJje",
        "outputId": "0f718056-8055-4f74-b080-bce151e2afa8"
      },
      "source": [
        "print(\"RMSE: \",np.sqrt(metrics.mean_squared_error(y_test, y_pred)))"
      ],
      "execution_count": null,
      "outputs": [
        {
          "output_type": "stream",
          "name": "stdout",
          "text": [
            "RMSE:  0.8709345888926285\n"
          ]
        }
      ]
    },
    {
      "cell_type": "markdown",
      "metadata": {
        "id": "SDnF-LBICEUU"
      },
      "source": [
        "COMPARACIÓN\n",
        "De acuerdo al RMSE de ambos modelos, variando alpha, se tiene que el mejor modelo de Lasso es que tiene un alpha igual a 0.001"
      ]
    },
    {
      "cell_type": "markdown",
      "metadata": {
        "id": "vyQOAeSaQwIG"
      },
      "source": [
        "# Ejercicio 5\n",
        "\n",
        "* Estandarizar las características (excepto la calidad del vino)\n",
        "\n",
        "* Crear una variable objetivo binaria para cada tipo de vino\n",
        "\n",
        "* Analizar los coeficientes\n",
        "\n",
        "* * Evalúe con F1, AUC-ROC y log-loss"
      ]
    },
    {
      "cell_type": "code",
      "metadata": {
        "id": "S37G0GQ8P4so"
      },
      "source": [
        "data_r = data_r.assign(type = 'red')\n",
        "data_w = data_w.assign(type = 'white')"
      ],
      "execution_count": 27,
      "outputs": []
    },
    {
      "cell_type": "code",
      "metadata": {
        "colab": {
          "base_uri": "https://localhost:8080/"
        },
        "id": "qwKtP6l6PCAd",
        "outputId": "b3226041-e120-471e-d9d1-a785c91799bf"
      },
      "source": [
        "X_r = data_r.drop(['quality', 'type'], axis = 1)\n",
        "y_r = data_r['quality']\n",
        "from sklearn.preprocessing import LabelEncoder\n",
        "labelencoder_y_r = LabelEncoder()\n",
        "y_r = labelencoder_y_r.fit_transform(y_r)\n",
        "y_r\n",
        "\n",
        "X_w = data_w.drop(['quality', 'type'], axis = 1)\n",
        "y_w = data_w['quality']\n",
        "from sklearn.preprocessing import LabelEncoder\n",
        "labelencoder_y_w = LabelEncoder()\n",
        "y_w = labelencoder_y_w.fit_transform(y_w)\n",
        "y_w"
      ],
      "execution_count": 28,
      "outputs": [
        {
          "output_type": "execute_result",
          "data": {
            "text/plain": [
              "array([3, 3, 3, ..., 3, 4, 3])"
            ]
          },
          "metadata": {},
          "execution_count": 28
        }
      ]
    },
    {
      "cell_type": "code",
      "metadata": {
        "id": "pQDE1NRYRE4K"
      },
      "source": [
        "from sklearn.model_selection import train_test_split\n",
        "X_train_r, X_test_r, y_train_r, y_test_r = train_test_split(X_r, y_r, test_size = 0.3, random_state = 0)\n",
        "X_train_w, X_test_w, y_train_w, y_test_w = train_test_split(X_w, y_w, test_size = 0.3, random_state = 0)"
      ],
      "execution_count": 32,
      "outputs": []
    },
    {
      "cell_type": "code",
      "metadata": {
        "collapsed": true,
        "id": "YkkWtGxqQwII"
      },
      "source": [
        "from sklearn.preprocessing import StandardScaler\n",
        "sc = StandardScaler()\n",
        "X_train_r = sc.fit_transform(X_train_r)\n",
        "X_test_r = sc.transform(X_test_r)\n",
        "\n",
        "X_train_w = sc.fit_transform(X_train_w)\n",
        "X_test_w = sc.transform(X_test_w)"
      ],
      "execution_count": 33,
      "outputs": []
    },
    {
      "cell_type": "code",
      "metadata": {
        "colab": {
          "base_uri": "https://localhost:8080/"
        },
        "id": "vV-HeImiTLca",
        "outputId": "b4663908-0605-4402-ac9c-0d784099a375"
      },
      "source": [
        "from sklearn.svm import SVC\n",
        "classifier_r = SVC(kernel = 'linear', random_state = 0)\n",
        "classifier_r.fit(X_train_r, y_train_r)\n",
        "\n",
        "classifier_w = SVC(kernel = 'linear', random_state = 0)\n",
        "classifier_w.fit(X_train_w, y_train_w)"
      ],
      "execution_count": 34,
      "outputs": [
        {
          "output_type": "execute_result",
          "data": {
            "text/plain": [
              "SVC(C=1.0, break_ties=False, cache_size=200, class_weight=None, coef0=0.0,\n",
              "    decision_function_shape='ovr', degree=3, gamma='scale', kernel='linear',\n",
              "    max_iter=-1, probability=False, random_state=0, shrinking=True, tol=0.001,\n",
              "    verbose=False)"
            ]
          },
          "metadata": {},
          "execution_count": 34
        }
      ]
    },
    {
      "cell_type": "markdown",
      "metadata": {
        "id": "amSxrrDYQwIJ"
      },
      "source": [
        "# Ejercicio 6\n",
        "\n",
        "* Estimar una regresión logística regularizada usando:\n",
        "* C = 0.01, 0.1 & 1.0\n",
        "* penalización = ['l1, 'l2']\n",
        "* Compare los coeficientes y la puntuación f1.\n",
        "\n",
        "Nota: Para los valores de C y Penalización, deben realizar todas las posibles combinaciones entre estas dos variables."
      ]
    },
    {
      "cell_type": "code",
      "metadata": {
        "collapsed": true,
        "id": "AGnOJ3-vQwIK",
        "colab": {
          "base_uri": "https://localhost:8080/"
        },
        "outputId": "8e5f1f47-88f0-4f5b-d917-626176a37d42"
      },
      "source": [
        "logreg_r_001l1 = LogisticRegression(C=0.01, penalty='l1',solver='liblinear')\n",
        "logreg_r_001l1.fit(X_train_r, y_train_r)\n",
        "y_pred_r_001l1 = logreg_r_001l1.predict(X_test_r)\n",
        "\n",
        "logreg_r_001l2 = LogisticRegression(C=0.01, penalty='l2',solver='liblinear')\n",
        "logreg_r_001l2.fit(X_train_r, y_train_r)\n",
        "y_pred_r_001l2 = logreg_r_001l2.predict(X_test_r)\n",
        "print(logreg_r_001l1.coef_)\n",
        "print(\"\\n\")\n",
        "print(logreg_r_001l2.coef_)"
      ],
      "execution_count": 47,
      "outputs": [
        {
          "output_type": "stream",
          "name": "stdout",
          "text": [
            "[[ 0.          0.          0.          0.          0.          0.\n",
            "   0.          0.          0.          0.          0.        ]\n",
            " [ 0.          0.          0.          0.          0.          0.\n",
            "   0.          0.          0.          0.          0.        ]\n",
            " [ 0.          0.02751837  0.          0.          0.          0.\n",
            "   0.09568896  0.          0.          0.         -0.44191946]\n",
            " [ 0.          0.          0.          0.          0.          0.\n",
            "   0.          0.          0.          0.          0.        ]\n",
            " [ 0.         -0.03036697  0.          0.          0.          0.\n",
            "   0.          0.          0.          0.          0.21376175]\n",
            " [ 0.          0.          0.          0.          0.          0.\n",
            "   0.          0.          0.          0.          0.        ]]\n",
            "\n",
            "\n",
            "[[ 1.08784905e-02  6.15731737e-02 -7.62351654e-03 -1.54797090e-03\n",
            "   2.46519675e-02 -2.66752597e-04 -2.01016674e-02 -1.77908080e-03\n",
            "   1.98174666e-02 -7.06734295e-03  2.23015751e-03]\n",
            " [ 1.58198935e-03  1.28999683e-01 -7.85738811e-03  2.27337311e-02\n",
            "   2.98866104e-02 -1.28258085e-02 -4.51625678e-02 -1.31514853e-02\n",
            "   5.63314948e-02 -1.34690060e-02 -1.99261928e-02]\n",
            " [-1.40982767e-01  2.05873221e-01 -4.43601566e-02 -7.52596187e-02\n",
            "   1.06892423e-01 -1.27486378e-02  3.55533111e-01  1.46943114e-01\n",
            "  -4.78416463e-02 -2.92466062e-01 -5.01300631e-01]\n",
            " [ 1.87543449e-02 -1.49772476e-01 -8.33596661e-02 -3.69162288e-02\n",
            "  -4.02004268e-02  5.91104713e-02 -2.17149323e-01  4.77153679e-02\n",
            "  -6.94975800e-03  1.13795099e-01  1.36518153e-01]\n",
            " [ 1.13722231e-01 -2.39104429e-01  1.17878904e-01  8.70704562e-02\n",
            "  -1.03958619e-01 -3.83250120e-02 -1.00345533e-01 -1.42923668e-01\n",
            "   2.06805658e-02  1.93158984e-01  3.34864170e-01]\n",
            " [-7.40943812e-03 -1.03833434e-02  2.74323810e-02  1.80588834e-03\n",
            "  -1.72501468e-02 -1.84550640e-03 -1.43356132e-02 -3.46750929e-02\n",
            "  -2.04805553e-02  2.04179880e-02  6.73981041e-02]]\n"
          ]
        }
      ]
    },
    {
      "cell_type": "code",
      "metadata": {
        "colab": {
          "base_uri": "https://localhost:8080/"
        },
        "id": "xxq0ar5cVlQB",
        "outputId": "6c95361c-3475-471e-c6bf-1312a1d04e9e"
      },
      "source": [
        "logreg_r_01l1 = LogisticRegression(C=0.1, penalty='l1',solver='liblinear')\n",
        "logreg_r_01l1.fit(X_train_r, y_train_r)\n",
        "y_pred_r_01l1 = logreg_r_01l1.predict(X_test_r)\n",
        "\n",
        "logreg_r_01l2 = LogisticRegression(C=0.1, penalty='l2',solver='liblinear')\n",
        "logreg_r_01l2.fit(X_train_r, y_train_r)\n",
        "y_pred_r_01l2 = logreg_r_01l2.predict(X_test_r)\n",
        "print(logreg_r_01l1.coef_)\n",
        "print(\"\\n\")\n",
        "print(logreg_r_01l2.coef_)"
      ],
      "execution_count": 48,
      "outputs": [
        {
          "output_type": "stream",
          "name": "stdout",
          "text": [
            "[[ 0.          0.338891    0.          0.          0.          0.\n",
            "   0.          0.          0.          0.          0.        ]\n",
            " [ 0.          0.495135    0.          0.          0.          0.\n",
            "  -0.02989183  0.          0.06850841  0.          0.        ]\n",
            " [-0.06199971  0.24579868  0.         -0.03902332  0.10349935 -0.06518376\n",
            "   0.49237662  0.          0.         -0.37105946 -0.81577781]\n",
            " [ 0.         -0.16697425 -0.06561349  0.         -0.01536912  0.0839927\n",
            "  -0.3041385   0.01434631  0.          0.11882304  0.11813057]\n",
            " [ 0.11051327 -0.68115963  0.          0.05757191 -0.10423332  0.\n",
            "  -0.17450709  0.          0.          0.32774722  0.77428364]\n",
            " [ 0.          0.          0.          0.          0.          0.\n",
            "   0.          0.          0.          0.          0.42802444]]\n",
            "\n",
            "\n",
            "[[ 0.09440392  0.28676027 -0.01596053 -0.00751322  0.12222222  0.02716955\n",
            "  -0.11661408 -0.023818    0.11399427 -0.03407456  0.00377476]\n",
            " [ 0.07552104  0.42438916  0.05857471  0.11176416  0.09934833 -0.00364612\n",
            "  -0.19818181 -0.12149988  0.24247892 -0.02427909 -0.14029505]\n",
            " [-0.32830125  0.25868375  0.0523822  -0.16422376  0.14801249 -0.14014615\n",
            "   0.56884994  0.26779267 -0.08146565 -0.46554402 -0.70350684]\n",
            " [-0.0942051  -0.24846361 -0.21642669 -0.10364094 -0.04899991  0.18715115\n",
            "  -0.39638327  0.25149207 -0.10875952  0.14192645  0.26707963]\n",
            " [ 0.38799957 -0.54657257  0.0827195   0.24483278 -0.21488559 -0.03428943\n",
            "  -0.23312797 -0.34679182  0.16857937  0.43205819  0.55523385]\n",
            " [-0.08092699 -0.00205863  0.14042017 -0.00536033 -0.09416094  0.01030797\n",
            "  -0.08381548 -0.11622046 -0.12478192  0.0934122   0.27921238]]\n"
          ]
        }
      ]
    },
    {
      "cell_type": "code",
      "metadata": {
        "colab": {
          "base_uri": "https://localhost:8080/"
        },
        "id": "v70NQG14Vqxo",
        "outputId": "a4212d88-c7b6-42a8-9460-261b28125985"
      },
      "source": [
        "logreg_r_1l1 = LogisticRegression(C=1, penalty='l1',solver='liblinear')\n",
        "logreg_r_1l1.fit(X_train_r, y_train_r)\n",
        "y_pred_r_1l1 = logreg_r_1l1.predict(X_test_r)\n",
        "\n",
        "\n",
        "logreg_r_1l2 = LogisticRegression(C=1, penalty='l2',solver='liblinear')\n",
        "logreg_r_1l2.fit(X_train_r, y_train_r)\n",
        "y_pred_r_1l2 = logreg_r_1l2.predict(X_test_r)\n",
        "print(logreg_r_1l1.coef_)\n",
        "print(\"\\n\")\n",
        "print(logreg_r_1l2.coef_)"
      ],
      "execution_count": 49,
      "outputs": [
        {
          "output_type": "stream",
          "name": "stdout",
          "text": [
            "[[ 0.          1.00343573 -0.14025681  0.          0.43310995  0.15500996\n",
            "  -0.60294994  0.13941284  0.33217488  0.          0.        ]\n",
            " [ 0.07662218  0.68862998  0.12217693  0.20406729  0.14606722  0.00125185\n",
            "  -0.39742741 -0.18115624  0.44230093  0.         -0.32996579]\n",
            " [-0.37557104  0.26205554  0.07229582 -0.18075093  0.15146849 -0.16887544\n",
            "   0.61154478  0.30058227 -0.08735271 -0.49763167 -0.73679462]\n",
            " [-0.14834662 -0.26862457 -0.23917244 -0.1268596  -0.04558692  0.2155485\n",
            "  -0.43649837  0.32446368 -0.14439845  0.13539343  0.3096397 ]\n",
            " [ 0.65391634 -0.75313436  0.          0.35745704 -0.24828709 -0.00705381\n",
            "  -0.31891284 -0.52661127  0.30768008  0.56271529  0.62982712]\n",
            " [-0.45306215  0.          0.52922522 -0.16134754 -0.45476999  0.\n",
            "  -0.41174272 -0.15301146 -0.49334066  0.34510344  1.04470398]]\n",
            "\n",
            "\n",
            "[[ 4.77466802e-01  7.07523551e-01 -1.84272725e-01 -6.50846804e-02\n",
            "   4.43192275e-01  3.01693523e-01 -5.89170025e-01  6.77000724e-04\n",
            "   4.74455923e-01 -1.49253601e-01 -9.75552996e-02]\n",
            " [ 3.75862121e-01  6.68571922e-01  1.64344824e-01  2.82159948e-01\n",
            "   1.69632283e-01  6.80599096e-02 -4.47026840e-01 -4.60298842e-01\n",
            "   5.90248068e-01 -8.41775590e-04 -4.83864243e-01]\n",
            " [-4.42639719e-01  2.71119715e-01  9.50023401e-02 -2.01730495e-01\n",
            "   1.49560448e-01 -1.70905132e-01  6.10945205e-01  3.53187489e-01\n",
            "  -1.20340983e-01 -5.12134672e-01 -7.14086368e-01]\n",
            " [-2.09300554e-01 -2.76707875e-01 -2.45219046e-01 -1.50156768e-01\n",
            "  -5.52534480e-02  2.30548281e-01 -4.55226937e-01  3.85791402e-01\n",
            "  -1.83679794e-01  1.34042970e-01  3.42342424e-01]\n",
            " [ 7.02194493e-01 -7.34193033e-01  2.43940657e-03  3.79277294e-01\n",
            "  -2.56856693e-01 -2.35091800e-02 -3.11397147e-01 -5.76988305e-01\n",
            "   3.42219496e-01  5.72704018e-01  5.96210723e-01]\n",
            " [-5.28809243e-01  1.18837169e-01  5.49018105e-01 -1.60476011e-01\n",
            "  -4.37054196e-01  1.09607303e-01 -4.25891916e-01 -1.17783342e-01\n",
            "  -5.01592744e-01  2.97257165e-01  8.02061086e-01]]\n"
          ]
        }
      ]
    },
    {
      "cell_type": "code",
      "metadata": {
        "colab": {
          "base_uri": "https://localhost:8080/"
        },
        "id": "76SnIU7bV_F3",
        "outputId": "4b413940-8b50-4e64-f87d-37392fdb87bd"
      },
      "source": [
        "logreg_w_001l1 = LogisticRegression(C=0.01, penalty='l1',solver='liblinear')\n",
        "logreg_w_001l1.fit(X_train_w, y_train_w)\n",
        "y_pred_w_001l1 = logreg_w_001l1.predict(X_test_w)\n",
        "\n",
        "\n",
        "logreg_w_001l2 = LogisticRegression(C=0.01, penalty='l2',solver='liblinear')\n",
        "logreg_w_001l2.fit(X_train_w, y_train_w)\n",
        "y_pred_w_001l2 = logreg_w_001l2.predict(X_test_w)\n",
        "print(logreg_w_001l1.coef_)\n",
        "print(\"\\n\")\n",
        "print(logreg_w_001l2.coef_)"
      ],
      "execution_count": 50,
      "outputs": [
        {
          "output_type": "stream",
          "name": "stdout",
          "text": [
            "[[ 0.          0.          0.          0.          0.          0.\n",
            "   0.          0.          0.          0.          0.        ]\n",
            " [ 0.          0.01263959  0.          0.          0.          0.\n",
            "   0.          0.          0.          0.          0.        ]\n",
            " [ 0.          0.26403383  0.          0.          0.          0.\n",
            "   0.          0.          0.          0.         -0.72275365]\n",
            " [ 0.         -0.19894215  0.          0.          0.          0.\n",
            "   0.          0.          0.          0.          0.        ]\n",
            " [ 0.         -0.08232186  0.          0.          0.          0.\n",
            "   0.          0.          0.          0.          0.58715501]\n",
            " [ 0.          0.          0.          0.          0.          0.\n",
            "   0.          0.          0.          0.          0.08956002]\n",
            " [ 0.          0.          0.          0.          0.          0.\n",
            "   0.          0.          0.          0.          0.        ]]\n",
            "\n",
            "\n",
            "[[ 3.65446137e-02  1.65151767e-02 -7.93767184e-03  3.34567699e-03\n",
            "   2.43040575e-02  1.68854185e-02  2.33984985e-02  1.88146403e-03\n",
            "   3.22551135e-03  4.36507366e-04  2.33638593e-02]\n",
            " [ 5.66191228e-02  2.16594603e-01 -3.65427704e-02 -1.52078113e-01\n",
            "   1.60581435e-02 -1.76514732e-01 -4.21552721e-02  7.85806098e-02\n",
            "   3.95261673e-02 -1.36467081e-02 -1.47308734e-01]\n",
            " [ 1.41847077e-02  3.41034646e-01  3.52008399e-02 -2.33070293e-01\n",
            "   7.85676111e-02 -1.18523126e-01  1.19833317e-01  2.25215118e-01\n",
            "  -8.59509472e-02 -1.33294536e-01 -6.68815029e-01]\n",
            " [-4.63900345e-02 -2.99592707e-01 -4.28248361e-03  7.49360777e-02\n",
            "  -1.99748630e-02  3.21154083e-02 -2.90095147e-02  4.37834184e-03\n",
            "  -3.50157073e-02  2.04938756e-02  8.43791408e-02]\n",
            " [ 2.03775763e-02 -2.29279344e-01 -4.74285283e-02  1.76192840e-01\n",
            "  -1.81207604e-01  9.13890052e-02 -5.76667111e-02 -2.34467540e-01\n",
            "   9.81459893e-02  1.15714096e-01  5.04599053e-01]\n",
            " [-4.25251086e-03 -8.86009874e-03  2.22830841e-02  9.56875483e-02\n",
            "  -2.75773614e-02  1.05022796e-01 -3.09781536e-02 -8.80495599e-02\n",
            "   6.05629374e-02 -1.11889093e-03  2.56420424e-01]\n",
            " [ 1.63948635e-02  4.40561199e-03  7.64193373e-03  3.61733547e-03\n",
            "  -7.54771741e-03  4.36756938e-03 -3.75097538e-03 -7.24037057e-03\n",
            "   1.61047450e-02 -4.20286885e-03  1.48055989e-02]]\n"
          ]
        }
      ]
    },
    {
      "cell_type": "code",
      "metadata": {
        "colab": {
          "base_uri": "https://localhost:8080/"
        },
        "id": "9Ctjo_HmWMTV",
        "outputId": "82c8efdc-07b6-41be-b0b4-d915d54ef660"
      },
      "source": [
        "logreg_w_01l1 = LogisticRegression(C=0.1, penalty='l1',solver='liblinear')\n",
        "logreg_w_01l1.fit(X_train_w, y_train_w)\n",
        "y_pred_w_01l1 = logreg_w_01l1.predict(X_test_w)\n",
        "\n",
        "\n",
        "logreg_w_01l2 = LogisticRegression(C=0.1, penalty='l2',solver='liblinear')\n",
        "logreg_w_01l2.fit(X_train_w, y_train_w)\n",
        "y_pred_w_01l2 = logreg_w_01l2.predict(X_test_w)\n",
        "print(logreg_w_01l1.coef_)\n",
        "print(\"\\n\")\n",
        "print(logreg_w_01l2.coef_)"
      ],
      "execution_count": 51,
      "outputs": [
        {
          "output_type": "stream",
          "name": "stdout",
          "text": [
            "[[ 0.06890872  0.          0.          0.          0.          0.\n",
            "   0.02998304  0.          0.          0.          0.        ]\n",
            " [ 0.02823946  0.47664712  0.         -0.43362226  0.         -0.73885293\n",
            "   0.          0.20529698  0.          0.         -0.43479798]\n",
            " [ 0.0571254   0.41954337  0.04540148 -0.19752113  0.02595598 -0.11865738\n",
            "   0.09719706  0.         -0.04404472 -0.13432828 -1.06798765]\n",
            " [-0.03931973 -0.33480939  0.          0.07778067 -0.00557109  0.00522217\n",
            "   0.          0.         -0.02231102  0.00606755  0.09358997]\n",
            " [ 0.         -0.39176056 -0.07231864  0.18056806 -0.2899718   0.07491936\n",
            "   0.         -0.07415108  0.09472467  0.12955386  0.85459978]\n",
            " [ 0.         -0.04610691  0.          0.14653173  0.          0.22590035\n",
            "   0.          0.          0.09541404  0.          0.878318  ]\n",
            " [ 0.          0.          0.          0.          0.          0.\n",
            "   0.          0.          0.          0.          0.        ]]\n",
            "\n",
            "\n",
            "[[ 0.20752703  0.0774364  -0.05131946  0.02549177  0.11431466  0.08255215\n",
            "   0.12446176  0.01120728  0.02963658 -0.00354191  0.14764901]\n",
            " [ 0.08881019  0.43720214 -0.04817261 -0.57841038 -0.00208571 -0.56627977\n",
            "  -0.07075422  0.45735111  0.0769867  -0.03366161 -0.3245833 ]\n",
            " [-0.01749712  0.41886767  0.0545877  -0.44271611  0.02697969 -0.14373809\n",
            "   0.12043053  0.37766144 -0.12198823 -0.17695089 -0.87994053]\n",
            " [-0.06563153 -0.3450155  -0.01050262  0.06359146 -0.01417447  0.02949309\n",
            "  -0.02671902  0.05694654 -0.05229957  0.02072055  0.13493876]\n",
            " [ 0.15686637 -0.39934099 -0.10348196  0.55813562 -0.29730201  0.104608\n",
            "  -0.02519681 -0.63163497  0.22033616  0.17816227  0.592343  ]\n",
            " [ 0.07221657 -0.0801213   0.04901808  0.40376905 -0.04166496  0.28074199\n",
            "  -0.10940965 -0.27255668  0.20510322  0.00899931  0.66131736]\n",
            " [ 0.10926216  0.02668677  0.04314961  0.0375459  -0.04503456  0.03174854\n",
            "  -0.02433977 -0.05548086  0.10794937 -0.02517544  0.08020219]]\n"
          ]
        }
      ]
    },
    {
      "cell_type": "code",
      "metadata": {
        "colab": {
          "base_uri": "https://localhost:8080/"
        },
        "id": "h9QUUa-LWPkl",
        "outputId": "09712948-555b-4bda-f4cc-068d8386bdfb"
      },
      "source": [
        "logreg_w_1l1 = LogisticRegression(C=1, penalty='l1',solver='liblinear')\n",
        "logreg_w_1l1.fit(X_train_w, y_train_w)\n",
        "y_pred_w_1l1 = logreg_w_1l1.predict(X_test_w)\n",
        "\n",
        "\n",
        "logreg_w_1l2 = LogisticRegression(C=1, penalty='l2',solver='liblinear')\n",
        "logreg_w_1l2.fit(X_train_w, y_train_w)\n",
        "y_pred_w_1l2 = logreg_w_1l2.predict(X_test_w)\n",
        "print(logreg_w_1l1.coef_)\n",
        "print(\"\\n\")\n",
        "print(logreg_w_1l2.coef_)"
      ],
      "execution_count": 52,
      "outputs": [
        {
          "output_type": "stream",
          "name": "stdout",
          "text": [
            "[[ 0.83376981  0.17318554 -0.15104167  0.14581155  0.27548482  0.18785\n",
            "   0.45075913  0.          0.080807    0.          0.53960137]\n",
            " [-0.1193914   0.51379746 -0.05331249 -1.47554647 -0.03896258 -0.89789427\n",
            "  -0.09763956  1.68268087 -0.08721981 -0.09029182  0.        ]\n",
            " [-0.02891865  0.42983799  0.05532866 -0.50436916  0.0154752  -0.14031753\n",
            "   0.11185708  0.44664535 -0.13369033 -0.18376712 -0.8955301 ]\n",
            " [-0.06292669 -0.34954976 -0.00988784  0.0711016  -0.01199187  0.02569783\n",
            "  -0.02174604  0.04482222 -0.04956427  0.01983233  0.13155432]\n",
            " [ 0.32509365 -0.43242382 -0.10991767  1.03583953 -0.2933775   0.0803729\n",
            "   0.02087049 -1.35562587  0.3550928   0.22569718  0.30463356]\n",
            " [ 0.22315608 -0.14934577  0.0463274   0.85455607 -0.02863665  0.35531441\n",
            "  -0.13257272 -0.76507799  0.36365386  0.03778616  0.72667767]\n",
            " [ 1.0532889   0.          0.0605861   0.         -1.65306049  0.\n",
            "   0.          0.          1.07217155 -0.04701793  0.84348114]]\n",
            "\n",
            "\n",
            "[[ 0.70188166  0.17027977 -0.18509061  0.16239634  0.26025493  0.1763759\n",
            "   0.36815261  0.03506178  0.15646925 -0.05371401  0.51859945]\n",
            " [-0.13103644  0.50522107 -0.05835724 -1.43421239 -0.04296427 -0.85469578\n",
            "  -0.10305939  1.6528794  -0.10411054 -0.09755353  0.02831255]\n",
            " [-0.04672264  0.42927202  0.05694069 -0.5453899   0.01452547 -0.14293128\n",
            "   0.11345895  0.51181266 -0.1479759  -0.18938056 -0.86344312]\n",
            " [-0.07720761 -0.35116216 -0.01164252  0.03687054 -0.0144454   0.03025459\n",
            "  -0.02831916  0.1047824  -0.06190105  0.01848649  0.16180367]\n",
            " [ 0.31995524 -0.4357795  -0.1149391   1.01075258 -0.30113189  0.08235124\n",
            "   0.02232644 -1.31202679  0.35033389  0.22453751  0.32804753]\n",
            " [ 0.25233825 -0.14773853  0.05297817  0.90590084 -0.03771975  0.36127436\n",
            "  -0.14802322 -0.84865247  0.38406658  0.04848202  0.66475758]\n",
            " [ 0.63851423  0.09085931  0.13665134  0.30511818 -0.47249076  0.16459145\n",
            "  -0.10818823 -0.43729271  0.63259464 -0.09414355  0.26803883]]\n"
          ]
        }
      ]
    },
    {
      "cell_type": "markdown",
      "metadata": {
        "id": "2W_bxk5JX67t"
      },
      "source": [
        "Haciendo un análisis general de todos los coeficientes, se observa que a medida que la penalización es mayor (valores más pequeños de C), más pequeños son los coeficientes. Además, cuando la penalización es tipo l1 (lasso) los coeficientes de la mayoría de las variables son 0, cuando la penalización es muy alta."
      ]
    },
    {
      "cell_type": "markdown",
      "metadata": {
        "id": "4DbuHBn7QwHu"
      },
      "source": [
        "# SVM"
      ]
    },
    {
      "cell_type": "markdown",
      "metadata": {
        "id": "0kggmI76QwHv"
      },
      "source": [
        "# Ejercicio 7\n",
        "\n",
        "Teniendo en cuenta las mismas variables de la regresión logística:\n",
        "\n",
        "* Crear un objetivo binario para cada tipo de vino\n",
        "* Crear dos SVM lineales para los vinos blancos y tintos, respectivamente.\n"
      ]
    },
    {
      "cell_type": "code",
      "metadata": {
        "collapsed": true,
        "id": "lsL5zSQmQwHz",
        "colab": {
          "base_uri": "https://localhost:8080/"
        },
        "outputId": "a00f56ae-6424-4413-888c-0358183bbc64"
      },
      "source": [
        "X_r = data_r.drop(['quality', 'type'], axis = 1)\n",
        "y_r = data_r['quality']\n",
        "from sklearn.preprocessing import LabelEncoder\n",
        "labelencoder_y_r = LabelEncoder()\n",
        "y_r = labelencoder_y_r.fit_transform(y_r)\n",
        "y_r\n",
        "\n",
        "X_w = data_w.drop(['quality', 'type'], axis = 1)\n",
        "y_w = data_w['quality']\n",
        "from sklearn.preprocessing import LabelEncoder\n",
        "labelencoder_y_w = LabelEncoder()\n",
        "y_w = labelencoder_y_w.fit_transform(y_w)\n",
        "y_w"
      ],
      "execution_count": 53,
      "outputs": [
        {
          "output_type": "execute_result",
          "data": {
            "text/plain": [
              "array([3, 3, 3, ..., 3, 4, 3])"
            ]
          },
          "metadata": {},
          "execution_count": 53
        }
      ]
    },
    {
      "cell_type": "code",
      "metadata": {
        "id": "eMb2QQuKeYH4"
      },
      "source": [
        "from sklearn.model_selection import train_test_split\n",
        "X_train_r, X_test_r, y_train_r, y_test_r = train_test_split(X_r, y_r, test_size = 0.3, random_state = 0)\n",
        "X_train_w, X_test_w, y_train_w, y_test_w = train_test_split(X_w, y_w, test_size = 0.3, random_state = 0)"
      ],
      "execution_count": 55,
      "outputs": []
    },
    {
      "cell_type": "code",
      "metadata": {
        "id": "Y2MjfVaVepaX"
      },
      "source": [
        "from sklearn.preprocessing import StandardScaler\n",
        "sc = StandardScaler()\n",
        "X_train_r = sc.fit_transform(X_train_r)\n",
        "X_test_r = sc.transform(X_test_r)\n",
        "\n",
        "X_train_w = sc.fit_transform(X_train_w)\n",
        "X_test_w = sc.transform(X_test_w)"
      ],
      "execution_count": 56,
      "outputs": []
    },
    {
      "cell_type": "code",
      "metadata": {
        "colab": {
          "base_uri": "https://localhost:8080/"
        },
        "id": "vkut4Yvdes7H",
        "outputId": "9c2240ed-3702-4d93-923a-a02df435e36a"
      },
      "source": [
        "from sklearn.svm import SVC\n",
        "classifier_r = SVC(kernel = 'linear', random_state = 0)\n",
        "classifier_r.fit(X_train_r, y_train_r)\n",
        "\n",
        "classifier_w = SVC(kernel = 'linear', random_state = 0)\n",
        "classifier_w.fit(X_train_w, y_train_w)"
      ],
      "execution_count": 57,
      "outputs": [
        {
          "output_type": "execute_result",
          "data": {
            "text/plain": [
              "SVC(C=1.0, break_ties=False, cache_size=200, class_weight=None, coef0=0.0,\n",
              "    decision_function_shape='ovr', degree=3, gamma='scale', kernel='linear',\n",
              "    max_iter=-1, probability=False, random_state=0, shrinking=True, tol=0.001,\n",
              "    verbose=False)"
            ]
          },
          "metadata": {},
          "execution_count": 57
        }
      ]
    },
    {
      "cell_type": "markdown",
      "metadata": {
        "id": "auNsSHtsQwH1"
      },
      "source": [
        "# Ejercicio 8\n",
        "\n",
        "* Probar las dos SVM utilizando los diferentes kernels ('poly', 'rbf', 'sigmoid')\n",
        "* Evalúe con F1, AUC-ROC y log-loss\n"
      ]
    },
    {
      "cell_type": "code",
      "metadata": {
        "collapsed": true,
        "id": "f6adIqmAQwH4",
        "colab": {
          "base_uri": "https://localhost:8080/"
        },
        "outputId": "258ca9b1-2e70-46ce-a9d3-d5ead1d69a50"
      },
      "source": [
        "from sklearn.model_selection import cross_val_score\n",
        "classifier_r_rbf = SVC(kernel = 'rbf', random_state = 0)\n",
        "classifier_r_rbf.fit(X_train_r, y_train_r)\n",
        "y_pred_r_rbf = classifier_r_rbf.predict(X_test_r)\n",
        "\n",
        "accuracies_r_rbf = cross_val_score(estimator = classifier_r_rbf, X = X_train_r,\n",
        "                             y = y_train_r, cv = 10)\n",
        "\n",
        "classifier_r_poly = SVC(kernel = 'poly', random_state = 0)\n",
        "classifier_r_poly.fit(X_train_r, y_train_r)\n",
        "y_pred_r_poly = classifier_r_poly.predict(X_test_r)\n",
        "\n",
        "accuracies_r_poly = cross_val_score(estimator = classifier_r_poly, X = X_train_r,\n",
        "                             y = y_train_r, cv = 10)\n",
        "classifier_r_sig = SVC(kernel = 'sigmoid', random_state = 0)\n",
        "classifier_r_sig.fit(X_train_r, y_train_r)\n",
        "y_pred_r_sig = classifier_r_sig.predict(X_test_r)\n",
        "\n",
        "accuracies_r_sig = cross_val_score(estimator = classifier_r_sig, X = X_train_r,\n",
        "                             y = y_train_r, cv = 10)\n",
        "\n",
        "print(\"Precisión del SVM con kernel-rbf en base de vinos rojos :\"+\" \"+str(accuracies_r_rbf.mean()))\n",
        "print(\"Precisión del SVM con kernel-poly en base de vinos rojos :\"+\" \"+str(accuracies_r_poly.mean()))\n",
        "print(\"Precisión del SVM con kernel-sigmoid en base de vinos rojos :\"+\" \"+str(accuracies_r_sig.mean()))"
      ],
      "execution_count": 59,
      "outputs": [
        {
          "output_type": "stream",
          "name": "stderr",
          "text": [
            "/usr/local/lib/python3.7/dist-packages/sklearn/model_selection/_split.py:667: UserWarning: The least populated class in y has only 7 members, which is less than n_splits=10.\n",
            "  % (min_groups, self.n_splits)), UserWarning)\n",
            "/usr/local/lib/python3.7/dist-packages/sklearn/model_selection/_split.py:667: UserWarning: The least populated class in y has only 7 members, which is less than n_splits=10.\n",
            "  % (min_groups, self.n_splits)), UserWarning)\n",
            "/usr/local/lib/python3.7/dist-packages/sklearn/model_selection/_split.py:667: UserWarning: The least populated class in y has only 7 members, which is less than n_splits=10.\n",
            "  % (min_groups, self.n_splits)), UserWarning)\n"
          ]
        },
        {
          "output_type": "stream",
          "name": "stdout",
          "text": [
            "Precisión del SVM con kernel-rbf en base de vinos rojos : 0.6050112612612614\n",
            "Precisión del SVM con kernel-poly en base de vinos rojos : 0.5817728442728443\n",
            "Precisión del SVM con kernel-sigmoid en base de vinos rojos : 0.5219031531531532\n"
          ]
        }
      ]
    },
    {
      "cell_type": "code",
      "metadata": {
        "colab": {
          "base_uri": "https://localhost:8080/"
        },
        "id": "MR8DO-Myf1_v",
        "outputId": "377855af-a4b6-477a-88d0-4c30e70ef04b"
      },
      "source": [
        "classifier_w_rbf = SVC(kernel = 'rbf', random_state = 0)\n",
        "classifier_w_rbf.fit(X_train_w, y_train_w)\n",
        "y_pred_w_rbf = classifier_w_rbf.predict(X_test_w)\n",
        "\n",
        "accuracies_w_rbf = cross_val_score(estimator = classifier_w_rbf, X = X_train_w,\n",
        "                             y = y_train_w, cv = 10)\n",
        "\n",
        "classifier_w_poly = SVC(kernel = 'poly', random_state = 0)\n",
        "classifier_w_poly.fit(X_train_w, y_train_w)\n",
        "y_pred_w_poly = classifier_w_poly.predict(X_test_w)\n",
        "\n",
        "accuracies_w_poly = cross_val_score(estimator = classifier_w_poly, X = X_train_w,\n",
        "                             y = y_train_w, cv = 10)\n",
        "\n",
        "classifier_w_sig = SVC(kernel = 'sigmoid', random_state = 0)\n",
        "classifier_w_sig.fit(X_train_w, y_train_w)\n",
        "y_pred_w_sig = classifier_w_sig.predict(X_test_w)\n",
        "\n",
        "accuracies_w_sig = cross_val_score(estimator = classifier_w_sig, X = X_train_w,\n",
        "                             y = y_train_w, cv = 10)\n",
        "print(\"Precisión del SVM con kernel-rbf en base de vinos blancos :\"+\" \"+str(accuracies_w_rbf.mean()))\n",
        "print(\"Precisión del SVM con kernel-poly en base de vinos blancos :\"+\" \"+str(accuracies_w_poly.mean()))\n",
        "print(\"Precisión del SVM con kernel-sigmoid en base de vinos blancos :\"+\" \"+str(accuracies_w_sig.mean()))"
      ],
      "execution_count": 60,
      "outputs": [
        {
          "output_type": "stream",
          "name": "stderr",
          "text": [
            "/usr/local/lib/python3.7/dist-packages/sklearn/model_selection/_split.py:667: UserWarning: The least populated class in y has only 5 members, which is less than n_splits=10.\n",
            "  % (min_groups, self.n_splits)), UserWarning)\n",
            "/usr/local/lib/python3.7/dist-packages/sklearn/model_selection/_split.py:667: UserWarning: The least populated class in y has only 5 members, which is less than n_splits=10.\n",
            "  % (min_groups, self.n_splits)), UserWarning)\n",
            "/usr/local/lib/python3.7/dist-packages/sklearn/model_selection/_split.py:667: UserWarning: The least populated class in y has only 5 members, which is less than n_splits=10.\n",
            "  % (min_groups, self.n_splits)), UserWarning)\n"
          ]
        },
        {
          "output_type": "stream",
          "name": "stdout",
          "text": [
            "Precisión del SVM con kernel-rbf en base de vinos blancos : 0.5688413209895488\n",
            "Precisión del SVM con kernel-poly en base de vinos blancos : 0.53178695036912\n",
            "Precisión del SVM con kernel-sigmoid en base de vinos blancos : 0.43785825106985155\n"
          ]
        }
      ]
    },
    {
      "cell_type": "markdown",
      "metadata": {
        "id": "DHBmMhtYQwH6"
      },
      "source": [
        "# Ejercicio 9\n",
        "* Utilizando el mejor SVM encontrar los parámetros que da el mejor rendimiento teniendo en cuenta los siguientes hiperparámetros\n",
        "'C': [0.1, 1, 10, 100, 1000], 'gamma': [0.01, 0.001, 0.0001]\n",
        "* Evalúe cada modelo con F1, AUC-ROC y log-loss\n",
        "\n",
        "Nota: Para los valores de C y gamma, deben realizar todas las posibles combinaciones entre estas dos variables."
      ]
    },
    {
      "cell_type": "code",
      "metadata": {
        "collapsed": true,
        "id": "3d6wqybPQwH8",
        "colab": {
          "base_uri": "https://localhost:8080/"
        },
        "outputId": "8352cb1c-4e14-411e-b00a-8f5e861cd06a"
      },
      "source": [
        "from sklearn.model_selection import GridSearchCV\n",
        "parameters_r = [{'C': [0.1,1, 10, 100, 1000], 'kernel': ['rbf'],\n",
        "               'gamma': [0.01, 0.001, 0.0001]}]\n",
        "grid_search_r = GridSearchCV(estimator = classifier_r_rbf,\n",
        "                           param_grid = parameters_r,\n",
        "                           scoring = 'accuracy',\n",
        "                           cv = 10,)\n",
        "grid_search_r.fit(X_train_r, y_train_r)\n",
        "best_accuracy_r = grid_search_r.best_score_\n",
        "best_parameters_r = grid_search_r.best_params_\n",
        "print(best_accuracy_r)\n",
        "print(best_parameters_r)"
      ],
      "execution_count": 68,
      "outputs": [
        {
          "output_type": "stream",
          "name": "stderr",
          "text": [
            "/usr/local/lib/python3.7/dist-packages/sklearn/model_selection/_split.py:667: UserWarning: The least populated class in y has only 7 members, which is less than n_splits=10.\n",
            "  % (min_groups, self.n_splits)), UserWarning)\n"
          ]
        },
        {
          "output_type": "stream",
          "name": "stdout",
          "text": [
            "0.6059202059202059\n",
            "{'C': 1000, 'gamma': 0.01, 'kernel': 'rbf'}\n"
          ]
        }
      ]
    },
    {
      "cell_type": "code",
      "metadata": {
        "colab": {
          "base_uri": "https://localhost:8080/"
        },
        "id": "nwoxeLKKikAV",
        "outputId": "83faadb9-d464-4b53-8b19-c5b0e0df99ea"
      },
      "source": [
        "parameters_w = [{'C': [0.1,1, 10, 100, 1000], 'kernel': ['rbf'],\n",
        "               'gamma': [0.01, 0.001, 0.0001]}]\n",
        "grid_search_w = GridSearchCV(estimator = classifier_w_rbf,\n",
        "                           param_grid = parameters_w,\n",
        "                           scoring = 'accuracy',\n",
        "                           cv = 10,)\n",
        "grid_search_w.fit(X_train_w, y_train_w)\n",
        "best_accuracy_w = grid_search_w.best_score_\n",
        "best_parameters_w = grid_search_w.best_params_\n",
        "print(best_accuracy_w)\n",
        "print(best_parameters_w)"
      ],
      "execution_count": 69,
      "outputs": [
        {
          "output_type": "stream",
          "name": "stderr",
          "text": [
            "/usr/local/lib/python3.7/dist-packages/sklearn/model_selection/_split.py:667: UserWarning: The least populated class in y has only 5 members, which is less than n_splits=10.\n",
            "  % (min_groups, self.n_splits)), UserWarning)\n"
          ]
        },
        {
          "output_type": "stream",
          "name": "stdout",
          "text": [
            "0.5644604709051542\n",
            "{'C': 1000, 'gamma': 0.01, 'kernel': 'rbf'}\n"
          ]
        }
      ]
    },
    {
      "cell_type": "markdown",
      "metadata": {
        "id": "XjgVQ_WTQwH9"
      },
      "source": [
        "# Ejercicio 10\n",
        "\n",
        "Compare los resultados con todos los anteriores modelos y eliga ¿Cuál algoritmo con cuáles hiperparámetros es el que tiene mejor rendimiento según la puntuación F1, AUC-ROC y log-loss?"
      ]
    },
    {
      "cell_type": "code",
      "metadata": {
        "colab": {
          "base_uri": "https://localhost:8080/"
        },
        "id": "w1y2D0Iijjw_",
        "outputId": "1ddc99be-5706-4c17-dc81-ae088fd5ecf9"
      },
      "source": [
        "from sklearn.linear_model import LogisticRegression\n",
        "logreg_r = LogisticRegression(solver='liblinear',C=1e9)\n",
        "grid={\"C\":np.logspace(-3,3,7), \"penalty\":[\"l1\",\"l2\"]}\n",
        "logreg_cv=GridSearchCV(logreg_r,grid,cv=10)\n",
        "logreg_cv.fit(X_train_r,y_train_r)\n",
        "                                        \n",
        "best_accuracy_log_r = logreg_cv.best_score_\n",
        "best_parameters_log_r = logreg_cv.best_params_         \n",
        "                    \n",
        "print(best_accuracy_log_r)\n",
        "print(best_parameters_log_r)"
      ],
      "execution_count": 67,
      "outputs": [
        {
          "output_type": "stream",
          "name": "stderr",
          "text": [
            "/usr/local/lib/python3.7/dist-packages/sklearn/model_selection/_split.py:667: UserWarning: The least populated class in y has only 7 members, which is less than n_splits=10.\n",
            "  % (min_groups, self.n_splits)), UserWarning)\n"
          ]
        },
        {
          "output_type": "stream",
          "name": "stdout",
          "text": [
            "0.5772844272844273\n",
            "{'C': 0.1, 'penalty': 'l2'}\n"
          ]
        }
      ]
    },
    {
      "cell_type": "code",
      "metadata": {
        "colab": {
          "base_uri": "https://localhost:8080/"
        },
        "id": "MQugPkQfku_F",
        "outputId": "3a82d9fe-69c4-4e60-9945-c8459a0368a7"
      },
      "source": [
        "logreg_w = LogisticRegression(solver='liblinear',C=1e9)\n",
        "grid={\"C\":np.logspace(-3,3,7), \"penalty\":[\"l1\",\"l2\"]}\n",
        "logreg_cv=GridSearchCV(logreg_w,grid,cv=10)\n",
        "logreg_cv.fit(X_train_w,y_train_w)\n",
        "                                        \n",
        "best_accuracy_log_w = logreg_cv.best_score_\n",
        "best_parameters_log_w = logreg_cv.best_params_         \n",
        "\n",
        "print(best_accuracy_log_w)\n",
        "print(best_parameters_log_w)"
      ],
      "execution_count": 70,
      "outputs": [
        {
          "output_type": "stream",
          "name": "stderr",
          "text": [
            "/usr/local/lib/python3.7/dist-packages/sklearn/model_selection/_split.py:667: UserWarning: The least populated class in y has only 5 members, which is less than n_splits=10.\n",
            "  % (min_groups, self.n_splits)), UserWarning)\n"
          ]
        },
        {
          "output_type": "stream",
          "name": "stdout",
          "text": [
            "0.5364584931717047\n",
            "{'C': 1.0, 'penalty': 'l2'}\n"
          ]
        }
      ]
    },
    {
      "cell_type": "markdown",
      "metadata": {
        "id": "mtQYF30fVPnF"
      },
      "source": [
        "Como conclusión, para los dos tipos de vino (blanco y rojo) la medida de precisión es más alta cuando se implementa un modelo de SVM comparado con la regresión logística."
      ]
    },
    {
      "cell_type": "code",
      "metadata": {
        "id": "OLjtzbaSlvmM"
      },
      "source": [
        ""
      ],
      "execution_count": null,
      "outputs": []
    }
  ]
}